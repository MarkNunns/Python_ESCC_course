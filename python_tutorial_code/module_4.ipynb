{
 "cells": [
  {
   "cell_type": "code",
   "execution_count": 1,
   "metadata": {},
   "outputs": [],
   "source": [
    "import pandas as pd\n",
    "import numpy as np"
   ]
  },
  {
   "cell_type": "code",
   "execution_count": 2,
   "metadata": {},
   "outputs": [
    {
     "data": {
      "text/html": [
       "<div>\n",
       "<style scoped>\n",
       "    .dataframe tbody tr th:only-of-type {\n",
       "        vertical-align: middle;\n",
       "    }\n",
       "\n",
       "    .dataframe tbody tr th {\n",
       "        vertical-align: top;\n",
       "    }\n",
       "\n",
       "    .dataframe thead th {\n",
       "        text-align: right;\n",
       "    }\n",
       "</style>\n",
       "<table border=\"1\" class=\"dataframe\">\n",
       "  <thead>\n",
       "    <tr style=\"text-align: right;\">\n",
       "      <th></th>\n",
       "      <th>ChildId</th>\n",
       "      <th>Age first contact</th>\n",
       "      <th>Gender</th>\n",
       "      <th>Birthday</th>\n",
       "      <th>Age</th>\n",
       "      <th>CP Plan?</th>\n",
       "    </tr>\n",
       "  </thead>\n",
       "  <tbody>\n",
       "    <tr>\n",
       "      <th>0</th>\n",
       "      <td>id1</td>\n",
       "      <td>6</td>\n",
       "      <td>M</td>\n",
       "      <td>2002-01-01</td>\n",
       "      <td>5</td>\n",
       "      <td>Y</td>\n",
       "    </tr>\n",
       "    <tr>\n",
       "      <th>1</th>\n",
       "      <td>id2</td>\n",
       "      <td>12</td>\n",
       "      <td>m</td>\n",
       "      <td>2003-02-02</td>\n",
       "      <td>12</td>\n",
       "      <td>n</td>\n",
       "    </tr>\n",
       "    <tr>\n",
       "      <th>2</th>\n",
       "      <td>id3</td>\n",
       "      <td>11</td>\n",
       "      <td>F</td>\n",
       "      <td>NaT</td>\n",
       "      <td>11</td>\n",
       "      <td>N</td>\n",
       "    </tr>\n",
       "    <tr>\n",
       "      <th>3</th>\n",
       "      <td>id4</td>\n",
       "      <td>1</td>\n",
       "      <td></td>\n",
       "      <td>2023-03-03</td>\n",
       "      <td>6</td>\n",
       "      <td>No</td>\n",
       "    </tr>\n",
       "    <tr>\n",
       "      <th>4</th>\n",
       "      <td>id5</td>\n",
       "      <td>19</td>\n",
       "      <td>F</td>\n",
       "      <td>2012-01-06</td>\n",
       "      <td>2</td>\n",
       "      <td>yES</td>\n",
       "    </tr>\n",
       "  </tbody>\n",
       "</table>\n",
       "</div>"
      ],
      "text/plain": [
       "  ChildId  Age first contact Gender   Birthday  Age CP Plan?\n",
       "0     id1                  6      M 2002-01-01    5        Y\n",
       "1     id2                 12      m 2003-02-02   12        n\n",
       "2     id3                 11      F        NaT   11        N\n",
       "3     id4                  1        2023-03-03    6       No\n",
       "4     id5                 19      F 2012-01-06    2      yES"
      ]
     },
     "execution_count": 2,
     "metadata": {},
     "output_type": "execute_result"
    }
   ],
   "source": [
    "# We've touched on some iterators now, but honestly, lots of the time we might want to iterate, there may\n",
    "# be another built in method or funciton that will do the same thing but quicker. It's still important to know\n",
    "# how they work though. Let's look at conditionals and equalities now. We'll get back a dataframe from an older\n",
    "# session so as to not re-write it from scratch. First, we'll look briefly at equalities as they will often be\n",
    "# important for structuring our conditionals.\n",
    "\n",
    "df = pd.DataFrame({'ChildId':['id1', 'id2', 'id3', 'id4', 'id5'],\n",
    "                   'Age first contact':[6,12,11,1,19],\n",
    "                   'Gender':['M','m', 'F', '', 'F' ],\n",
    "                   'Birthday':['01/01/2002', '02/02/2003', pd.NA, '03/03/2023', '06/01/2012'],\n",
    "                   'Age':[5,12,11,6,2],\n",
    "                   'CP Plan?':['Y', 'n', 'N', 'No', 'yES'],})\n",
    "df['Birthday'] = pd.to_datetime(df['Birthday'], dayfirst=True)\n",
    "df"
   ]
  },
  {
   "cell_type": "code",
   "execution_count": 3,
   "metadata": {},
   "outputs": [
    {
     "name": "stdout",
     "output_type": "stream",
     "text": [
      "0     True\n",
      "1    False\n",
      "2    False\n",
      "3    False\n",
      "4     True\n",
      "dtype: bool\n",
      "  ChildId  Age first contact Gender   Birthday  Age CP Plan?\n",
      "0     id1                  6      M 2002-01-01    5        Y\n",
      "4     id5                 19      F 2012-01-06    2      yES\n"
     ]
    }
   ],
   "source": [
    "# Let's make a selection of row thats are off in the dataframe and have errors, lets say where there is an error in ages, you can' be younger than\n",
    "# your age of first contact, now can you?\n",
    "\n",
    "condition = df['Age'] < df['Age first contact'] # This returns True or False in each row based on whether the condition is satisfied\n",
    "print(condition)\n",
    "\n",
    "# This looks at the trues and falses, and only takes rows where it's true for the new df\n",
    "# We can negate this by using a ~ operator which means 'not'\n",
    "error_df = df[condition] \n",
    "print(error_df)\n",
    "\n",
    "# We could actually write it like this, all in one line:\n",
    "# error_df = df[df['Age'] < df['Age first contact']]\n",
    "# But for learning the original way is clearer"
   ]
  },
  {
   "cell_type": "code",
   "execution_count": 4,
   "metadata": {},
   "outputs": [
    {
     "name": "stdout",
     "output_type": "stream",
     "text": [
      "False\n",
      "True\n",
      "True\n",
      "True\n"
     ]
    }
   ],
   "source": [
    "# The most common operators we will use are &, |, ~, <, >, ==, !=, <=, >= which are: and, or, not, less than,\n",
    "# greater than, equals, not equal, greater/equal, less/equal in order. With the <>, remember, the crocodile eats the\n",
    "# bigger number! If you're unclear about how logical operators work: & will return true when both requirements are\n",
    "# satisfied, | will return true if one OR the other is satisfied, or both (so, at least one) Lets see this with some examples..\n",
    "\n",
    "print(((1 > 2) & (2 == 2))) # false, because 1 is not greater than 2 and both need to be true\n",
    "print(((1 > 2) | (2 == 2))) # True because at least one of the components is true, even though 1 is not greater than 2\n",
    "print(((3 > 2) | (2 == 2))) # Still true, as at least one is true\n",
    "print(((3 > 2) & (2 == 2))) # Only strue because both are true"
   ]
  },
  {
   "cell_type": "code",
   "execution_count": 5,
   "metadata": {},
   "outputs": [],
   "source": [
    "# In this cell, writet a logical test that fails an and condition, but passes an or condition, and print both"
   ]
  },
  {
   "cell_type": "code",
   "execution_count": 6,
   "metadata": {},
   "outputs": [
    {
     "name": "stdout",
     "output_type": "stream",
     "text": [
      "Then i must be zero\n",
      "1 is odd\n",
      "2 is even\n",
      "3 is odd\n",
      "4 is even\n",
      "5 is odd\n",
      "6 is even\n",
      "7 is odd\n",
      "8 is even\n",
      "9 is odd\n"
     ]
    }
   ],
   "source": [
    "# Conditionals also come in the form of if/elif/else/while etc statements, which often use the logical operators seen above.\n",
    "# They can be though of as giving some framework to tell Python whether or not to do an action, or what action to perform\n",
    "# given the value of some piece of data or state in the code. For instance, you might want to run a piece of code only if\n",
    "# the data it processes has been validated to not have errors, which you can do with conditionals. In more complex code,\n",
    "# you might want to run a piece of code differently based on user inputs or what data has been passed to the code,\n",
    "# which again, can be handled with conditionals. Let's have a look at some simple examples.\n",
    "\n",
    "some_numbers = list(range(10))\n",
    "for i in some_numbers:\n",
    "    if (i %2 == 0) & (i != 0): # Just like loops, everything indented after an if happens if the if is satisfied\n",
    "        print(f'{i} is even')\n",
    "    elif i %2 != 0: # Elif is useful as it says if the previous condition is not satisfied, if this condition is satisfied, do this\n",
    "        print(f'{i} is odd')\n",
    "    else:\n",
    "        print('Then i must be zero') # 'else' means, if all the ifs and elifs fail, do this."
   ]
  },
  {
   "cell_type": "code",
   "execution_count": 7,
   "metadata": {},
   "outputs": [
    {
     "name": "stdout",
     "output_type": "stream",
     "text": [
      "bananna\n",
      "apple\n",
      "orange\n",
      "pear\n"
     ]
    }
   ],
   "source": [
    "fruits = ['bananna', 'apple', 'orange', 'pear', 'plum']\n",
    "for fruit in fruits:\n",
    "    if 'a' in fruit: # in is really useful in conditionals if we need a piece of data to contain, or not contain, some other piece of data\n",
    "        print(fruit)"
   ]
  },
  {
   "cell_type": "code",
   "execution_count": 8,
   "metadata": {},
   "outputs": [
    {
     "name": "stdout",
     "output_type": "stream",
     "text": [
      "0 is even\n",
      "0 is divisble by 3\n",
      "i isn't even, or divisble by 3\n",
      "2 is even\n",
      "i isn't even, or divisble by 3\n",
      "3 is divisble by 3\n",
      "4 is even\n",
      "i isn't even, or divisble by 3\n",
      "i isn't even, or divisble by 3\n",
      "6 is even\n",
      "6 is divisble by 3\n",
      "i isn't even, or divisble by 3\n",
      "8 is even\n",
      "i isn't even, or divisble by 3\n",
      "9 is divisble by 3\n"
     ]
    }
   ],
   "source": [
    "for i in some_numbers:\n",
    "    if (i %2 == 0): \n",
    "        print(f'{i} is even')\n",
    "    if i %3 == 0: # We can also have multiple ifs on the same level, meaning that each is checked individually, and will each happen if each is true\n",
    "        print(f'{i} is divisble by 3')\n",
    "    else:\n",
    "        print(\"i isn't even, or divisble by 3\") # 'else' means, if all the ifs and elifs fail, do this."
   ]
  },
  {
   "cell_type": "code",
   "execution_count": 9,
   "metadata": {},
   "outputs": [
    {
     "name": "stdout",
     "output_type": "stream",
     "text": [
      "0 is either zero, or isn't even, or divisble by 3\n",
      "1 is either zero, or isn't even, or divisble by 3\n",
      "2 is even, but not divisible by 3\n",
      "3 is either zero, or isn't even, or divisble by 3\n",
      "4 is even, but not divisible by 3\n",
      "5 is either zero, or isn't even, or divisble by 3\n",
      "6 is divisible by 3 and 2\n",
      "7 is either zero, or isn't even, or divisble by 3\n",
      "8 is even, but not divisible by 3\n",
      "9 is either zero, or isn't even, or divisble by 3\n"
     ]
    }
   ],
   "source": [
    "for i in some_numbers:\n",
    "    if (i %2 == 0) & (i != 0): \n",
    "        if i %3 == 0: # We can also chain if elses, and place them within eachother. Don't use too many levels of this if possible, it can get confusing\n",
    "            print(f\"{i} is divisible by 3 and 2\")\n",
    "        else:\n",
    "            print(f\"{i} is even, but not divisible by 3\")\n",
    "    else:\n",
    "        print(f\"{i} is either zero, or isn't even, or divisble by 3\") # 'else' means, if all the ifs and elifs fail, do this."
   ]
  },
  {
   "cell_type": "code",
   "execution_count": 10,
   "metadata": {},
   "outputs": [
    {
     "name": "stdout",
     "output_type": "stream",
     "text": [
      "0\n",
      "1\n",
      "2\n",
      "3\n",
      "4\n",
      "5\n",
      "6\n",
      "7\n",
      "8\n",
      "9\n"
     ]
    }
   ],
   "source": [
    "# 'while' is useful, it allows an action/loop to be continued until some set of conditions is satisfied. In some statistical work,\n",
    "# for instance, one might continue to run some calculation until errors hit an acceptable level, we coulld also use while to\n",
    "# keep running an operation a number of times. See the simple implementation below.\n",
    "\n",
    "x = 0\n",
    "while x < 10: # Checks the value of x, if it's less than 10, it runs the loop. There's lots of ways to get the same outcome, but this is clean.\n",
    "    print(x)\n",
    "    x += 1 # x is equal to x plus 1"
   ]
  },
  {
   "cell_type": "code",
   "execution_count": 11,
   "metadata": {},
   "outputs": [],
   "source": [
    "# Group work for session 4\n",
    "# Write a loop that sums all the even numbers up to 100, all the odd numbers up to 100, and assigns each answer to a seprate variable.\n",
    "# A narcissistic number (named after the Narcissus of Greek myth, a handsome hunter who fell in love with his own reflection) is\n",
    "# one such that if you take each digit of the number, raise them separately to the power of how many digits there are and then\n",
    "# add these together, you return to your original number. For instance 9^4 + 4^4 + 7^4 + 4^4 = 9474 (where ^ is to the power of) is\n",
    "# a narcissistic number as each of the digits that make it up (9, 4, 7, 4) to the power of the number of digits making\n",
    "# it up (4) added together makes 9474. Use this knowledge to write a loop which returns the first 20 narcissitic numbers as a list, and stops looping when it gets 20 entries.\n",
    "\n",
    "# As always, there's a 'learn to google' extension to the assignment. Place your narcisitic numbers loop inside another\n",
    "# loop that changes the length of the list found to create lists with the first 10, 20, and 30 narcisitic numbers.\n",
    "# As well as this, work out a way to time how long each version of the loop takes to make each list and assign the answers to\n",
    "# variables so you can print something like 'finding the first narcissistic numbers in a for loop takes seconds' for 10, 20, and 30."
   ]
  }
 ],
 "metadata": {
  "kernelspec": {
   "display_name": "Python 3",
   "language": "python",
   "name": "python3"
  },
  "language_info": {
   "codemirror_mode": {
    "name": "ipython",
    "version": 3
   },
   "file_extension": ".py",
   "mimetype": "text/x-python",
   "name": "python",
   "nbconvert_exporter": "python",
   "pygments_lexer": "ipython3",
   "version": "3.10.13"
  }
 },
 "nbformat": 4,
 "nbformat_minor": 2
}
