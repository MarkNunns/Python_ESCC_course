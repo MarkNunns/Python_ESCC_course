{
 "cells": [
  {
   "cell_type": "code",
   "execution_count": null,
   "metadata": {},
   "outputs": [],
   "source": [
    "# Session 9 - building an app\n",
    "\n",
    "# The Python code in this app exercise is similar to other Python code written in previous sessions.\n",
    "# So, Session 9 is more about how to put an app together. \n",
    "\n",
    "# in GitHub codespace, our app & associated files will be put in this folder:\n",
    "# \\python_tutorial_code\\903_header_app\\\n",
    "\n",
    "# our app will be built in this file:\n",
    "# \\python_tutorial_code\\903_header_app\\app.py\n",
    "\n",
    "# For apps (or just this particular app?), there are a few extra bits of preparation work:\n",
    "\n",
    "# \\python_tutorial_code\\903_header_app\\requirements.txt\n",
    "# write \"plotly\" in this text file\n",
    "\n",
    "# You need to install the   'sf-nova' app in your GitHub codespace\n",
    "# for this and other relevant instructions see in MN's PC:\n",
    "# D:\\Mark\\work\\04 ESCC\\a training\\2024 Python\\Sessions 09 and 10\\\n",
    "\n",
    "\n",
    "# The app will be designed to work on this file...\n",
    "# https://docs.google.com/spreadsheets/d/1GqberJip6sgi3L7JBg8nBMiORti8HO8dtzmtg1votJo/edit#gid=979097872\n",
    "\n",
    "# downloaded this file as a .csv file (important to select the right file format) and then saved locally to:\n",
    "# \\\\eschdata\\Strategic_Resourcing_CS$\\Performance Improvement Team\\ad hoc\\MN jobs\\a MN work\\Python\\Session_9\\\n",
    "\n",
    "# useful guidance\n",
    "# https://docs.streamlit.io/\n",
    "# https://docs.streamlit.io/develop/api-reference/text/st.title\n",
    "\n",
    "\n",
    "\n",
    "\n",
    "\n",
    "# Session 10 -  building an app\n",
    "#               publishing app on web\n",
    "\n",
    "# To publish an app on the web, you must be using a public GitHub repository, not a private repository."
   ]
  }
 ],
 "metadata": {
  "language_info": {
   "name": "python"
  }
 },
 "nbformat": 4,
 "nbformat_minor": 2
}
