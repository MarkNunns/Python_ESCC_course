{
 "cells": [
  {
   "cell_type": "code",
   "execution_count": 1,
   "metadata": {},
   "outputs": [],
   "source": [
    "# a lot of the work in the 5th session is found in module_3"
   ]
  },
  {
   "cell_type": "code",
   "execution_count": null,
   "metadata": {},
   "outputs": [],
   "source": [
    "# this cell is similar to work in module_1\n",
    "number = [1,2,3]\n",
    "letter = ['a','b','c']\n",
    "animal = ['cat','dog','rat']\n",
    "zippo = zip(number, letter, animal)\n",
    "print(list(zippo))\n",
    "\n",
    "for num, let, an in zippo:\n",
    "    print(f'the number is: {num},  the letter is: {let}')"
   ]
  },
  {
   "cell_type": "code",
   "execution_count": null,
   "metadata": {},
   "outputs": [],
   "source": [
    "import pandas as pd\n",
    "df = pd.DataFrame({'Numbers':number,\n",
    "                   'Letters':letter,\n",
    "                   'Animals':animal})\n",
    "even_or_odd = lambda row: 'even' if row % 2 == 0 else 'odd'\n",
    "df['Even or Odd'] = df['Numbers'].apply(even_or_odd)\n",
    "print(df)\n",
    "df"
   ]
  },
  {
   "cell_type": "code",
   "execution_count": null,
   "metadata": {},
   "outputs": [],
   "source": [
    "import pandas as pd\n",
    "df = pd.DataFrame({'Numbers':number,\n",
    "                   'Letters':letter,\n",
    "                   'Animals':animal})\n",
    "for row in df.index:\n",
    "    print(row)"
   ]
  }
 ],
 "metadata": {
  "kernelspec": {
   "display_name": "Python 3",
   "language": "python",
   "name": "python3"
  },
  "language_info": {
   "codemirror_mode": {
    "name": "ipython",
    "version": 3
   },
   "file_extension": ".py",
   "mimetype": "text/x-python",
   "name": "python",
   "nbconvert_exporter": "python",
   "pygments_lexer": "ipython3",
   "version": "3.12.1"
  }
 },
 "nbformat": 4,
 "nbformat_minor": 2
}
