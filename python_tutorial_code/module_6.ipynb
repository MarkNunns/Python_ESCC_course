{
 "cells": [
  {
   "cell_type": "code",
   "execution_count": null,
   "metadata": {},
   "outputs": [],
   "source": [
    "# this cell shows how Python can be used ia useful context\n",
    "\n",
    "import pandas as pd\n",
    "\n",
    "filename_1 = 'https://raw.githubusercontent.com/data-to-insight/ERN-sessions/main/data/ChildCharacteristics.csv'\n",
    "filename_2 = 'https://raw.githubusercontent.com/data-to-insight/ERN-sessions/main/data/ChildIdentifiers.csv'\n",
    "\n",
    "filepaths = [filename_1,filename_2]\n",
    "for filepath in filepaths:\n",
    "     print(filepath)"
   ]
  },
  {
   "cell_type": "code",
   "execution_count": null,
   "metadata": {},
   "outputs": [],
   "source": [
    "dfs = {}\n",
    "\n",
    "for i, v in enumerate(filepaths):\n",
    "    dfs[i] = pd.read_csv(filepaths[i])\n",
    "\n",
    "# print(dfs[1])\n",
    "df = pd.merge(dfs[0], dfs[1], on='LAchildID', how=\"outer\")\n",
    "print(df)"
   ]
  },
  {
   "cell_type": "code",
   "execution_count": null,
   "metadata": {},
   "outputs": [],
   "source": [
    "df = pd.DataFrame({'ChildId':['id1', 'id2', 'id3', 'id4', 'id5'],\n",
    "                   'Age first contact':[6,12,11,1,19],\n",
    "                   'Gender':['M','m', 'F', '', 'F' ],\n",
    "                   'Birthday':['01/01/2002', '02/02/2003', pd.NA, '03/03/2023', '06/01/2012'],\n",
    "                   'Age':[5,12,11,6,2],\n",
    "                   'CP Plan?':['Y', 'n', 'N', 'No', 'yES'],})\n",
    "df['Birthday'] = pd.to_datetime(df['Birthday'], dayfirst=True)\n",
    "df"
   ]
  },
  {
   "cell_type": "code",
   "execution_count": null,
   "metadata": {},
   "outputs": [],
   "source": [
    "# Revision\n",
    "# ==  equal to\n",
    "# !=  not equal to\n",
    "# ~   NOT\n",
    "# &   AND\n",
    "# |   OR\n",
    "# > greater than\n",
    "# < less than\n",
    "# >= greater than or equal to\n",
    "# <= less than or equal to\n",
    "# % is a modulo operator, it gives the remainder when i is divided by e.g. 2 in this example"
   ]
  },
  {
   "cell_type": "code",
   "execution_count": null,
   "metadata": {},
   "outputs": [],
   "source": [
    "# make slices in our dataframe based on some conditions (like SELECT/WHERE in SQL)\n",
    "condition1 = df['Age'] >= 10\n",
    "# print(condition1)\n",
    "\n",
    "over_10 = df[condition1]\n",
    "print(over_10)\n",
    "print(over_10)"
   ]
  },
  {
   "cell_type": "code",
   "execution_count": null,
   "metadata": {},
   "outputs": [],
   "source": [
    "# practice exercise\n",
    "condition2 = df['Age first contact'] <= 9\n",
    "under_10 = df[condition2]\n",
    "print(under_10)"
   ]
  },
  {
   "cell_type": "code",
   "execution_count": null,
   "metadata": {},
   "outputs": [],
   "source": [
    "# demonstrating simple DF slicing, firstly without using the NOT operator (~)\n",
    "error_rows1 = df[df['Age first contact'] > df['Age']]\n",
    "print(error_rows1)"
   ]
  },
  {
   "cell_type": "code",
   "execution_count": null,
   "metadata": {},
   "outputs": [],
   "source": [
    "# look at how the NOT operator is used here (~)\n",
    "error_rows2 = df[~(df['Age first contact'] > df['Age'])]\n",
    "print(error_rows2)"
   ]
  },
  {
   "cell_type": "code",
   "execution_count": null,
   "metadata": {},
   "outputs": [],
   "source": [
    "print((1 > 2))\n",
    "print((2 == 2))\n",
    "print((1 > 2) & (2 == 2))\n",
    "print((1 > 2) | (2 == 2))\n",
    "print((3 > 2) & (2 == 2))\n",
    "print((3 > 2) | (2 == 2))\n",
    "print((1 > 2) | ((2 == 2) & (1 >2)))"
   ]
  },
  {
   "cell_type": "code",
   "execution_count": null,
   "metadata": {},
   "outputs": [],
   "source": [
    "isna_condition = (df['Birthday'].isna()) & (df['Age'] > 9)\n",
    "print(df[isna_condition])\n",
    "\n",
    "notna_condition = (df['Birthday'].notna()) & (df['Age'] > 9)\n",
    "print(df[notna_condition])\n",
    "\n",
    "str_condition = df['CP Plan?'].str.lower().str.contains('y')\n",
    "print(df[str_condition])\n",
    "\n",
    "check_list = [12, 11]\n",
    "condition_11_12 = df['Age'].isin(check_list)\n",
    "print(df[condition_11_12])"
   ]
  },
  {
   "cell_type": "code",
   "execution_count": null,
   "metadata": {},
   "outputs": [],
   "source": [
    "condition3 = df['CP Plan?'].str.lower().str.contains('n') | (df['Gender'].str.lower() == 'm')\n",
    "print(df[condition3])"
   ]
  },
  {
   "cell_type": "code",
   "execution_count": null,
   "metadata": {},
   "outputs": [],
   "source": [
    "# slice the dataframe where the age is 6 or 11, using a single .isin()\n",
    "condition4a = df['Age'].isin([6,11])\n",
    "print(df[condition4a])"
   ]
  },
  {
   "cell_type": "code",
   "execution_count": null,
   "metadata": {},
   "outputs": [],
   "source": [
    "# slice the dataframe where the age is 6 or 11, using two ==s phrases in one bracket\n",
    "condition4b = ((df['Age'] == 6) | (df['Age'] == 11))\n",
    "six_eleven = df[condition4b]\n",
    "print(six_eleven)"
   ]
  },
  {
   "cell_type": "code",
   "execution_count": null,
   "metadata": {},
   "outputs": [],
   "source": [
    "# slice the dataframe where the age is 6 or 9 and the CP Plan? is 'Y'\n",
    "condition5 = df['Age'].isin([6,9]) & (df['CP Plan?'] == 'Y')\n",
    "print(df[condition5])"
   ]
  },
  {
   "cell_type": "code",
   "execution_count": null,
   "metadata": {},
   "outputs": [],
   "source": [
    "numbers = list(range(1,11))\n",
    "\n",
    "# % is a modulo operator, it gives the remainder when i is divided by e.g. 2 in this example\n",
    "for i in numbers:\n",
    "    if i % 2 == 0:\n",
    "        print('The number is even')\n",
    "    elif i == 9:\n",
    "        print('The number is nine')\n",
    "    else:\n",
    "        print('The number is odd, but not 9')\n"
   ]
  },
  {
   "cell_type": "code",
   "execution_count": null,
   "metadata": {},
   "outputs": [],
   "source": [
    "numbers = list(range(1, 11))\n",
    "\n",
    "# !=  means Not Equal To\n",
    "\n",
    "for i in numbers:\n",
    "   if i < 6:\n",
    "       if i % 2 == 0:\n",
    "           print('The number is even.')\n",
    "       if i == 2:\n",
    "           print(f'{i}')\n",
    "       elif i % 2 != 0:\n",
    "           print('The number is odd')\n",
    "   else: \n",
    "       print('it was greater than 6')"
   ]
  },
  {
   "cell_type": "code",
   "execution_count": null,
   "metadata": {},
   "outputs": [],
   "source": [
    "# Group work for session 6 - Part 1\n",
    "# Using what we've seen about loops and conditionals.\n",
    "\n",
    "# fizzbang exercise. Take all the numbers form 1-100, print them, BUT if the number is divisible by 3,\n",
    "# print fizz, if it's divisible by 5, print bang, if it is divisible by 3 & 5, print fizzbang,\n",
    "#  in other cases just print the number.\n",
    "\n",
    "# Use suitable variable and iterator names, aim to write just a few lines of good clean code where possible,\n",
    "# write suitable comments for your code, etc.\n",
    "\n",
    "onehundred = list(range(1, 101))\n",
    "\n",
    "for i in onehundred:\n",
    "    if (i % 3 == 0) & (i % 5 == 0):\n",
    "        print('fizzbang')\n",
    "    elif i % 3 == 0:\n",
    "        print('fizz')\n",
    "    elif i % 5 == 0:\n",
    "        print('bang')\n",
    "    else:\n",
    "        print(i)"
   ]
  },
  {
   "cell_type": "code",
   "execution_count": null,
   "metadata": {},
   "outputs": [],
   "source": [
    "# Group work for session 6 - Part 2\n",
    "# Using what we've seen about loops and conditionals.\n",
    "\n",
    "# The second task is harder, and will test your ability to google for solutions.\n",
    "# I want you to write some code that simulates a coin flip and produces a heads or a tails.\n",
    "# I would like you to write that code such that it keeps running until the number of\n",
    "# heads produced by the code is the same as the number of tails.\n",
    "# As an extension, it would be a good exercise to try packaging it up in a function, AND,\n",
    "# running the simulation multiple times to find an average number of flips needed for the\n",
    "# number of heads to equal the number of tails.\n",
    "# TIP: this might be a good place to start https://docs.python.org/3/library/random.html"
   ]
  }
 ],
 "metadata": {
  "kernelspec": {
   "display_name": "Python 3",
   "language": "python",
   "name": "python3"
  },
  "language_info": {
   "codemirror_mode": {
    "name": "ipython",
    "version": 3
   },
   "file_extension": ".py",
   "mimetype": "text/x-python",
   "name": "python",
   "nbconvert_exporter": "python",
   "pygments_lexer": "ipython3",
   "version": "3.10.13"
  }
 },
 "nbformat": 4,
 "nbformat_minor": 2
}
