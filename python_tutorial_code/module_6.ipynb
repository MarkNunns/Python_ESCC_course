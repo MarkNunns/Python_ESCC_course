{
 "cells": [
  {
   "cell_type": "code",
   "execution_count": 1,
   "metadata": {},
   "outputs": [
    {
     "name": "stdout",
     "output_type": "stream",
     "text": [
      "https://raw.githubusercontent.com/data-to-insight/ERN-sessions/main/data/ChildCharacteristics.csv\n",
      "https://raw.githubusercontent.com/data-to-insight/ERN-sessions/main/data/ChildIdentifiers.csv\n"
     ]
    }
   ],
   "source": [
    "# this cell shows how Python can be used ia useful context\n",
    "\n",
    "import pandas as pd\n",
    "\n",
    "filename_1 = 'https://raw.githubusercontent.com/data-to-insight/ERN-sessions/main/data/ChildCharacteristics.csv'\n",
    "filename_2 = 'https://raw.githubusercontent.com/data-to-insight/ERN-sessions/main/data/ChildIdentifiers.csv'\n",
    "\n",
    "filepaths = [filename_1,filename_2]\n",
    "for filepath in filepaths:\n",
    "     print(filepath)"
   ]
  },
  {
   "cell_type": "code",
   "execution_count": 2,
   "metadata": {},
   "outputs": [
    {
     "name": "stdout",
     "output_type": "stream",
     "text": [
      "     Unnamed: 0_x        LAchildID Ethnicity  Unnamed: 0_y            UPN  \\\n",
      "0               0  RND000215205141      WIRT             0  A850728973744   \n",
      "1               1  RND000824303014      WROM             1  A141396438491   \n",
      "2               2  RND000750143123      AOTH             2  A929946861554   \n",
      "3               3  RND000909164501      MWBC             3  A612330267292   \n",
      "4               4  RND000382171815      APKN             4  A604459366806   \n",
      "..            ...              ...       ...           ...            ...   \n",
      "327           327  RND000112711501      WOTH           327  A465246916125   \n",
      "328           328  RND000513120794      WROM           328  A540014111973   \n",
      "329           329  RND000541643134      BCRB           329  A549582689058   \n",
      "330           330  RND000404939452      AIND           330  A889492349196   \n",
      "331           331  RND000589802835      WBRI           331  A877624860226   \n",
      "\n",
      "     FormerUPN  UPNunknown PersonBirthDate ExpectedPersonBirthDate  \\\n",
      "0          NaN         NaN      2019-12-06                     NaN   \n",
      "1          NaN         NaN      2011-04-27                     NaN   \n",
      "2          NaN         NaN      2017-06-06              2019-12-06   \n",
      "3          NaN         NaN      2014-10-03                     NaN   \n",
      "4          NaN         NaN      2019-09-25                     NaN   \n",
      "..         ...         ...             ...                     ...   \n",
      "327        NaN         NaN      2010-07-07                     NaN   \n",
      "328        NaN         NaN      2018-08-14                     NaN   \n",
      "329        NaN         NaN      2021-12-09                     NaN   \n",
      "330        NaN         NaN      2013-07-23                     NaN   \n",
      "331        NaN         NaN      2021-10-25                     NaN   \n",
      "\n",
      "     GenderCurrent PersonDeathDate  \n",
      "0                1             NaN  \n",
      "1                9             NaN  \n",
      "2                1             NaN  \n",
      "3                0             NaN  \n",
      "4                2             NaN  \n",
      "..             ...             ...  \n",
      "327              2             NaN  \n",
      "328              2             NaN  \n",
      "329             51             NaN  \n",
      "330              2             NaN  \n",
      "331              9             NaN  \n",
      "\n",
      "[332 rows x 11 columns]\n"
     ]
    }
   ],
   "source": [
    "dfs = {}\n",
    "\n",
    "for i, v in enumerate(filepaths):\n",
    "    dfs[i] = pd.read_csv(filepaths[i])\n",
    "\n",
    "# print(dfs[1])\n",
    "df = pd.merge(dfs[0], dfs[1], on='LAchildID', how=\"outer\")\n",
    "print(df)"
   ]
  },
  {
   "cell_type": "code",
   "execution_count": 3,
   "metadata": {},
   "outputs": [
    {
     "data": {
      "text/html": [
       "<div>\n",
       "<style scoped>\n",
       "    .dataframe tbody tr th:only-of-type {\n",
       "        vertical-align: middle;\n",
       "    }\n",
       "\n",
       "    .dataframe tbody tr th {\n",
       "        vertical-align: top;\n",
       "    }\n",
       "\n",
       "    .dataframe thead th {\n",
       "        text-align: right;\n",
       "    }\n",
       "</style>\n",
       "<table border=\"1\" class=\"dataframe\">\n",
       "  <thead>\n",
       "    <tr style=\"text-align: right;\">\n",
       "      <th></th>\n",
       "      <th>ChildId</th>\n",
       "      <th>Age first contact</th>\n",
       "      <th>Gender</th>\n",
       "      <th>Birthday</th>\n",
       "      <th>Age</th>\n",
       "      <th>CP Plan?</th>\n",
       "    </tr>\n",
       "  </thead>\n",
       "  <tbody>\n",
       "    <tr>\n",
       "      <th>0</th>\n",
       "      <td>id1</td>\n",
       "      <td>6</td>\n",
       "      <td>M</td>\n",
       "      <td>2002-01-01</td>\n",
       "      <td>5</td>\n",
       "      <td>Y</td>\n",
       "    </tr>\n",
       "    <tr>\n",
       "      <th>1</th>\n",
       "      <td>id2</td>\n",
       "      <td>12</td>\n",
       "      <td>m</td>\n",
       "      <td>2003-02-02</td>\n",
       "      <td>12</td>\n",
       "      <td>n</td>\n",
       "    </tr>\n",
       "    <tr>\n",
       "      <th>2</th>\n",
       "      <td>id3</td>\n",
       "      <td>11</td>\n",
       "      <td>F</td>\n",
       "      <td>NaT</td>\n",
       "      <td>11</td>\n",
       "      <td>N</td>\n",
       "    </tr>\n",
       "    <tr>\n",
       "      <th>3</th>\n",
       "      <td>id4</td>\n",
       "      <td>1</td>\n",
       "      <td></td>\n",
       "      <td>2023-03-03</td>\n",
       "      <td>6</td>\n",
       "      <td>No</td>\n",
       "    </tr>\n",
       "    <tr>\n",
       "      <th>4</th>\n",
       "      <td>id5</td>\n",
       "      <td>19</td>\n",
       "      <td>F</td>\n",
       "      <td>2012-01-06</td>\n",
       "      <td>2</td>\n",
       "      <td>yES</td>\n",
       "    </tr>\n",
       "  </tbody>\n",
       "</table>\n",
       "</div>"
      ],
      "text/plain": [
       "  ChildId  Age first contact Gender   Birthday  Age CP Plan?\n",
       "0     id1                  6      M 2002-01-01    5        Y\n",
       "1     id2                 12      m 2003-02-02   12        n\n",
       "2     id3                 11      F        NaT   11        N\n",
       "3     id4                  1        2023-03-03    6       No\n",
       "4     id5                 19      F 2012-01-06    2      yES"
      ]
     },
     "execution_count": 3,
     "metadata": {},
     "output_type": "execute_result"
    }
   ],
   "source": [
    "df = pd.DataFrame({'ChildId':['id1', 'id2', 'id3', 'id4', 'id5'],\n",
    "                   'Age first contact':[6,12,11,1,19],\n",
    "                   'Gender':['M','m', 'F', '', 'F' ],\n",
    "                   'Birthday':['01/01/2002', '02/02/2003', pd.NA, '03/03/2023', '06/01/2012'],\n",
    "                   'Age':[5,12,11,6,2],\n",
    "                   'CP Plan?':['Y', 'n', 'N', 'No', 'yES'],})\n",
    "df['Birthday'] = pd.to_datetime(df['Birthday'], dayfirst=True)\n",
    "df"
   ]
  },
  {
   "cell_type": "code",
   "execution_count": 4,
   "metadata": {},
   "outputs": [],
   "source": [
    "# Revision\n",
    "# ==  equal to\n",
    "# !=  not equal to\n",
    "# ~   NOT\n",
    "# &   AND\n",
    "# |   OR\n",
    "# > greater than\n",
    "# < less than\n",
    "# >= greater than or equal to\n",
    "# <= less than or equal to\n",
    "# % is a modulo operator, it gives the remainder when i is divided by e.g. 2 in this example"
   ]
  },
  {
   "cell_type": "code",
   "execution_count": 5,
   "metadata": {},
   "outputs": [
    {
     "name": "stdout",
     "output_type": "stream",
     "text": [
      "  ChildId  Age first contact Gender   Birthday  Age CP Plan?\n",
      "1     id2                 12      m 2003-02-02   12        n\n",
      "2     id3                 11      F        NaT   11        N\n",
      "  ChildId  Age first contact Gender   Birthday  Age CP Plan?\n",
      "1     id2                 12      m 2003-02-02   12        n\n",
      "2     id3                 11      F        NaT   11        N\n"
     ]
    }
   ],
   "source": [
    "# make slices in our dataframe based on some conditions (like SELECT/WHERE in SQL)\n",
    "condition1 = df['Age'] >= 10\n",
    "# print(condition1)\n",
    "\n",
    "over_10 = df[condition1]\n",
    "print(over_10)\n",
    "print(over_10)"
   ]
  },
  {
   "cell_type": "code",
   "execution_count": 6,
   "metadata": {},
   "outputs": [
    {
     "name": "stdout",
     "output_type": "stream",
     "text": [
      "  ChildId  Age first contact Gender   Birthday  Age CP Plan?\n",
      "0     id1                  6      M 2002-01-01    5        Y\n",
      "3     id4                  1        2023-03-03    6       No\n"
     ]
    }
   ],
   "source": [
    "# practice exercise\n",
    "condition2 = df['Age first contact'] <= 9\n",
    "under_10 = df[condition2]\n",
    "print(under_10)"
   ]
  },
  {
   "cell_type": "code",
   "execution_count": 7,
   "metadata": {},
   "outputs": [
    {
     "name": "stdout",
     "output_type": "stream",
     "text": [
      "  ChildId  Age first contact Gender   Birthday  Age CP Plan?\n",
      "0     id1                  6      M 2002-01-01    5        Y\n",
      "4     id5                 19      F 2012-01-06    2      yES\n"
     ]
    }
   ],
   "source": [
    "# demonstrating simple DF slicing, firstly without using the NOT operator (~)\n",
    "error_rows1 = df[df['Age first contact'] > df['Age']]\n",
    "print(error_rows1)"
   ]
  },
  {
   "cell_type": "code",
   "execution_count": 8,
   "metadata": {},
   "outputs": [
    {
     "name": "stdout",
     "output_type": "stream",
     "text": [
      "  ChildId  Age first contact Gender   Birthday  Age CP Plan?\n",
      "1     id2                 12      m 2003-02-02   12        n\n",
      "2     id3                 11      F        NaT   11        N\n",
      "3     id4                  1        2023-03-03    6       No\n"
     ]
    }
   ],
   "source": [
    "# look at how the NOT operator is used here (~)\n",
    "error_rows2 = df[~(df['Age first contact'] > df['Age'])]\n",
    "print(error_rows2)"
   ]
  },
  {
   "cell_type": "code",
   "execution_count": 9,
   "metadata": {},
   "outputs": [
    {
     "name": "stdout",
     "output_type": "stream",
     "text": [
      "False\n",
      "True\n",
      "False\n",
      "True\n",
      "True\n",
      "True\n",
      "False\n"
     ]
    }
   ],
   "source": [
    "print((1 > 2))\n",
    "print((2 == 2))\n",
    "print((1 > 2) & (2 == 2))\n",
    "print((1 > 2) | (2 == 2))\n",
    "print((3 > 2) & (2 == 2))\n",
    "print((3 > 2) | (2 == 2))\n",
    "print((1 > 2) | ((2 == 2) & (1 >2)))"
   ]
  },
  {
   "cell_type": "code",
   "execution_count": 10,
   "metadata": {},
   "outputs": [
    {
     "name": "stdout",
     "output_type": "stream",
     "text": [
      "  ChildId  Age first contact Gender Birthday  Age CP Plan?\n",
      "2     id3                 11      F      NaT   11        N\n",
      "  ChildId  Age first contact Gender   Birthday  Age CP Plan?\n",
      "1     id2                 12      m 2003-02-02   12        n\n",
      "  ChildId  Age first contact Gender   Birthday  Age CP Plan?\n",
      "0     id1                  6      M 2002-01-01    5        Y\n",
      "4     id5                 19      F 2012-01-06    2      yES\n",
      "  ChildId  Age first contact Gender   Birthday  Age CP Plan?\n",
      "1     id2                 12      m 2003-02-02   12        n\n",
      "2     id3                 11      F        NaT   11        N\n"
     ]
    }
   ],
   "source": [
    "isna_condition = (df['Birthday'].isna()) & (df['Age'] > 9)\n",
    "print(df[isna_condition])\n",
    "\n",
    "notna_condition = (df['Birthday'].notna()) & (df['Age'] > 9)\n",
    "print(df[notna_condition])\n",
    "\n",
    "str_condition = df['CP Plan?'].str.lower().str.contains('y')\n",
    "print(df[str_condition])\n",
    "\n",
    "check_list = [12, 11]\n",
    "condition_11_12 = df['Age'].isin(check_list)\n",
    "print(df[condition_11_12])"
   ]
  },
  {
   "cell_type": "code",
   "execution_count": 11,
   "metadata": {},
   "outputs": [
    {
     "name": "stdout",
     "output_type": "stream",
     "text": [
      "  ChildId  Age first contact Gender   Birthday  Age CP Plan?\n",
      "0     id1                  6      M 2002-01-01    5        Y\n",
      "1     id2                 12      m 2003-02-02   12        n\n",
      "2     id3                 11      F        NaT   11        N\n",
      "3     id4                  1        2023-03-03    6       No\n"
     ]
    }
   ],
   "source": [
    "condition3 = df['CP Plan?'].str.lower().str.contains('n') | (df['Gender'].str.lower() == 'm')\n",
    "print(df[condition3])"
   ]
  },
  {
   "cell_type": "code",
   "execution_count": 12,
   "metadata": {},
   "outputs": [
    {
     "name": "stdout",
     "output_type": "stream",
     "text": [
      "  ChildId  Age first contact Gender   Birthday  Age CP Plan?\n",
      "2     id3                 11      F        NaT   11        N\n",
      "3     id4                  1        2023-03-03    6       No\n"
     ]
    }
   ],
   "source": [
    "# slice the dataframe where the age is 6 or 11, using a single .isin()\n",
    "condition4a = df['Age'].isin([6,11])\n",
    "print(df[condition4a])"
   ]
  },
  {
   "cell_type": "code",
   "execution_count": 13,
   "metadata": {},
   "outputs": [
    {
     "name": "stdout",
     "output_type": "stream",
     "text": [
      "  ChildId  Age first contact Gender   Birthday  Age CP Plan?\n",
      "2     id3                 11      F        NaT   11        N\n",
      "3     id4                  1        2023-03-03    6       No\n"
     ]
    }
   ],
   "source": [
    "# slice the dataframe where the age is 6 or 11, using two ==s phrases in one bracket\n",
    "condition4b = ((df['Age'] == 6) | (df['Age'] == 11))\n",
    "six_eleven = df[condition4b]\n",
    "print(six_eleven)"
   ]
  },
  {
   "cell_type": "code",
   "execution_count": 14,
   "metadata": {},
   "outputs": [
    {
     "name": "stdout",
     "output_type": "stream",
     "text": [
      "Empty DataFrame\n",
      "Columns: [ChildId, Age first contact, Gender, Birthday, Age, CP Plan?]\n",
      "Index: []\n"
     ]
    }
   ],
   "source": [
    "# slice the dataframe where the age is 6 or 9 and the CP Plan? is 'Y'\n",
    "condition5 = df['Age'].isin([6,9]) & (df['CP Plan?'] == 'Y')\n",
    "print(df[condition5])"
   ]
  },
  {
   "cell_type": "code",
   "execution_count": 15,
   "metadata": {},
   "outputs": [
    {
     "name": "stdout",
     "output_type": "stream",
     "text": [
      "The number is odd, but not 9\n",
      "The number is even\n",
      "The number is odd, but not 9\n",
      "The number is even\n",
      "The number is odd, but not 9\n",
      "The number is even\n",
      "The number is odd, but not 9\n",
      "The number is even\n",
      "The number is nine\n",
      "The number is even\n"
     ]
    }
   ],
   "source": [
    "numbers = list(range(1,11))\n",
    "\n",
    "# % is a modulo operator, it gives the remainder when i is divided by e.g. 2 in this example\n",
    "for i in numbers:\n",
    "    if i % 2 == 0:\n",
    "        print('The number is even')\n",
    "    elif i == 9:\n",
    "        print('The number is nine')\n",
    "    else:\n",
    "        print('The number is odd, but not 9')\n"
   ]
  },
  {
   "cell_type": "code",
   "execution_count": 16,
   "metadata": {},
   "outputs": [
    {
     "name": "stdout",
     "output_type": "stream",
     "text": [
      "The number is odd\n",
      "The number is even.\n",
      "2\n",
      "The number is odd\n",
      "The number is even.\n",
      "The number is odd\n",
      "it was greater than 6\n",
      "it was greater than 6\n",
      "it was greater than 6\n",
      "it was greater than 6\n",
      "it was greater than 6\n"
     ]
    }
   ],
   "source": [
    "numbers = list(range(1, 11))\n",
    "\n",
    "# !=  means Not Equal To\n",
    "\n",
    "for i in numbers:\n",
    "   if i < 6:\n",
    "       if i % 2 == 0:\n",
    "           print('The number is even.')\n",
    "       if i == 2:\n",
    "           print(f'{i}')\n",
    "       elif i % 2 != 0:\n",
    "           print('The number is odd')\n",
    "   else: \n",
    "       print('it was greater than 6')"
   ]
  },
  {
   "cell_type": "code",
   "execution_count": 17,
   "metadata": {},
   "outputs": [
    {
     "name": "stdout",
     "output_type": "stream",
     "text": [
      "1\n",
      "2\n",
      "fizz\n",
      "4\n",
      "bang\n",
      "fizz\n",
      "7\n",
      "8\n",
      "fizz\n",
      "bang\n",
      "11\n",
      "fizz\n",
      "13\n",
      "14\n",
      "fizzbang\n",
      "16\n",
      "17\n",
      "fizz\n",
      "19\n",
      "bang\n",
      "fizz\n",
      "22\n",
      "23\n",
      "fizz\n",
      "bang\n",
      "26\n",
      "fizz\n",
      "28\n",
      "29\n",
      "fizzbang\n",
      "31\n",
      "32\n",
      "fizz\n",
      "34\n",
      "bang\n",
      "fizz\n",
      "37\n",
      "38\n",
      "fizz\n",
      "bang\n",
      "41\n",
      "fizz\n",
      "43\n",
      "44\n",
      "fizzbang\n",
      "46\n",
      "47\n",
      "fizz\n",
      "49\n",
      "bang\n",
      "fizz\n",
      "52\n",
      "53\n",
      "fizz\n",
      "bang\n",
      "56\n",
      "fizz\n",
      "58\n",
      "59\n",
      "fizzbang\n",
      "61\n",
      "62\n",
      "fizz\n",
      "64\n",
      "bang\n",
      "fizz\n",
      "67\n",
      "68\n",
      "fizz\n",
      "bang\n",
      "71\n",
      "fizz\n",
      "73\n",
      "74\n",
      "fizzbang\n",
      "76\n",
      "77\n",
      "fizz\n",
      "79\n",
      "bang\n",
      "fizz\n",
      "82\n",
      "83\n",
      "fizz\n",
      "bang\n",
      "86\n",
      "fizz\n",
      "88\n",
      "89\n",
      "fizzbang\n",
      "91\n",
      "92\n",
      "fizz\n",
      "94\n",
      "bang\n",
      "fizz\n",
      "97\n",
      "98\n",
      "fizz\n",
      "bang\n"
     ]
    }
   ],
   "source": [
    "# fizzbang\n",
    "# take all the numbers form 1-100,\n",
    "# print them, BUT if the number is divisible by 3, print fizz,\n",
    "# if it's divisible by 5 print bang\n",
    "# BUT if it's divisible by 3 & 5 print fizzbang\n",
    "\n",
    "onehundred = list(range(1, 101))\n",
    "\n",
    "for i in onehundred:\n",
    "    if (i % 3 == 0) & (i % 5 == 0):\n",
    "        print('fizzbang')\n",
    "    elif i % 3 == 0:\n",
    "        print('fizz')\n",
    "    elif i % 5 == 0:\n",
    "        print('bang')\n",
    "    else:\n",
    "        print(i)"
   ]
  }
 ],
 "metadata": {
  "kernelspec": {
   "display_name": "Python 3",
   "language": "python",
   "name": "python3"
  },
  "language_info": {
   "codemirror_mode": {
    "name": "ipython",
    "version": 3
   },
   "file_extension": ".py",
   "mimetype": "text/x-python",
   "name": "python",
   "nbconvert_exporter": "python",
   "pygments_lexer": "ipython3",
   "version": "3.10.13"
  }
 },
 "nbformat": 4,
 "nbformat_minor": 2
}
