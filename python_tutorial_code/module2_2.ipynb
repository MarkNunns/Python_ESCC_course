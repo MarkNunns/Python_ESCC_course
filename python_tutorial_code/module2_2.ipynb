{
 "cells": [
  {
   "cell_type": "code",
   "execution_count": 1,
   "metadata": {},
   "outputs": [
    {
     "ename": "RuntimeError",
     "evalue": "('Pycaret only supports python 3.9, 3.10, 3.11. Your actual Python version: ', sys.version_info(major=3, minor=12, micro=1, releaselevel='final', serial=0), 'Please DOWNGRADE your Python version.')",
     "output_type": "error",
     "traceback": [
      "\u001b[0;31m---------------------------------------------------------------------------\u001b[0m",
      "\u001b[0;31mRuntimeError\u001b[0m                              Traceback (most recent call last)",
      "Cell \u001b[0;32mIn[1], line 1\u001b[0m\n\u001b[0;32m----> 1\u001b[0m \u001b[38;5;28;01mfrom\u001b[39;00m \u001b[38;5;21;01mpycaret\u001b[39;00m\u001b[38;5;21;01m.\u001b[39;00m\u001b[38;5;21;01mregression\u001b[39;00m \u001b[38;5;28;01mimport\u001b[39;00m \u001b[38;5;241m*\u001b[39m\n\u001b[1;32m      2\u001b[0m \u001b[38;5;28;01mimport\u001b[39;00m \u001b[38;5;21;01mpandas\u001b[39;00m \u001b[38;5;28;01mas\u001b[39;00m \u001b[38;5;21;01mpd\u001b[39;00m\n\u001b[1;32m      3\u001b[0m \u001b[38;5;28;01mimport\u001b[39;00m \u001b[38;5;21;01mnumpy\u001b[39;00m \u001b[38;5;28;01mas\u001b[39;00m \u001b[38;5;21;01mnp\u001b[39;00m\n",
      "File \u001b[0;32m/usr/local/python/3.12.1/lib/python3.12/site-packages/pycaret/__init__.py:22\u001b[0m\n\u001b[1;32m     16\u001b[0m     \u001b[38;5;28;01mraise\u001b[39;00m \u001b[38;5;167;01mRuntimeError\u001b[39;00m(\n\u001b[1;32m     17\u001b[0m         \u001b[38;5;124m\"\u001b[39m\u001b[38;5;124mPycaret only supports python 3.9, 3.10, 3.11. Your actual Python version: \u001b[39m\u001b[38;5;124m\"\u001b[39m,\n\u001b[1;32m     18\u001b[0m         sys\u001b[38;5;241m.\u001b[39mversion_info,\n\u001b[1;32m     19\u001b[0m         \u001b[38;5;124m\"\u001b[39m\u001b[38;5;124mPlease UPGRADE your Python version.\u001b[39m\u001b[38;5;124m\"\u001b[39m,\n\u001b[1;32m     20\u001b[0m     )\n\u001b[1;32m     21\u001b[0m \u001b[38;5;28;01melif\u001b[39;00m sys\u001b[38;5;241m.\u001b[39mversion_info \u001b[38;5;241m>\u001b[39m\u001b[38;5;241m=\u001b[39m (\u001b[38;5;241m3\u001b[39m, \u001b[38;5;241m12\u001b[39m):\n\u001b[0;32m---> 22\u001b[0m     \u001b[38;5;28;01mraise\u001b[39;00m \u001b[38;5;167;01mRuntimeError\u001b[39;00m(\n\u001b[1;32m     23\u001b[0m         \u001b[38;5;124m\"\u001b[39m\u001b[38;5;124mPycaret only supports python 3.9, 3.10, 3.11. Your actual Python version: \u001b[39m\u001b[38;5;124m\"\u001b[39m,\n\u001b[1;32m     24\u001b[0m         sys\u001b[38;5;241m.\u001b[39mversion_info,\n\u001b[1;32m     25\u001b[0m         \u001b[38;5;124m\"\u001b[39m\u001b[38;5;124mPlease DOWNGRADE your Python version.\u001b[39m\u001b[38;5;124m\"\u001b[39m,\n\u001b[1;32m     26\u001b[0m     )\n",
      "\u001b[0;31mRuntimeError\u001b[0m: ('Pycaret only supports python 3.9, 3.10, 3.11. Your actual Python version: ', sys.version_info(major=3, minor=12, micro=1, releaselevel='final', serial=0), 'Please DOWNGRADE your Python version.')"
     ]
    }
   ],
   "source": [
    "# the pycaret commnad did not seem to like using Python 3.12.1 kernel\n",
    "# error message:\n",
    "# RuntimeError: ('Pycaret only supports python 3.9, 3.10, 3.11. Your actual Python version:\n",
    "#  ', sys.version_info(major=3, minor=12, micro=1, releaselevel='final', serial=0),\n",
    "#  'Please DOWNGRADE your Python version.')\n",
    "\n",
    "from pycaret.regression import *\n",
    "import pandas as pd\n",
    "import numpy as np\n",
    "df = pd.read_csv(r'https://raw.githubusercontent.com/data-to-insight/ERN-sessions/main/data/1980%202023%20average%20house%20prices.csv')\n",
    "df['Period'] = pd.to_datetime(df['Period'], format=\"%Y-%m\")\n",
    " \n",
    "df =df[['Period', 'Average price All property types']]\n",
    "df"
   ]
  },
  {
   "cell_type": "code",
   "execution_count": null,
   "metadata": {},
   "outputs": [],
   "source": [
    "# model_data = df[df['Period'] < pd.to_datetime(\"2011\", format=\"%Y\")]\n",
    "# real_future_data = df[df['Period'] >= pd.to_datetime(\"2011\", format=\"%Y\")]\n",
    "# real_future_data\n",
    "model_data = df[df['Period'] > pd.to_datetime(\"2002\", format=\"%Y\")]\n",
    "model_data = model_data[model_data['Period'] <= pd.to_datetime(\"2008\", format=\"%Y\")]\n",
    "real_future_data = df[df['Period'] >= pd.to_datetime(\"2008\", format=\"%Y\")]\n",
    " \n",
    "model_data"
   ]
  },
  {
   "cell_type": "code",
   "execution_count": null,
   "metadata": {},
   "outputs": [],
   "source": [
    "# date - dates\n",
    "# ordinal - scales/rankings\n",
    "# catergorical - categories\n",
    "# numberic - continuous\n",
    "s =setup(data=model_data, \n",
    "         train_size=0.7,\n",
    "         target= 'Average price All property types',\n",
    "         date_features=['Period'],\n",
    "         fold=2,\n",
    "         fold_shuffle=False,\n",
    "         data_split_shuffle=False,\n",
    "         fold_strategy='timeseries',\n",
    "         session_id=123\n",
    "         )\n"
   ]
  },
  {
   "cell_type": "code",
   "execution_count": null,
   "metadata": {},
   "outputs": [],
   "source": [
    "best = compare_models(sort='MAE')"
   ]
  },
  {
   "cell_type": "code",
   "execution_count": null,
   "metadata": {},
   "outputs": [],
   "source": [
    "plot_model(best, plot='error')"
   ]
  },
  {
   "cell_type": "code",
   "execution_count": null,
   "metadata": {},
   "outputs": [],
   "source": [
    "future_dates = pd.date_range(start= '2011-01-01', end='2030-01-01', freq='MS')\n",
    "future_df = pd.DataFrame()\n",
    "future_df['Period'] = future_dates\n",
    "predictions_future = predict_model(best, data=future_df)\n",
    "predictions_future.head(20)"
   ]
  },
  {
   "cell_type": "code",
   "execution_count": null,
   "metadata": {},
   "outputs": [],
   "source": [
    "import plotly.express as px\n",
    "concat_df = pd.concat([model_data, predictions_future], axis=0)\n",
    "fig = px.line(concat_df, x=concat_df['Period'], y=['Average price All property types', 'prediction_label'])\n",
    "fig.add_scatter(x=df['Period'], y=df['Average price All property types'])"
   ]
  },
  {
   "cell_type": "code",
   "execution_count": null,
   "metadata": {},
   "outputs": [],
   "source": [
    "final_val = model_data['Average price All property types'].iloc[-1]\n",
    "first_val = predictions_future['prediction_label'].iloc[0]\n",
    "predictions_future['corrected val'] = predictions_future['prediction_label'] - first_val + final_val\n",
    "concat_df = pd.concat([model_data, predictions_future], axis=0)\n",
    "fig = px.line(concat_df, x=concat_df['Period'], y=['Average price All property types', 'prediction_label'])\n",
    "fig.add_scatter(x=df['Period'], y=df['Average price All property types'])"
   ]
  }
 ],
 "metadata": {
  "kernelspec": {
   "display_name": "Python 3",
   "language": "python",
   "name": "python3"
  },
  "language_info": {
   "codemirror_mode": {
    "name": "ipython",
    "version": 3
   },
   "file_extension": ".py",
   "mimetype": "text/x-python",
   "name": "python",
   "nbconvert_exporter": "python",
   "pygments_lexer": "ipython3",
   "version": "3.12.1"
  }
 },
 "nbformat": 4,
 "nbformat_minor": 2
}
