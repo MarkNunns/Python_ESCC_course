{
 "cells": [
  {
   "cell_type": "code",
   "execution_count": null,
   "metadata": {},
   "outputs": [],
   "source": [
    "from pycaret.regression import *\n",
    "import pandas as pd\n",
    "import numpy as np\n",
    "df = pd.read_csv(r'https://raw.githubusercontent.com/data-to-insight/ERN-sessions/main/data/1980%202023%20average%20house%20prices.csv')\n",
    "df['Period'] = pd.to_datetime(df['Period'], format=\"%Y-%m\")\n",
    " \n",
    "df =df[['Period', 'Average price All property types']]\n",
    "df"
   ]
  },
  {
   "cell_type": "code",
   "execution_count": null,
   "metadata": {},
   "outputs": [],
   "source": [
    "# model_data = df[df['Period'] < pd.to_datetime(\"2011\", format=\"%Y\")]\n",
    "# real_future_data = df[df['Period'] >= pd.to_datetime(\"2011\", format=\"%Y\")]\n",
    "# real_future_data\n",
    "model_data = df[df['Period'] > pd.to_datetime(\"2002\", format=\"%Y\")]\n",
    "model_data = model_data[model_data['Period'] <= pd.to_datetime(\"2008\", format=\"%Y\")]\n",
    "real_future_data = df[df['Period'] >= pd.to_datetime(\"2008\", format=\"%Y\")]\n",
    " \n",
    "model_data"
   ]
  },
  {
   "cell_type": "code",
   "execution_count": null,
   "metadata": {},
   "outputs": [],
   "source": [
    "# date - dates\n",
    "# ordinal - scales/rankings\n",
    "# catergorical - categories\n",
    "# numberic - continuous\n",
    "s =setup(data=model_data, \n",
    "         train_size=0.7,\n",
    "         target= 'Average price All property types',\n",
    "         date_features=['Period'],\n",
    "         fold=2,\n",
    "         fold_shuffle=False,\n",
    "         data_split_shuffle=False,\n",
    "         fold_strategy='timeseries',\n",
    "         session_id=123\n",
    "         )\n"
   ]
  },
  {
   "cell_type": "code",
   "execution_count": null,
   "metadata": {},
   "outputs": [],
   "source": [
    "best = compare_models(sort='MAE')"
   ]
  },
  {
   "cell_type": "code",
   "execution_count": null,
   "metadata": {},
   "outputs": [],
   "source": [
    "plot_model(best, plot='error')"
   ]
  },
  {
   "cell_type": "code",
   "execution_count": null,
   "metadata": {},
   "outputs": [],
   "source": [
    "future_dates = pd.date_range(start= '2011-01-01', end='2030-01-01', freq='MS')\n",
    "future_df = pd.DataFrame()\n",
    "future_df['Period'] = future_dates\n",
    "predictions_future = predict_model(best, data=future_df)\n",
    "predictions_future.head(20)"
   ]
  },
  {
   "cell_type": "code",
   "execution_count": null,
   "metadata": {},
   "outputs": [],
   "source": [
    "import plotly.express as px\n",
    "concat_df = pd.concat([model_data, predictions_future], axis=0)\n",
    "fig = px.line(concat_df, x=concat_df['Period'], y=['Average price All property types', 'prediction_label'])\n",
    "fig.add_scatter(x=df['Period'], y=df['Average price All property types'])"
   ]
  },
  {
   "cell_type": "code",
   "execution_count": null,
   "metadata": {},
   "outputs": [],
   "source": [
    "final_val = model_data['Average price All property types'].iloc[-1]\n",
    "first_val = predictions_future['prediction_label'].iloc[0]\n",
    "predictions_future['corrected val'] = predictions_future['prediction_label'] - first_val + final_val\n",
    "concat_df = pd.concat([model_data, predictions_future], axis=0)\n",
    "fig = px.line(concat_df, x=concat_df['Period'], y=['Average price All property types', 'prediction_label'])\n",
    "fig.add_scatter(x=df['Period'], y=df['Average price All property types'])"
   ]
  }
 ],
 "metadata": {
  "kernelspec": {
   "display_name": "Python 3",
   "language": "python",
   "name": "python3"
  },
  "language_info": {
   "codemirror_mode": {
    "name": "ipython",
    "version": 3
   },
   "file_extension": ".py",
   "mimetype": "text/x-python",
   "name": "python",
   "nbconvert_exporter": "python",
   "pygments_lexer": "ipython3",
   "version": "3.10.15"
  }
 },
 "nbformat": 4,
 "nbformat_minor": 2
}
