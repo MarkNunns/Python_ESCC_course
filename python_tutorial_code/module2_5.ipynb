{
 "cells": [
  {
   "cell_type": "code",
   "execution_count": 1,
   "metadata": {},
   "outputs": [],
   "source": [
    "# Data Processing\n",
    "import pandas as pd\n",
    "import numpy as np\n",
    " \n",
    "# Modelling\n",
    "from sklearn.ensemble import RandomForestClassifier\n",
    "from sklearn.metrics import accuracy_score, confusion_matrix, precision_score, recall_score, ConfusionMatrixDisplay\n",
    "from sklearn.model_selection import RandomizedSearchCV, train_test_split\n",
    "from scipy.stats import randint\n",
    " \n",
    "# in Terminal do these installs\n",
    "# pip install graphviz\n",
    "# conda install graphviz"
   ]
  },
  {
   "cell_type": "code",
   "execution_count": 2,
   "metadata": {},
   "outputs": [],
   "source": [
    "# Tree Visualisation\n",
    "from sklearn.tree import export_graphviz\n",
    "from IPython.display import Image\n",
    "import graphviz"
   ]
  },
  {
   "cell_type": "code",
   "execution_count": 3,
   "metadata": {},
   "outputs": [],
   "source": [
    "cin = pd.read_csv('https://raw.githubusercontent.com/data-to-insight/D2I-Jupyter-Notebook-Tools/refs/heads/main/ml-data%20science%20tutorials/data/CINdetails.csv')\n",
    "characteristics = pd.read_csv('https://raw.githubusercontent.com/data-to-insight/D2I-Jupyter-Notebook-Tools/refs/heads/main/ml-data%20science%20tutorials/data/ChildCharacteristics.csv')\n",
    "identifiers = pd.read_csv('https://raw.githubusercontent.com/data-to-insight/D2I-Jupyter-Notebook-Tools/refs/heads/main/ml-data%20science%20tutorials/data/ChildIdentifiers.csv')"
   ]
  },
  {
   "cell_type": "code",
   "execution_count": null,
   "metadata": {},
   "outputs": [],
   "source": [
    "print(cin.info())\n",
    "print(identifiers.info())\n",
    "print(characteristics.info())"
   ]
  },
  {
   "cell_type": "code",
   "execution_count": null,
   "metadata": {},
   "outputs": [],
   "source": [
    "cin.sort_values('CINreferralDate', inplace=True, ascending=False)\n",
    "cin.drop_duplicates('LAchildID', inplace=True, keep='first')\n",
    " \n",
    "cin['CINplan'] = 1\n",
    " \n",
    "cin"
   ]
  },
  {
   "cell_type": "code",
   "execution_count": null,
   "metadata": {},
   "outputs": [],
   "source": [
    "df = characteristics.merge(identifiers, how='left', on='LAchildID')\n",
    "df = df.merge(cin, how='left', on='LAchildID')\n",
    "\n",
    "df['Age'] = pd.to_datetime('today') - pd.to_datetime(df['PersonBirthDate'], format='%Y-%m-%d')\n",
    " \n",
    "df['Age'] = df['Age']/pd.Timedelta(days=365)\n",
    " \n",
    "cols_to_keep = ['Age', 'Ethnicity', 'GenderCurrent', 'CINplan']\n",
    " \n",
    "df = df[cols_to_keep]\n",
    " \n",
    "df"
   ]
  },
  {
   "cell_type": "code",
   "execution_count": null,
   "metadata": {},
   "outputs": [],
   "source": [
    "df['CINplan'] = df['CINplan'].fillna(0)\n",
    " \n",
    "df"
   ]
  },
  {
   "cell_type": "code",
   "execution_count": null,
   "metadata": {},
   "outputs": [],
   "source": [
    "gender_dict = {1:'male',\n",
    "               2:'female',\n",
    "               0:'other',\n",
    "               9:'other'}\n",
    " \n",
    "df['GenderCurrent'] = df['GenderCurrent'].map(gender_dict)\n",
    " \n",
    "df"
   ]
  },
  {
   "cell_type": "code",
   "execution_count": null,
   "metadata": {},
   "outputs": [],
   "source": [
    "def ethnic_check(row):\n",
    "    letter = row[0]\n",
    "    if letter == 'W':\n",
    "        return 'white'\n",
    "    if letter == 'B':\n",
    "        return 'black'\n",
    "    if (letter == 'A') | (letter == 'C'):\n",
    "        return 'asian'\n",
    "    if letter == 'M':\n",
    "        return 'Mixed'\n",
    "    else:\n",
    "        return 'other'\n",
    " \n",
    " \n",
    "df['Ethnicity'] = df['Ethnicity'].apply(ethnic_check)\n",
    " \n",
    "df"
   ]
  },
  {
   "cell_type": "code",
   "execution_count": null,
   "metadata": {},
   "outputs": [],
   "source": [
    "df_encoded = pd.get_dummies(df[['GenderCurrent', 'Ethnicity']])\n",
    " \n",
    "full_df = df[['Age', 'CINplan']].merge(df_encoded, how='left', left_index=True, right_index=True)\n",
    " \n",
    "full_df"
   ]
  },
  {
   "cell_type": "code",
   "execution_count": null,
   "metadata": {},
   "outputs": [],
   "source": [
    "# split data into features and label\n",
    "X = full_df.drop('CINplan', axis=1)\n",
    "y = full_df['CINplan']\n",
    " \n",
    "# split data into train/test splits\n",
    "X_train, X_test, y_train, y_test = train_test_split(X, y, test_size=0.2, random_state=1)\n",
    " \n",
    "# instantiate object for model\n",
    "rf = RandomForestClassifier()\n",
    " \n",
    "# fit model\n",
    "rf.fit(X_train, y_train)\n",
    " \n",
    "# make predictions\n",
    "y_pred = rf.predict(X_test)\n",
    " \n",
    "# check accuracy\n",
    "print(accuracy_score(y_test, y_pred))"
   ]
  },
  {
   "cell_type": "code",
   "execution_count": null,
   "metadata": {},
   "outputs": [],
   "source": [
    "tree = rf.estimators_[0]\n",
    " \n",
    "dot_data = export_graphviz(tree,\n",
    "                           feature_names=X_train.columns,\n",
    "                           filled=True,\n",
    "                           max_depth=3)\n",
    "graph = graphviz.Source(dot_data)\n",
    "display(graph)"
   ]
  },
  {
   "cell_type": "code",
   "execution_count": null,
   "metadata": {},
   "outputs": [],
   "source": [
    "for i in range(3):\n",
    "    tree = rf.estimators_[i]\n",
    " \n",
    "    dot_data = export_graphviz(tree,\n",
    "                            feature_names=X_train.columns,\n",
    "                            filled=True,\n",
    "                            max_depth=3)\n",
    "    graph = graphviz.Source(dot_data)\n",
    "    display(graph)"
   ]
  },
  {
   "cell_type": "code",
   "execution_count": null,
   "metadata": {},
   "outputs": [],
   "source": [
    "new_rf = RandomForestClassifier()\n",
    " \n",
    "rand_search = RandomizedSearchCV(new_rf,\n",
    "                                 param_distributions={'n_estimators':randint(50,500),\n",
    "                                                      'max_depth':randint(1,20)},\n",
    "                                                      n_iter=10)\n",
    " \n",
    "rand_search.fit(X_train, y_train)\n",
    " \n",
    "print(rand_search.best_params_)\n",
    " \n",
    "best_rf = rand_search.best_estimator_"
   ]
  },
  {
   "cell_type": "code",
   "execution_count": null,
   "metadata": {},
   "outputs": [],
   "source": [
    "y_pred = best_rf.predict(X_test)\n",
    " \n",
    "cm = confusion_matrix(y_test, y_pred)\n",
    " \n",
    "ConfusionMatrixDisplay(confusion_matrix=cm).plot()"
   ]
  },
  {
   "cell_type": "code",
   "execution_count": null,
   "metadata": {},
   "outputs": [],
   "source": [
    "feature_importance_df = pd.DataFrame({'feature importance': rf.feature_importances_,\n",
    "                                      'feature':X_train.columns})\\\n",
    "                                      .set_index('feature')\n",
    " \n",
    "feature_importance_df.plot.bar()"
   ]
  },
  {
   "cell_type": "code",
   "execution_count": null,
   "metadata": {},
   "outputs": [],
   "source": []
  }
 ],
 "metadata": {
  "kernelspec": {
   "display_name": "Python 3",
   "language": "python",
   "name": "python3"
  },
  "language_info": {
   "codemirror_mode": {
    "name": "ipython",
    "version": 3
   },
   "file_extension": ".py",
   "mimetype": "text/x-python",
   "name": "python",
   "nbconvert_exporter": "python",
   "pygments_lexer": "ipython3",
   "version": "3.12.1"
  }
 },
 "nbformat": 4,
 "nbformat_minor": 2
}
