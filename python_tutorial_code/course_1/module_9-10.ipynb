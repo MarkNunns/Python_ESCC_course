{
 "cells": [
  {
   "cell_type": "code",
   "execution_count": null,
   "metadata": {},
   "outputs": [],
   "source": [
    "# Session 9 and 10 - Building an app\n",
    "\n",
    "# see codespace folder \"903_header_app\" for the work, also the index.html codespace file\n",
    "# see MN's notes on MN's PC in here: D:\\Mark\\work\\04 ESCC\\a training\\2024 Python\\Course 1\\Sessions 09 and 10\\"
   ]
  }
 ],
 "metadata": {
  "language_info": {
   "name": "python"
  }
 },
 "nbformat": 4,
 "nbformat_minor": 2
}
