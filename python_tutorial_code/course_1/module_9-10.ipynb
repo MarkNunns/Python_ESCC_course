{
 "cells": [
  {
   "cell_type": "code",
   "execution_count": null,
   "metadata": {},
   "outputs": [],
   "source": [
    "# Session 9 and 10 - Building an app\n",
    "\n",
    "# see codespace folder \"903_header_app\" for the work, also the index.html codespace file\n",
    "# see MN's notes on MN's PC in here: D:\\Mark\\work\\04 ESCC\\a training\\2024 Python\\Course 1\\Sessions 09 and 10\\\n",
    "\n",
    "# this includes walk-through for getting StreamLit working (in file:  Session 9 MN notes.docx)\n",
    "# and further Steamlit trouble-shooting (in file: Streamlit preview problems.docx)\n",
    "\n",
    "# where you have text like this:\n",
    "# \"\"\" this is MN's working file during Module 1 Session 9, it works OK\"\"\"\n",
    "# it suggests that the code need to be an app in a .py file, rather than a .ipynb coding file"
   ]
  }
 ],
 "metadata": {
  "language_info": {
   "name": "python"
  }
 },
 "nbformat": 4,
 "nbformat_minor": 2
}
