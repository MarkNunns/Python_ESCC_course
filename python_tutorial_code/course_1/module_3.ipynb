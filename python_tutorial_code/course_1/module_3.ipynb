{
 "cells": [
  {
   "cell_type": "code",
   "execution_count": 1,
   "metadata": {},
   "outputs": [],
   "source": [
    "import pandas as pd\n",
    "import numpy as np"
   ]
  },
  {
   "cell_type": "code",
   "execution_count": 2,
   "metadata": {},
   "outputs": [],
   "source": [
    "# Session 3 worksheet notes\n",
    "\n",
    "# In this worksheet, we'll go through loops and conditionals. Loops allow us to go through things which are 'iterable' and\n",
    "# perform repeated actions on each element of the iterable. The definition for iterable is a bit circular because\n",
    "# an iterable is something we can loop over, but maybe an example will helps. We can iterate over elements in a list,\n",
    "# keys/values/items in a dictionary, rows/columns in a dataframe etc.\n",
    "\n",
    "# We will also be looking at conditionals. Conditionals allow us to execute something based on a set of conditions.\n",
    "# To keep things simple, we'll largely be thinking of conditionals in terms of using them to make selections from dataframes,\n",
    "# and using them to determine what actions to apply in certain instances. For instance, in a dataframe of children\n",
    "# in need, we might want to select only rows where the age is above, say 16. We can do this with a conditional.\n",
    "# We might also want to make a new column to say yes if a child is over 16, and no if they are under.\n",
    "# We can use a conditional for this too.\n",
    "\n",
    "# We'll look at loops first. We start a loop using 'for', then we give a name for the iterable, this can be anything but\n",
    "# it's good practice to use something that makes sense in context as, just like the argument of a function,\n",
    "# when it's used in the loop, it will be called by the name we give it, we then use 'in' and specify what object\n",
    "# want to iterate over, and follow this up with a colon to start the loop.\n",
    "# Everything we want inside the loop should be indented, when the indent stops, the loop stops.\n",
    "\n",
    "# Let's look at a few examples."
   ]
  },
  {
   "cell_type": "code",
   "execution_count": null,
   "metadata": {},
   "outputs": [],
   "source": [
    "# Lets make a list\n",
    "numbers = [1, 2, 3, 4, 5]\n",
    "# when we iterate over a list, for each element in the list, we run the loop once.\n",
    "# Here we are saying 'for' to tell Python we want to start a loop, we are\n",
    "# saying we will call the iterables number, and we will take them from 'numbers'.\n",
    "\n",
    "# for something in thing:\n",
    "#   do process on something\n",
    "# for number in numbers:\n",
    "#   do something to number\n",
    "for number in numbers:\n",
    "    print(number)\n",
    "# the loop will go through each item in the loop and print them one by one"
   ]
  },
  {
   "cell_type": "code",
   "execution_count": null,
   "metadata": {},
   "outputs": [],
   "source": [
    "import time\n",
    "# numbers = list(range(10)) gives list of 0-9, next row gives list of 1-10\n",
    "numbers = list(range(1, 11))\n",
    "for number in numbers:\n",
    "    print(number)\n",
    "    time.sleep(1)"
   ]
  },
  {
   "cell_type": "code",
   "execution_count": null,
   "metadata": {},
   "outputs": [],
   "source": [
    "alphabet = ['a','b','c','d','e']\n",
    "for letter in alphabet:\n",
    "    print(letter)"
   ]
  },
  {
   "cell_type": "code",
   "execution_count": null,
   "metadata": {},
   "outputs": [],
   "source": [
    "# Character range function\n",
    "def range_char(start, stop):\n",
    "    return (chr(n) for n in range(ord(start), ord(stop) + 1))\n",
    "        \n",
    "# Example run\n",
    "for character in range_char(\"a\", \"g\"):\n",
    "    print(character)"
   ]
  },
  {
   "cell_type": "code",
   "execution_count": null,
   "metadata": {},
   "outputs": [],
   "source": [
    "import time\n",
    "word = 'abcdefghijk'\n",
    "for character in word:\n",
    "    print(character)\n",
    "    time.sleep(0.5)\n",
    "    # the 'time' line above slows down the iterations to 0.5 seconds per loop"
   ]
  },
  {
   "cell_type": "code",
   "execution_count": null,
   "metadata": {},
   "outputs": [],
   "source": [
    "for number in numbers:\n",
    "    print(1*number)\n",
    "    print(2*number)"
   ]
  },
  {
   "cell_type": "code",
   "execution_count": null,
   "metadata": {},
   "outputs": [],
   "source": [
    "for number in numbers:\n",
    "    for letter in alphabet:\n",
    "        print(f'{number} {letter}')"
   ]
  },
  {
   "cell_type": "code",
   "execution_count": null,
   "metadata": {},
   "outputs": [],
   "source": [
    "numbers = [1, 2, 3, 4, 5]\n",
    "letters = ['a','b','c']\n",
    "letter_numbers = []\n",
    "for number in numbers:\n",
    "    for letter in letters:\n",
    "        letter_numbers.append(f'{number}{letter}')\n",
    "print(letter_numbers)\n"
   ]
  },
  {
   "cell_type": "code",
   "execution_count": null,
   "metadata": {},
   "outputs": [],
   "source": [
    "names = ['Moloch', 'Belial', 'Mulciber']\n",
    "# We can also use more than one iterable, for going through a list 'enumerate' makes this easy as it 'enumerates'\n",
    "# or gives a number to list values in order so we can access them by index (recall back to the worksheet on lists),\n",
    "# and also allows us to use the value inside the list.\n",
    "# Here I've used it to iterate through values in the list by index position, and use the original value to create a new value.\n",
    "for i, name in enumerate(names):\n",
    "# It is customary to use i, j, k as the names for iterables when iterating through numbers, just as we use them in Pysics for vectors.\n",
    "    names[i] = f'{name} has fallen.'\n",
    "# This says, in essence the value of the list names with index i is updated to be the original string, plus some extras.\n",
    "print(names)"
   ]
  },
  {
   "cell_type": "code",
   "execution_count": null,
   "metadata": {},
   "outputs": [],
   "source": [
    "# In this cell, I've initialised a list.\n",
    "# Write two loops now, one that prints each element from the list, and one that uses enumerate\n",
    "# to update the string in each position to read...\n",
    "# '<original value> is in index position <n>'\n",
    "# Ensure you choose a suitable name for your iterators\n",
    "\n",
    "loop_me = ['Beatrice', 'Virgil', 'Minos']\n",
    "for i, name in enumerate(loop_me):\n",
    "    loop_me[i] = f'{name} is in index position {loop_me.index(name)}'\n",
    "print(loop_me)"
   ]
  },
  {
   "cell_type": "code",
   "execution_count": null,
   "metadata": {},
   "outputs": [],
   "source": [
    "# If we are working with a lot of data form different sources in the form of dataframes,\n",
    "# it can be really useful to to store them in dictionaries.\n",
    "# If you use the pandas read_excel method on an excel workbook with multiple sheets,\n",
    "# it'll store them in a dicitonary, for instance. This means that it can be really useful to\n",
    "# be able to iterate through dictionaries. Let's have a look:\n",
    "\n",
    "import pandas as pd\n",
    "\n",
    "df_1 = pd.DataFrame({'col 1': ['foo', 'bar', 'baz'],\n",
    "                     'col 2': [1, 2, 3]})\n",
    "\n",
    "df_2 = pd.DataFrame({'col 1': ['Thing 1', 'Thing 2', 'Thing 3'],\n",
    "                     'col 2': ['Green eggs', 'Ham', 'Sam I am']})\n",
    "\n",
    "df_dict = {'df_1' : df_1,\n",
    "           'df_2' : df_2,}\n",
    "\n",
    "# A really useful way to iterate through dictionaries is to access the items,\n",
    "# allowing us to use both the key and value in our loops.\n",
    "for key, value in df_dict.items():\n",
    "    print(key)\n",
    "    print(value)\n",
    "print(\"  \") # just putting an empty row in output for clarity\n",
    "# We can also iterate through rows in a dataframe, although this should be avoided where\n",
    "# possible as it's very inefficient and can make your code run very slowly.\n",
    "for row in df_1.index:\n",
    "    value = df_1['col 2'][row] * 3.5\n",
    "    print(value)"
   ]
  },
  {
   "cell_type": "code",
   "execution_count": null,
   "metadata": {},
   "outputs": [],
   "source": [
    "# Using df_dict, defined earlier, write a loop that iterates through the dictionary, printing out the first row of each dataframe.\n",
    "# NEEDS COMPLETING\n",
    "for key, value in df_dict.items():\n",
    "    print(key)\n",
    "    print(value.iloc[0])"
   ]
  },
  {
   "cell_type": "code",
   "execution_count": null,
   "metadata": {},
   "outputs": [],
   "source": [
    "# There also might be times where it's useful to make a dataframe or a new column in a dataframe by\n",
    "# making a dictionary in a loop. The 2 examples here would not be used in the real world as there arebetter methods, but\n",
    "# they provide a useful illustration.\n",
    "\n",
    "# Example 1\n",
    "x = 1\n",
    "number_list = []\n",
    "for i in list(range(10)):\n",
    "    print(f'{i}, {x}') # we can print out the i,x pairs using an f-string, like this\n",
    "    number_list.append(x)\n",
    "    x = (x + number_list[i-1])\n",
    "# or we can construct the dictionary {'numbers':number_list},\n",
    "# then use pd.Dataframe to construct a dataframe from the dictionary {'numbers':number_list},\n",
    "# then print our dataframe.\n",
    "dict1 = {'numbers':number_list}\n",
    "df1 = pd.DataFrame(dict1)\n",
    "print(df1)\n",
    "# print(pd.DataFrame({'numbers':number_list}))   puts the last 3 code lines into 1 line of code."
   ]
  },
  {
   "cell_type": "code",
   "execution_count": null,
   "metadata": {},
   "outputs": [],
   "source": [
    "# Example 2\n",
    "answers = []\n",
    "times_tables = {}\n",
    "# We can do a loop INSIDE another loop! Don't think too hard about it, its the same,\n",
    "# but it runs through and finishes, then the outside loop moves on.\n",
    "for i in list(range(1,11)):\n",
    "    for j in list(range(1,11)):\n",
    "        answers.append(i * j)\n",
    "    times_tables[i] = answers\n",
    "    answers = []\n",
    "\n",
    "multiplication_table = pd.DataFrame(times_tables) # Making the dictionary into a dataframe.\n",
    "multiplication_table.index += 1 # shifting the index up by 1 to start at row 1 (not row 0) so the table is cleaner.\n",
    "multiplication_table # In Jupyter we don't HAVE to use print to display a variable."
   ]
  },
  {
   "cell_type": "code",
   "execution_count": 17,
   "metadata": {},
   "outputs": [],
   "source": [
    "# Using the examples above, in this cell use a loop to populate a dictionary that you'll then use to make a dataframe of\n",
    "# all the possible combinations of sandwiches from the following two lists. Don't think too hard, it doesn't matter\n",
    "# if combinations are repeated. You'll want the following three lines of the code at the end to format the dataframe:\n",
    "# combinations_df = (pd.DataFrame(combinations)) \n",
    "# combinations_df['topping'] = toppings\n",
    "# combinations_df.set_index('topping')\n",
    "\n",
    "spreads = ['butter', 'jam', 'peanut butter']\n",
    "toppings = ['ham', 'cheese', 'sardines']\n",
    "filling = []\n",
    "combinations = {}"
   ]
  },
  {
   "cell_type": "code",
   "execution_count": null,
   "metadata": {},
   "outputs": [],
   "source": [
    "# Using the examples above, in this cell use a loop to populate a dictionary that you'll then use to make a dataframe of\n",
    "# all the possible combinations of sandwiches from the following two lists. Don't think too hard, it doesn't matter\n",
    "spreads = ['butter', 'jam', 'peanut butter']\n",
    "toppings = ['ham', 'cheese', 'sardines']\n",
    "for spread in spreads:\n",
    "    for topping in toppings:\n",
    "        print(spread,topping)"
   ]
  },
  {
   "cell_type": "code",
   "execution_count": null,
   "metadata": {},
   "outputs": [],
   "source": [
    "# Using the examples above, in this cell use a loop to populate a dictionary that you'll then use to make a dataframe of\n",
    "# all the possible combinations of sandwiches from the following two lists. Don't think too hard, it doesn't matter\n",
    "# if combinations are repeated.\n",
    "# At the end, use the following three lines of code  to format the dataframe\n",
    "# combinations_df = (pd.DataFrame(combinations)) \n",
    "# combinations_df['topping'] = toppings\n",
    "# combinations_df.set_index('topping')\n",
    "\n",
    "spreads = ['butter', 'jam', 'peanut butter']\n",
    "toppings = ['ham', 'cheese', 'sardines']\n",
    "filling = []\n",
    "# filling is an empty list at this point, we are going to populate it\n",
    "for spread in spreads:\n",
    "    for topping in toppings:\n",
    "        filling.append(f'{spread} & {topping}')\n",
    "print(type(filling))\n",
    "# we now turn filling from a list into a Dataframe\n",
    "combinations = pd.DataFrame(filling)\n",
    "combinations"
   ]
  },
  {
   "cell_type": "code",
   "execution_count": null,
   "metadata": {},
   "outputs": [],
   "source": [
    "# start of notes taken by MN during Session\n",
    "## see screenshots taken by MN from Session 3, they will help generally\n",
    "import pandas as pd\n",
    "import numpy as np\n",
    "import os\n",
    "\n",
    "filename = 'https://raw.githubusercontent.com/data-to-insight/ERN-sessions/main/data/1980%202023%20average%20house%20prices.csv'\n",
    "df = pd.read_csv(filename)\n",
    "print(df)"
   ]
  },
  {
   "cell_type": "code",
   "execution_count": null,
   "metadata": {},
   "outputs": [],
   "source": [
    "import pandas as pd\n",
    "import numpy as np\n",
    "\n",
    "# 01/01/2000\n",
    "# %d/%m/%Y\n",
    "# strftime\n",
    "# %b month but with local shortening e.g. jan\n",
    "# %B full month name e.g. January\n",
    "# N.B. coerce function is used here\n",
    "# I think Will said the 'normalize' function puts all date/time values to 00:00 (12am midnight)\n",
    "df['Period'] = pd.to_datetime(df['Period'], format='%Y-%m', errors='coerce')\n",
    "\n",
    "df['Age of Data (Years)'] = pd.to_datetime('today').normalize() - df['Period']\n",
    "\n",
    "df['Age of Data (Years)'] = (df['Age of Data (Years)'] / pd.Timedelta('365 days')).astype('int')\n",
    "# in other versions of Python this would work here instead:\n",
    "# df['Age of Data (Years)'] = (df['Age of Data (Years)'] / np.timedelta64(1, 'Y')).astype('int')\n",
    "print(df.head(1))"
   ]
  },
  {
   "cell_type": "code",
   "execution_count": null,
   "metadata": {},
   "outputs": [],
   "source": [
    "import pandas as pd\n",
    "import numpy as np\n",
    "fileraw = 'https://raw.githubusercontent.com/data-to-insight/ERN-sessions/main/data/ChildIdentifiers.csv'\n",
    "df2 = pd.read_csv(fileraw)\n",
    "print(df2)"
   ]
  },
  {
   "cell_type": "code",
   "execution_count": null,
   "metadata": {},
   "outputs": [],
   "source": [
    "# this code posted in chat by will, it relates to the ChildIdentifiers.csv dataset\n",
    "df2 = df2[['LAchildID', 'PersonBirthDate', 'GenderCurrent']]\n",
    "df2['PersonBirthDate'] = pd.to_datetime(df2['PersonBirthDate'], format='%Y-%m-%d', errors='coerce')\n",
    "df2['Age'] = pd.to_datetime('today').normalize() - df2['PersonBirthDate']\n",
    "df2['Age'] = (df2['Age'] / pd.Timedelta('365 days')).astype('int')\n",
    "print(df2)"
   ]
  },
  {
   "cell_type": "code",
   "execution_count": null,
   "metadata": {},
   "outputs": [],
   "source": [
    "gender_map = {1:'Male',\n",
    "              2:'Female',\n",
    "              0:'unknown',\n",
    "              9:'unknown',}\n",
    "df2['GenderCurrent'] = df2['GenderCurrent'].map(gender_map)\n",
    "print(df2)"
   ]
  },
  {
   "cell_type": "code",
   "execution_count": 25,
   "metadata": {},
   "outputs": [],
   "source": [
    "# introducing more operators\n",
    "# ==  equal to\n",
    "# !=  not equal to\n",
    "# ~   NOT\n",
    "# &   AND\n",
    "# |   OR\n",
    "# > greater than\n",
    "# < less than\n",
    "# >= greater than or equal to\n",
    "# <= less than or equal to\n",
    "\n",
    "# % is a modulo operator. The % gives the remainder after division, e.g.\n",
    "# 21 % 4 gives output 1.  Mathematically this is saying:   21 ≡ 1 (mod 4)\n",
    "\n",
    "# // is a floor division operator.  The // rounds the result down to the nearest whole number, e.g.\n",
    "# 21 // 4 gives output 5.  Mathematically this is saying:   21 / 4 = 5 (and we are not concerned about the remainder)"
   ]
  },
  {
   "cell_type": "code",
   "execution_count": null,
   "metadata": {},
   "outputs": [],
   "source": [
    "over_18_cond = df2['Age'] > 18\n",
    "sliced_df2 = df2[over_18_cond]\n",
    "# i.e. sliced_df2 = df2[df2['Age'] > 18]  if doing in 1 step\n",
    "print(sliced_df2)"
   ]
  },
  {
   "cell_type": "code",
   "execution_count": null,
   "metadata": {},
   "outputs": [],
   "source": [
    "# using the new operators introduced above\n",
    "over_18_or_male_condition = df2['Age'] > 18 | (df2['GenderCurrent'] == 'Male')\n",
    "over_18_or_male = df2[over_18_or_male_condition]\n",
    "over_18_male_condition = (df2['Age'] > 18) & (df2['GenderCurrent'] == 'Male')\n",
    "over_18_male = df2[over_18_male_condition]\n",
    "print(over_18_male)\n",
    "print(over_18_or_male)"
   ]
  },
  {
   "cell_type": "code",
   "execution_count": null,
   "metadata": {},
   "outputs": [],
   "source": [
    "# Exercise\n",
    "# print the dataframe where\n",
    "# a) everyone is 15 or under OR male\n",
    "# b) everyone is 15 or over OR female\n",
    "condition_1 = (df2['Age'] <= 15 | (df2['GenderCurrent'] == 'Male'))\n",
    "df2_1 = df2[condition_1]\n",
    "condition_2 = (df2['Age'] >= 15 | (df2['GenderCurrent'] == 'Female'))\n",
    "df2_2 = df2[condition_2]\n",
    "condition_3 = ~(df2['Age'] >= 15)\n",
    "\n",
    "df2['GenderCurrent'] = df2['GenderCurrent'].str.lower()\n",
    "condition_4 = df2['GenderCurrent'].str.lower() == 'male'\n",
    "condition_5 = (df2['GenderCurrent'] == 'male') | (df2['GenderCurrent'] == 'female')\n",
    "condition_6 = df2['GenderCurrent'].isin(['male','female'])\n",
    "condition_7 = df2[df2['GenderCurrent'].str.contains('m') & df2['GenderCurrent'].notna()]\n",
    "print(condition_7)\n",
    "               "
   ]
  },
  {
   "cell_type": "code",
   "execution_count": null,
   "metadata": {},
   "outputs": [],
   "source": [
    "# Session 3 Group Work\n",
    "# Work out how to use zip() to collect elements from two lists together and use a loop to print them\n",
    "# element-wise, so, if I had 1, 2, 3, 4, 5 and a, b, c, d, e stored as separate lists, my loop would print a1, b2, etc.\n",
    "\n",
    "numbers = [1, 2, 3, 4, 5]\n",
    "letterz = ['a', 'b', 'c', 'd', 'e']\n",
    "zippo = zip(numbers, letterz)\n",
    "# print(list(zippo))\n",
    "for x, y in list(zippo):\n",
    "    print(f\"{x}{y}\")"
   ]
  },
  {
   "cell_type": "code",
   "execution_count": null,
   "metadata": {},
   "outputs": [],
   "source": [
    "# Initialise two variables, one a list of first names and one a list of surnames of everyone in the group.\n",
    "# Next, use nested loops to print all the different first/last name combinations.\n",
    "\n",
    "fore = ['Fred', 'Clive', 'Paul', 'Tim']\n",
    "sur = ['Smith', 'Jones', 'Taylor', 'Dawson']\n",
    "full = zip(fore, sur)\n",
    "print(list(full))\n",
    "for x in fore:\n",
    "    for y in sur:\n",
    "        print(x, y)"
   ]
  },
  {
   "cell_type": "code",
   "execution_count": null,
   "metadata": {},
   "outputs": [],
   "source": [
    "\n",
    "# Write a for loop that takes a list of numbers, finds the square of each, and adds the squares to a new list that starts empty.\n",
    "numbers = [4, 5, 7, 11]\n",
    "squares = []\n",
    "for x in numbers:\n",
    "    squares.append(x**2)\n",
    "print(squares)"
   ]
  },
  {
   "cell_type": "code",
   "execution_count": null,
   "metadata": {},
   "outputs": [],
   "source": [
    "# Write a loop that sums all the numbers up to 100, and assigns the answer to a variable.\n",
    "MN_list = list(range(1,101))\n",
    "MN_sum = 0\n",
    "for x in MN_list:\n",
    "    MN_sum = MN_sum + x\n",
    "print(MN_sum)"
   ]
  }
 ],
 "metadata": {
  "kernelspec": {
   "display_name": "Python 3",
   "language": "python",
   "name": "python3"
  },
  "language_info": {
   "codemirror_mode": {
    "name": "ipython",
    "version": 3
   },
   "file_extension": ".py",
   "mimetype": "text/x-python",
   "name": "python",
   "nbconvert_exporter": "python",
   "pygments_lexer": "ipython3",
   "version": "3.12.1"
  }
 },
 "nbformat": 4,
 "nbformat_minor": 2
}
