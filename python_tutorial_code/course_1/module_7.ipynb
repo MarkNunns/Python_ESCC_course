{
 "cells": [
  {
   "cell_type": "code",
   "execution_count": null,
   "metadata": {},
   "outputs": [],
   "source": [
    "def print_variable(x):\n",
    "    print(x)\n",
    "\n",
    "print_variable(\"Will\")\n",
    "\n"
   ]
  },
  {
   "cell_type": "code",
   "execution_count": null,
   "metadata": {},
   "outputs": [],
   "source": [
    "def print_variable(x):\n",
    "    phrase = f'My name is {x}'\n",
    "    print(phrase)\n",
    "\n",
    "print_variable(\"Will\")\n"
   ]
  },
  {
   "cell_type": "code",
   "execution_count": null,
   "metadata": {},
   "outputs": [],
   "source": [
    "def sum_xy(x, y):\n",
    "    z = x + y\n",
    "    print(z)\n",
    "# you can label the x and y values as follows:\n",
    "sum_xy(x=10, y=5)\n"
   ]
  },
  {
   "cell_type": "code",
   "execution_count": null,
   "metadata": {},
   "outputs": [],
   "source": [
    "def sum_xy(x, y):\n",
    "    z = x + y\n",
    "    print(z)\n",
    "# or you can put x and y values without labelling them\n",
    "sum_xy(10, 5)\n"
   ]
  },
  {
   "cell_type": "code",
   "execution_count": null,
   "metadata": {},
   "outputs": [],
   "source": [
    "# write a function called minus_xy that takes y from x and prints the answer\n",
    "def minus_xy(x, y):\n",
    "    z = x - y\n",
    "    print(z)\n",
    "\n",
    "minus_xy(x=13, y=5)"
   ]
  },
  {
   "cell_type": "code",
   "execution_count": null,
   "metadata": {},
   "outputs": [],
   "source": [
    "def minus_xy(x, y):\n",
    "    z = x - y\n",
    "    return z\n",
    "\n",
    "minus_xy(x=10, y=4)"
   ]
  },
  {
   "cell_type": "code",
   "execution_count": null,
   "metadata": {},
   "outputs": [],
   "source": [
    "def minus_xy(x, y):\n",
    "    z = x - y\n",
    "    return z\n",
    "\n",
    "minus_xy(x=10, y=4)\n",
    "\n",
    "answer = minus_xy(10, 7)\n",
    "print(answer)"
   ]
  },
  {
   "cell_type": "code",
   "execution_count": 8,
   "metadata": {},
   "outputs": [],
   "source": [
    "j = 100\n",
    "# variables defined in functions only exist inside that function, the variable is not available outside the function\n",
    "# this is know as the 'scope' of the variable. Will didn't give a good example to explain this scope."
   ]
  },
  {
   "cell_type": "code",
   "execution_count": null,
   "metadata": {},
   "outputs": [],
   "source": [
    "def maths_xy(x, y):\n",
    "    minus = x - y\n",
    "    plus = x + y\n",
    "    return minus, plus\n",
    "\n",
    "x_minus_y, x_plus_y = maths_xy(100, 20)\n",
    "print(x_minus_y)\n",
    "print(x_plus_y)"
   ]
  },
  {
   "cell_type": "code",
   "execution_count": null,
   "metadata": {},
   "outputs": [],
   "source": [
    "# make a functions called more_maths that multiplies x and y, and divides x by y\n",
    "# print out the answers as separate variables\n",
    "def more_maths(x, y):\n",
    "    multiply = x * y\n",
    "    divides = x / y\n",
    "    return multiply, divides\n",
    "\n",
    "x_multiply_y, x_divides_y = more_maths(100, 20)\n",
    "print(x_multiply_y)\n",
    "print(x_divides_y)"
   ]
  },
  {
   "cell_type": "code",
   "execution_count": null,
   "metadata": {},
   "outputs": [],
   "source": [
    "# Will says this code below is an example of bad practice, the next cell shows a better way...\n",
    "def further_maths(x, y):\n",
    "    def addition_ab(a, b):\n",
    "        return a + b\n",
    "    def subtraction_ab(a, b):\n",
    "        return a - b\n",
    "    return addition_ab(a=x, b=y), subtraction_ab(a=x, b=y)\n",
    "\n",
    "print(further_maths(100, 5))"
   ]
  },
  {
   "cell_type": "code",
   "execution_count": null,
   "metadata": {},
   "outputs": [],
   "source": [
    "def function_1(x, y):\n",
    "    return f'function_1 says x and y are {x}, and {y}'\n",
    "\n",
    "def function_2(x, y):\n",
    "    return f'function_2 says x and y are {x}, and {y}'\n",
    "\n",
    "def nested_func(j, k):\n",
    "    var_1 = function_1(j, k)\n",
    "    var_2 = function_2(j, k)\n",
    "    return var_1, var_2\n",
    "\n",
    "print(nested_func('Hi', 'Hello'))"
   ]
  },
  {
   "cell_type": "code",
   "execution_count": null,
   "metadata": {},
   "outputs": [],
   "source": [
    "# Write 2 sub functions, each that take 1 argument, 1 takes a forename\n",
    "# 1 takes a last name, and print, respectively:\n",
    "# Hello my forename is FORENAME,   Hello my surname is SURNAME\n",
    "# Then a nested function that takes 2 arguments, and returns the answer from both sub phrases.\n",
    "# Print the answer\n",
    "\n",
    "def my_forename(forename):\n",
    "    return f'Hello, my name is {forename}'\n",
    "\n",
    "def my_surname(surname):\n",
    "    return f'My surname is {surname}'\n",
    "\n",
    "def name_function(fname, sname):\n",
    "    return my_forename(fname), my_surname(sname)\n",
    "\n",
    "names = name_function(fname='Will', sname='Levack-Payne')\n",
    "print(names)"
   ]
  },
  {
   "cell_type": "code",
   "execution_count": null,
   "metadata": {},
   "outputs": [],
   "source": [
    "# Session 5 Group Work\n",
    "# Remember the CSV from Ggroup work for session 2:\n",
    "# https://raw.githubusercontent.com/data-to-insight/D2I-Jupyter-Notebook-Tools/main/ERN-worksheets/data/1980%202023%20average%20house%20prices.csv\n",
    "\n",
    "# Read the CSV into a dataframe with a sensible name. Write a function that takes in in the dataframe as an\n",
    "# argument, finds the mean value for percentage change in house price per time period, and creates a new\n",
    "# column assigning the strings 'above', 'below', and equal' to the dataframe based on the values relative to the mean.\n",
    "# Have the function return this new dataframe and assign it back to the original variable containing the dataframe.\n",
    "\n",
    "import pandas as pd\n",
    "\n",
    "url = 'https://raw.githubusercontent.com/data-to-insight/ERN-sessions/main/data/1980%202023%20average%20house%20prices.csv'\n",
    "\n",
    "df = pd.read_csv(url)\n",
    "\n",
    "df.head()"
   ]
  },
  {
   "cell_type": "code",
   "execution_count": null,
   "metadata": {},
   "outputs": [],
   "source": [
    "mean_pct_change = df['Percentage change (monthly) All property types'].mean()\n",
    "\n",
    "print(mean_pct_change)\n",
    "\n",
    "def change_checker(pct_change):\n",
    "    if pct_change > mean_pct_change:\n",
    "        return 'Greater than average'\n",
    "    if pct_change < mean_pct_change:\n",
    "        return 'Less than average'\n",
    "    else:\n",
    "        return 'Exactly Average'\n",
    "\n",
    "outcome = change_checker(2)\n",
    "print(outcome)    "
   ]
  },
  {
   "cell_type": "code",
   "execution_count": null,
   "metadata": {},
   "outputs": [],
   "source": [
    "mean_pct_change = df['Percentage change (monthly) All property types'].mean()\n",
    "\n",
    "def change_checker(pct_change):\n",
    "    if pct_change > mean_pct_change:\n",
    "        return 'Greater than average'\n",
    "    if pct_change < mean_pct_change:\n",
    "        return 'Less than average'\n",
    "    else:\n",
    "        return 'Exactly Average'\n",
    "# this next line of code is like a FOR loop but much better\n",
    "df['Change ratio'] = df['Percentage change (monthly) All property types'].apply(change_checker)\n",
    "\n",
    "df  "
   ]
  },
  {
   "cell_type": "code",
   "execution_count": null,
   "metadata": {},
   "outputs": [],
   "source": [
    "# Do the same but for Average price All property types\n",
    "\n",
    "mean_price = df['Average price All property types'].mean()\n",
    "\n",
    "def price_checker(price):\n",
    "    if price > mean_price:\n",
    "        return 'Greater than average'\n",
    "    if price < mean_price:\n",
    "        return 'Less than average'\n",
    "    else:\n",
    "        return 'Exactly Average'\n",
    "\n",
    "df['Price check'] = df['Average price All property types'].apply(price_checker)\n",
    "\n",
    "df"
   ]
  }
 ],
 "metadata": {
  "kernelspec": {
   "display_name": "Python 3",
   "language": "python",
   "name": "python3"
  },
  "language_info": {
   "codemirror_mode": {
    "name": "ipython",
    "version": 3
   },
   "file_extension": ".py",
   "mimetype": "text/x-python",
   "name": "python",
   "nbconvert_exporter": "python",
   "pygments_lexer": "ipython3",
   "version": "3.12.1"
  }
 },
 "nbformat": 4,
 "nbformat_minor": 2
}
