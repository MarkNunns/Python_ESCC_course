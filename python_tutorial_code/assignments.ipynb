{
 "cells": [
  {
   "cell_type": "code",
   "execution_count": 1,
   "metadata": {},
   "outputs": [],
   "source": [
    "# Assignment 1, Part 1\n",
    "\n",
    "# Using an appropriate name, initialise an empty dictionary which you will store the outcome of some sums in.\n",
    "# Then, setting 7 as x and 5 as y, find:\n",
    "# x + y\n",
    "# x - y\n",
    "# x squared\n",
    "# y squared\n",
    "# x to the power y\n",
    "# Assigning each to a variable with an appropriate name.\n",
    "# Finally, add each of these answers as entries in your dicitonary and print the dictionary."
   ]
  },
  {
   "cell_type": "code",
   "execution_count": 2,
   "metadata": {
    "metadata": {}
   },
   "outputs": [
    {
     "name": "stdout",
     "output_type": "stream",
     "text": [
      "{'plus': [12], 'minus': [2], 'x_sq': [49], 'y_sq': [25], 'xTPy': [16807]}\n"
     ]
    }
   ],
   "source": [
    "Ass1a = {}\n",
    "x = 7\n",
    "y = 5\n",
    "plus = x + y\n",
    "minus = x - y\n",
    "x_sq = x**2\n",
    "y_sq = y**2\n",
    "xTPy = x**y\n",
    "Ass1a['plus'] = [plus]\n",
    "Ass1a['minus'] = [minus]\n",
    "Ass1a['x_sq'] = [x_sq]\n",
    "Ass1a['y_sq'] = [y_sq]\n",
    "Ass1a['xTPy'] = [xTPy]\n",
    "print(Ass1a)"
   ]
  },
  {
   "cell_type": "code",
   "execution_count": 3,
   "metadata": {
    "metadata": {}
   },
   "outputs": [
    {
     "name": "stdout",
     "output_type": "stream",
     "text": [
      "XXXX-XXXX-XXXX-4444\n"
     ]
    }
   ],
   "source": [
    "# Assignment 1, Part 2\n",
    "\n",
    "# Assume a credit card number is '4444444444444444', store this as a string with an appropriate name.\n",
    "# Slice the string to only show the last four digits with an appropriate name.\n",
    "# Manipulate the sliced variable so that it appears with an appropriate number of Xs before the last 4 digits\n",
    "# Giving this new string an appropriate name, print it.\n",
    "# Your print readout should look like 'XXXXXXXXXXXX4444'\n",
    "# At no point should you make a string from scratch that is just 'XXXXXXXXXXXX4444',\n",
    "# that defeats the point of the exercise.\n",
    "\n",
    "card_no = str(4444444444444444)\n",
    "last4 = card_no[-4:]\n",
    "dave = f'XXXX-XXXX-XXXX-{last4}'\n",
    "print(dave)"
   ]
  },
  {
   "cell_type": "code",
   "execution_count": 4,
   "metadata": {
    "metadata": {}
   },
   "outputs": [
    {
     "name": "stdout",
     "output_type": "stream",
     "text": [
      "  EmployeeID  Age  Salary   Job Title\n",
      "0      A0345   54   48600     manager\n",
      "1      A0359   21   19200      driver\n",
      "2      A0421   32   27500  negotiator\n",
      "3      A0424   28   31900  accountant\n",
      "4      A0431   44   68700    director\n",
      "\n",
      "<class 'pandas.core.frame.DataFrame'>\n",
      "RangeIndex: 5 entries, 0 to 4\n",
      "Data columns (total 4 columns):\n",
      " #   Column      Non-Null Count  Dtype  \n",
      "---  ------      --------------  -----  \n",
      " 0   EmployeeID  5 non-null      string \n",
      " 1   Age         5 non-null      int64  \n",
      " 2   Salary      5 non-null      float64\n",
      " 3   Job Title   5 non-null      string \n",
      "dtypes: float64(1), int64(1), string(2)\n",
      "memory usage: 288.0 bytes\n",
      "None\n"
     ]
    }
   ],
   "source": [
    "# Assignment 2, Part 1\n",
    "\n",
    "# This assignment focuses on dataframes\n",
    "# First off, using a method of your choice, make a dataframe with the columns:\n",
    "# EmployeeID, Age, Salary, Job Title\n",
    "# Fill this out with arbitrary but sensible inputs for 5 rows.\n",
    "# Ensure age and salary are stored as the right type of data for numbers, and that there's a good range of salaries\n",
    "\n",
    "import pandas as pd\n",
    "# first, I will create a dictionary\n",
    "staff = {'EmployeeID':['A0345','A0359','A0421','A0424','A0431'],\n",
    "           'Age':[54, 21, 32, 28, 44],\n",
    "           'Salary':[48600, 19200, 27500, 31900,68700],\n",
    "           'Job Title':['manager','driver', 'negotiator','accountant','director']}\n",
    "# then turn the dictionary into a dataframe\n",
    "df_staff = pd.DataFrame(staff)\n",
    "print(df_staff)\n",
    "print('')\n",
    "# correct the data type for variables as appropriate e.g. object to string, integer to float\n",
    "df_staff['EmployeeID'] = df_staff['EmployeeID'].astype('string')\n",
    "df_staff['Salary'] = df_staff['Salary'].astype('float64')\n",
    "df_staff['Job Title'] = df_staff['Job Title'].astype('string')\n",
    "print(df_staff.info())"
   ]
  },
  {
   "cell_type": "code",
   "execution_count": 5,
   "metadata": {},
   "outputs": [],
   "source": [
    "# Assignment 2, Part 2a\n",
    "\n",
    "# Use pandas methods to find...\n",
    "# the maximum and minimum salaries and ages\n",
    "# Find the sum of all the salaries using pandas methods\n",
    "# Find the mean age"
   ]
  },
  {
   "cell_type": "code",
   "execution_count": 6,
   "metadata": {
    "metadata": {}
   },
   "outputs": [
    {
     "name": "stdout",
     "output_type": "stream",
     "text": [
      "19200.0\n",
      "68700.0\n",
      "195900.0\n",
      "39180.0\n"
     ]
    }
   ],
   "source": [
    "# these are non-panda methods...\n",
    "import statistics\n",
    "min_Sal = min(df_staff['Salary'])\n",
    "max_Sal = max(df_staff['Salary'])\n",
    "sum_Sal = sum(df_staff['Salary'])\n",
    "mean_Sal = statistics.mean(df_staff['Salary'])\n",
    "print(min_Sal)\n",
    "print(max_Sal)\n",
    "print(sum_Sal)\n",
    "print(mean_Sal)"
   ]
  },
  {
   "cell_type": "code",
   "execution_count": 7,
   "metadata": {
    "metadata": {}
   },
   "outputs": [
    {
     "name": "stdout",
     "output_type": "stream",
     "text": [
      "Maximum salary is 68700.0\n",
      "EmployeeID       A0431\n",
      "Age                 44\n",
      "Salary         68700.0\n",
      "Job Title     director\n",
      "Name: 4, dtype: object\n",
      "Maximum salary is on row 4 and value is 68700.0\n"
     ]
    }
   ],
   "source": [
    "# these are panda methods...\n",
    "# https://www.tutorialspoint.com/python-pandas-find-the-maximum-value-of-a-column-and-return-its-corresponding-row-values\n",
    "import pandas as pd\n",
    "# Using 2 different solution options.\n",
    "# This 1st option creates a 1-row DF for the row we want to select  i.e. maxy is a DataFrame.\n",
    "maxy = df_staff.loc[df_staff['Salary'].idxmax()]\n",
    "# N.B. you need to use 2 different types of inverted commas in the codeline below\n",
    "print(f'Maximum salary is {maxy[\"Salary\"]}')\n",
    "print(maxy)\n",
    "# This 2nd option creates a DF index for the row we want to select i.e. maxy2 is a DataFrame index.\n",
    "maxy2 = df_staff['Salary'].idxmax()\n",
    "print(f'Maximum salary is on row {maxy2} and value is {df_staff.loc[maxy2, \"Salary\"]}')"
   ]
  },
  {
   "cell_type": "code",
   "execution_count": 8,
   "metadata": {
    "metadata": {}
   },
   "outputs": [
    {
     "name": "stdout",
     "output_type": "stream",
     "text": [
      "Maximum salary is on row 4 and value is 68700.0\n",
      "Minimum salary is on row 1 and value is 19200.0\n",
      "Maximum age is on row 0 and value is 54\n",
      "Minimum age is on row 1 and value is 21\n"
     ]
    }
   ],
   "source": [
    "import pandas as pd\n",
    "# we will continue to find the maximum and minimum salaries and ages using the 2nd option (creating a DF index)\n",
    "maxy2 = df_staff['Salary'].idxmax()\n",
    "print(f'Maximum salary is on row {maxy2} and value is {df_staff.loc[maxy2, \"Salary\"]}')\n",
    "miny2 = df_staff['Salary'].idxmin()\n",
    "print(f'Minimum salary is on row {miny2} and value is {df_staff.loc[miny2, \"Salary\"]}')\n",
    "maxy3 = df_staff['Age'].idxmax()\n",
    "print(f'Maximum age is on row {maxy3} and value is {df_staff.loc[maxy3, \"Age\"]}')\n",
    "miny3 = df_staff['Age'].idxmin()\n",
    "print(f'Minimum age is on row {miny3} and value is {df_staff.loc[miny3, \"Age\"]}')"
   ]
  },
  {
   "cell_type": "code",
   "execution_count": 9,
   "metadata": {
    "metadata": {}
   },
   "outputs": [
    {
     "name": "stdout",
     "output_type": "stream",
     "text": [
      "195900.0\n",
      "195900.0\n",
      "35.8\n"
     ]
    }
   ],
   "source": [
    "# Find the sum of all the salaries using pandas methods\n",
    "# Find the mean age\n",
    "# import pandas as pd\n",
    "sum_salary1 = sum(df_staff[\"Salary\"])\n",
    "print(sum_salary1)\n",
    "sum_salary2 = df_staff['Salary'].sum()\n",
    "print(sum_salary2)\n",
    "# various methods for doing this, I'm not sure that they are all panda methods....\n",
    "# https://stackoverflow.com/questions/41286569/get-total-of-pandas-column\n",
    "# if you want to sum DF rows rather than columns....\n",
    "# https://www.w3schools.com/python/pandas/ref_df_sum.asp\n",
    "mean_age = df_staff['Age'].mean()\n",
    "print(mean_age)"
   ]
  },
  {
   "cell_type": "code",
   "execution_count": 10,
   "metadata": {
    "metadata": {}
   },
   "outputs": [
    {
     "name": "stdout",
     "output_type": "stream",
     "text": [
      "  EmployeeID  Age   Salary   Job Title  job_len\n",
      "0      A0345   54  48600.0     manager        7\n",
      "1      A0359   21  19200.0      driver        6\n",
      "2      A0421   32  27500.0  negotiator       10\n",
      "3      A0424   28  31900.0  accountant       10\n",
      "4      A0431   44  68700.0    director        8\n",
      "Maximum job length is \"negotiator\" on row 2, and the value is 10\n",
      "  EmployeeID  Age   Salary   Job Title  job_len\n",
      "2      A0421   32  27500.0  negotiator       10\n",
      "3      A0424   28  31900.0  accountant       10\n",
      "Median salary is 31900.0\n",
      "  EmployeeID  Age   Salary Job Title  job_len\n",
      "0      A0345   54  48600.0   manager        7\n",
      "4      A0431   44  68700.0  director        8\n"
     ]
    }
   ],
   "source": [
    "# Assignment 2, Part 2b\n",
    "# A little more tricky: find the longest name and print it, and its length\n",
    "# Assign to an appropriately named variable a slice of the dataframe where all the salaries are above the median\n",
    "# To a different appropriately named variable, slice the dataframe to have only those above the\n",
    "# median age who also have a letter (of your choice) at least once in their name.\n",
    "df_staff['job_len'] = df_staff['Job Title'].str.len()\n",
    "print(df_staff)\n",
    "# find the longest name, print it, and its length\n",
    "maxy4 = df_staff['job_len'].idxmax()\n",
    "print(f'Maximum job length is \"{df_staff.loc[maxy4, \"Job Title\"]}\" on row {maxy4}, and the value is {df_staff.loc[maxy4, \"job_len\"]}')\n",
    "# take a slice (i.e. complete rows) of the dataframe for those rows where job length is the maximum value\n",
    "maxy5 = max(df_staff['job_len'])\n",
    "maxy6 = df_staff.loc[df_staff['job_len'] == maxy5]\n",
    "print(maxy6)\n",
    "# Assign to an appropriately named variable a slice of the dataframe where all the salaries are above the median\n",
    "import statistics\n",
    "medy = (df_staff['Salary'].median())\n",
    "medy1 = df_staff.loc[df_staff['Salary'] > medy]\n",
    "print(f'Median salary is {medy}')\n",
    "print(medy1)"
   ]
  },
  {
   "cell_type": "code",
   "execution_count": 11,
   "metadata": {
    "metadata": {}
   },
   "outputs": [
    {
     "name": "stdout",
     "output_type": "stream",
     "text": [
      "  EmployeeID  Age   Salary Job Title  job_len\n",
      "4      A0431   44  68700.0  director        8\n"
     ]
    }
   ],
   "source": [
    "# Assign to an appropriately named variable a slice of the dataframe where all the salaries are above the median\n",
    "# and who also have a letter (of your choice) at least once in their Job Title.\n",
    "import statistics\n",
    "medy = (df_staff['Salary'].median())\n",
    "medy1 = df_staff.loc[df_staff['Salary'] > medy]\n",
    "medy2 = medy1[medy1['Job Title'].str.contains('o', regex=False)]\n",
    "print(medy2)"
   ]
  },
  {
   "cell_type": "code",
   "execution_count": 12,
   "metadata": {},
   "outputs": [],
   "source": [
    "# Assignment 3, Part 1a\n",
    "\n",
    "# There are two CSVs in the data folder with fake CIN census data. One is the Child Characteristics file, one is Child Identifiers.\n",
    "# Using the example below for help, assign child identifiers to a suitably named variable. \n",
    "# The filepath you need is: '/workspaces/D2I-Jupyter-Notebook-Tools/ERN-worksheets/data/ChildIdentifiers.csv'\n",
    "# Use the .info() method to find out about the tables\n",
    "# Merge child idenfitiers with child characteristics on a suitable column shared between both tables."
   ]
  },
  {
   "cell_type": "code",
   "execution_count": 13,
   "metadata": {
    "metadata": {}
   },
   "outputs": [
    {
     "name": "stdout",
     "output_type": "stream",
     "text": [
      "https://raw.githubusercontent.com/data-to-insight/ERN-sessions/main/data/ChildCharacteristics.csv\n",
      "https://raw.githubusercontent.com/data-to-insight/ERN-sessions/main/data/ChildIdentifiers.csv\n",
      "<class 'pandas.core.frame.DataFrame'>\n",
      "RangeIndex: 332 entries, 0 to 331\n",
      "Data columns (total 3 columns):\n",
      " #   Column      Non-Null Count  Dtype \n",
      "---  ------      --------------  ----- \n",
      " 0   Unnamed: 0  332 non-null    int64 \n",
      " 1   LAchildID   332 non-null    object\n",
      " 2   Ethnicity   332 non-null    object\n",
      "dtypes: int64(1), object(2)\n",
      "memory usage: 7.9+ KB\n",
      "None\n"
     ]
    },
    {
     "data": {
      "text/html": [
       "<div>\n",
       "<style scoped>\n",
       "    .dataframe tbody tr th:only-of-type {\n",
       "        vertical-align: middle;\n",
       "    }\n",
       "\n",
       "    .dataframe tbody tr th {\n",
       "        vertical-align: top;\n",
       "    }\n",
       "\n",
       "    .dataframe thead th {\n",
       "        text-align: right;\n",
       "    }\n",
       "</style>\n",
       "<table border=\"1\" class=\"dataframe\">\n",
       "  <thead>\n",
       "    <tr style=\"text-align: right;\">\n",
       "      <th></th>\n",
       "      <th>Unnamed: 0</th>\n",
       "      <th>LAchildID</th>\n",
       "      <th>Ethnicity</th>\n",
       "    </tr>\n",
       "  </thead>\n",
       "  <tbody>\n",
       "    <tr>\n",
       "      <th>0</th>\n",
       "      <td>0</td>\n",
       "      <td>RND000215205141</td>\n",
       "      <td>WIRT</td>\n",
       "    </tr>\n",
       "    <tr>\n",
       "      <th>1</th>\n",
       "      <td>1</td>\n",
       "      <td>RND000824303014</td>\n",
       "      <td>WROM</td>\n",
       "    </tr>\n",
       "    <tr>\n",
       "      <th>2</th>\n",
       "      <td>2</td>\n",
       "      <td>RND000750143123</td>\n",
       "      <td>AOTH</td>\n",
       "    </tr>\n",
       "    <tr>\n",
       "      <th>3</th>\n",
       "      <td>3</td>\n",
       "      <td>RND000909164501</td>\n",
       "      <td>MWBC</td>\n",
       "    </tr>\n",
       "    <tr>\n",
       "      <th>4</th>\n",
       "      <td>4</td>\n",
       "      <td>RND000382171815</td>\n",
       "      <td>APKN</td>\n",
       "    </tr>\n",
       "    <tr>\n",
       "      <th>...</th>\n",
       "      <td>...</td>\n",
       "      <td>...</td>\n",
       "      <td>...</td>\n",
       "    </tr>\n",
       "    <tr>\n",
       "      <th>327</th>\n",
       "      <td>327</td>\n",
       "      <td>RND000112711501</td>\n",
       "      <td>WOTH</td>\n",
       "    </tr>\n",
       "    <tr>\n",
       "      <th>328</th>\n",
       "      <td>328</td>\n",
       "      <td>RND000513120794</td>\n",
       "      <td>WROM</td>\n",
       "    </tr>\n",
       "    <tr>\n",
       "      <th>329</th>\n",
       "      <td>329</td>\n",
       "      <td>RND000541643134</td>\n",
       "      <td>BCRB</td>\n",
       "    </tr>\n",
       "    <tr>\n",
       "      <th>330</th>\n",
       "      <td>330</td>\n",
       "      <td>RND000404939452</td>\n",
       "      <td>AIND</td>\n",
       "    </tr>\n",
       "    <tr>\n",
       "      <th>331</th>\n",
       "      <td>331</td>\n",
       "      <td>RND000589802835</td>\n",
       "      <td>WBRI</td>\n",
       "    </tr>\n",
       "  </tbody>\n",
       "</table>\n",
       "<p>332 rows × 3 columns</p>\n",
       "</div>"
      ],
      "text/plain": [
       "     Unnamed: 0        LAchildID Ethnicity\n",
       "0             0  RND000215205141      WIRT\n",
       "1             1  RND000824303014      WROM\n",
       "2             2  RND000750143123      AOTH\n",
       "3             3  RND000909164501      MWBC\n",
       "4             4  RND000382171815      APKN\n",
       "..          ...              ...       ...\n",
       "327         327  RND000112711501      WOTH\n",
       "328         328  RND000513120794      WROM\n",
       "329         329  RND000541643134      BCRB\n",
       "330         330  RND000404939452      AIND\n",
       "331         331  RND000589802835      WBRI\n",
       "\n",
       "[332 rows x 3 columns]"
      ]
     },
     "execution_count": 13,
     "metadata": {},
     "output_type": "execute_result"
    }
   ],
   "source": [
    "# Assignment 3\n",
    "\n",
    "import pandas as pd\n",
    "filename_1 = 'https://raw.githubusercontent.com/data-to-insight/ERN-sessions/main/data/ChildCharacteristics.csv'\n",
    "filename_2 = 'https://raw.githubusercontent.com/data-to-insight/ERN-sessions/main/data/ChildIdentifiers.csv'\n",
    "\n",
    "filepaths = [filename_1,filename_2]\n",
    "for filepath in filepaths:\n",
    "     print(filepath)\n",
    "\n",
    "dfs = {}\n",
    "\n",
    "for i, v in enumerate(filepaths):\n",
    "    dfs[i] = pd.read_csv(filepaths[i])\n",
    "print(dfs[0].info())\n",
    "dfs[0]"
   ]
  },
  {
   "cell_type": "code",
   "execution_count": 14,
   "metadata": {
    "metadata": {}
   },
   "outputs": [
    {
     "name": "stdout",
     "output_type": "stream",
     "text": [
      "<class 'pandas.core.frame.DataFrame'>\n",
      "RangeIndex: 332 entries, 0 to 331\n",
      "Data columns (total 9 columns):\n",
      " #   Column                   Non-Null Count  Dtype  \n",
      "---  ------                   --------------  -----  \n",
      " 0   Unnamed: 0               332 non-null    int64  \n",
      " 1   LAchildID                332 non-null    object \n",
      " 2   UPN                      332 non-null    object \n",
      " 3   FormerUPN                0 non-null      float64\n",
      " 4   UPNunknown               0 non-null      float64\n",
      " 5   PersonBirthDate          332 non-null    object \n",
      " 6   ExpectedPersonBirthDate  7 non-null      object \n",
      " 7   GenderCurrent            332 non-null    int64  \n",
      " 8   PersonDeathDate          21 non-null     object \n",
      "dtypes: float64(2), int64(2), object(5)\n",
      "memory usage: 23.5+ KB\n",
      "None\n"
     ]
    },
    {
     "data": {
      "text/html": [
       "<div>\n",
       "<style scoped>\n",
       "    .dataframe tbody tr th:only-of-type {\n",
       "        vertical-align: middle;\n",
       "    }\n",
       "\n",
       "    .dataframe tbody tr th {\n",
       "        vertical-align: top;\n",
       "    }\n",
       "\n",
       "    .dataframe thead th {\n",
       "        text-align: right;\n",
       "    }\n",
       "</style>\n",
       "<table border=\"1\" class=\"dataframe\">\n",
       "  <thead>\n",
       "    <tr style=\"text-align: right;\">\n",
       "      <th></th>\n",
       "      <th>Unnamed: 0</th>\n",
       "      <th>LAchildID</th>\n",
       "      <th>UPN</th>\n",
       "      <th>FormerUPN</th>\n",
       "      <th>UPNunknown</th>\n",
       "      <th>PersonBirthDate</th>\n",
       "      <th>ExpectedPersonBirthDate</th>\n",
       "      <th>GenderCurrent</th>\n",
       "      <th>PersonDeathDate</th>\n",
       "    </tr>\n",
       "  </thead>\n",
       "  <tbody>\n",
       "    <tr>\n",
       "      <th>0</th>\n",
       "      <td>0</td>\n",
       "      <td>RND000215205141</td>\n",
       "      <td>A850728973744</td>\n",
       "      <td>NaN</td>\n",
       "      <td>NaN</td>\n",
       "      <td>2019-12-06</td>\n",
       "      <td>NaN</td>\n",
       "      <td>1</td>\n",
       "      <td>NaN</td>\n",
       "    </tr>\n",
       "    <tr>\n",
       "      <th>1</th>\n",
       "      <td>1</td>\n",
       "      <td>RND000824303014</td>\n",
       "      <td>A141396438491</td>\n",
       "      <td>NaN</td>\n",
       "      <td>NaN</td>\n",
       "      <td>2011-04-27</td>\n",
       "      <td>NaN</td>\n",
       "      <td>9</td>\n",
       "      <td>NaN</td>\n",
       "    </tr>\n",
       "    <tr>\n",
       "      <th>2</th>\n",
       "      <td>2</td>\n",
       "      <td>RND000750143123</td>\n",
       "      <td>A929946861554</td>\n",
       "      <td>NaN</td>\n",
       "      <td>NaN</td>\n",
       "      <td>2017-06-06</td>\n",
       "      <td>2019-12-06</td>\n",
       "      <td>1</td>\n",
       "      <td>NaN</td>\n",
       "    </tr>\n",
       "    <tr>\n",
       "      <th>3</th>\n",
       "      <td>3</td>\n",
       "      <td>RND000909164501</td>\n",
       "      <td>A612330267292</td>\n",
       "      <td>NaN</td>\n",
       "      <td>NaN</td>\n",
       "      <td>2014-10-03</td>\n",
       "      <td>NaN</td>\n",
       "      <td>0</td>\n",
       "      <td>NaN</td>\n",
       "    </tr>\n",
       "    <tr>\n",
       "      <th>4</th>\n",
       "      <td>4</td>\n",
       "      <td>RND000382171815</td>\n",
       "      <td>A604459366806</td>\n",
       "      <td>NaN</td>\n",
       "      <td>NaN</td>\n",
       "      <td>2019-09-25</td>\n",
       "      <td>NaN</td>\n",
       "      <td>2</td>\n",
       "      <td>NaN</td>\n",
       "    </tr>\n",
       "    <tr>\n",
       "      <th>...</th>\n",
       "      <td>...</td>\n",
       "      <td>...</td>\n",
       "      <td>...</td>\n",
       "      <td>...</td>\n",
       "      <td>...</td>\n",
       "      <td>...</td>\n",
       "      <td>...</td>\n",
       "      <td>...</td>\n",
       "      <td>...</td>\n",
       "    </tr>\n",
       "    <tr>\n",
       "      <th>327</th>\n",
       "      <td>327</td>\n",
       "      <td>RND000112711501</td>\n",
       "      <td>A465246916125</td>\n",
       "      <td>NaN</td>\n",
       "      <td>NaN</td>\n",
       "      <td>2010-07-07</td>\n",
       "      <td>NaN</td>\n",
       "      <td>2</td>\n",
       "      <td>NaN</td>\n",
       "    </tr>\n",
       "    <tr>\n",
       "      <th>328</th>\n",
       "      <td>328</td>\n",
       "      <td>RND000513120794</td>\n",
       "      <td>A540014111973</td>\n",
       "      <td>NaN</td>\n",
       "      <td>NaN</td>\n",
       "      <td>2018-08-14</td>\n",
       "      <td>NaN</td>\n",
       "      <td>2</td>\n",
       "      <td>NaN</td>\n",
       "    </tr>\n",
       "    <tr>\n",
       "      <th>329</th>\n",
       "      <td>329</td>\n",
       "      <td>RND000541643134</td>\n",
       "      <td>A549582689058</td>\n",
       "      <td>NaN</td>\n",
       "      <td>NaN</td>\n",
       "      <td>2021-12-09</td>\n",
       "      <td>NaN</td>\n",
       "      <td>51</td>\n",
       "      <td>NaN</td>\n",
       "    </tr>\n",
       "    <tr>\n",
       "      <th>330</th>\n",
       "      <td>330</td>\n",
       "      <td>RND000404939452</td>\n",
       "      <td>A889492349196</td>\n",
       "      <td>NaN</td>\n",
       "      <td>NaN</td>\n",
       "      <td>2013-07-23</td>\n",
       "      <td>NaN</td>\n",
       "      <td>2</td>\n",
       "      <td>NaN</td>\n",
       "    </tr>\n",
       "    <tr>\n",
       "      <th>331</th>\n",
       "      <td>331</td>\n",
       "      <td>RND000589802835</td>\n",
       "      <td>A877624860226</td>\n",
       "      <td>NaN</td>\n",
       "      <td>NaN</td>\n",
       "      <td>2021-10-25</td>\n",
       "      <td>NaN</td>\n",
       "      <td>9</td>\n",
       "      <td>NaN</td>\n",
       "    </tr>\n",
       "  </tbody>\n",
       "</table>\n",
       "<p>332 rows × 9 columns</p>\n",
       "</div>"
      ],
      "text/plain": [
       "     Unnamed: 0        LAchildID            UPN  FormerUPN  UPNunknown  \\\n",
       "0             0  RND000215205141  A850728973744        NaN         NaN   \n",
       "1             1  RND000824303014  A141396438491        NaN         NaN   \n",
       "2             2  RND000750143123  A929946861554        NaN         NaN   \n",
       "3             3  RND000909164501  A612330267292        NaN         NaN   \n",
       "4             4  RND000382171815  A604459366806        NaN         NaN   \n",
       "..          ...              ...            ...        ...         ...   \n",
       "327         327  RND000112711501  A465246916125        NaN         NaN   \n",
       "328         328  RND000513120794  A540014111973        NaN         NaN   \n",
       "329         329  RND000541643134  A549582689058        NaN         NaN   \n",
       "330         330  RND000404939452  A889492349196        NaN         NaN   \n",
       "331         331  RND000589802835  A877624860226        NaN         NaN   \n",
       "\n",
       "    PersonBirthDate ExpectedPersonBirthDate  GenderCurrent PersonDeathDate  \n",
       "0        2019-12-06                     NaN              1             NaN  \n",
       "1        2011-04-27                     NaN              9             NaN  \n",
       "2        2017-06-06              2019-12-06              1             NaN  \n",
       "3        2014-10-03                     NaN              0             NaN  \n",
       "4        2019-09-25                     NaN              2             NaN  \n",
       "..              ...                     ...            ...             ...  \n",
       "327      2010-07-07                     NaN              2             NaN  \n",
       "328      2018-08-14                     NaN              2             NaN  \n",
       "329      2021-12-09                     NaN             51             NaN  \n",
       "330      2013-07-23                     NaN              2             NaN  \n",
       "331      2021-10-25                     NaN              9             NaN  \n",
       "\n",
       "[332 rows x 9 columns]"
      ]
     },
     "execution_count": 14,
     "metadata": {},
     "output_type": "execute_result"
    }
   ],
   "source": [
    "print(dfs[1].info())\n",
    "dfs[1]"
   ]
  },
  {
   "cell_type": "code",
   "execution_count": 15,
   "metadata": {
    "metadata": {}
   },
   "outputs": [
    {
     "name": "stdout",
     "output_type": "stream",
     "text": [
      "   Unnamed: 0_x        LAchildID Ethnicity  Unnamed: 0_y            UPN  \\\n",
      "0             0  RND000215205141      WIRT             0  A850728973744   \n",
      "1             1  RND000824303014      WROM             1  A141396438491   \n",
      "2             2  RND000750143123      AOTH             2  A929946861554   \n",
      "3             3  RND000909164501      MWBC             3  A612330267292   \n",
      "4             4  RND000382171815      APKN             4  A604459366806   \n",
      "\n",
      "   FormerUPN  UPNunknown PersonBirthDate ExpectedPersonBirthDate  \\\n",
      "0        NaN         NaN      2019-12-06                     NaN   \n",
      "1        NaN         NaN      2011-04-27                     NaN   \n",
      "2        NaN         NaN      2017-06-06              2019-12-06   \n",
      "3        NaN         NaN      2014-10-03                     NaN   \n",
      "4        NaN         NaN      2019-09-25                     NaN   \n",
      "\n",
      "   GenderCurrent PersonDeathDate  \n",
      "0              1             NaN  \n",
      "1              9             NaN  \n",
      "2              1             NaN  \n",
      "3              0             NaN  \n",
      "4              2             NaN  \n"
     ]
    }
   ],
   "source": [
    "import pandas as pd\n",
    "df = pd.merge(dfs[0], dfs[1], on='LAchildID', how=\"outer\")\n",
    "print(df.head(5))"
   ]
  },
  {
   "cell_type": "code",
   "execution_count": 16,
   "metadata": {
    "metadata": {}
   },
   "outputs": [],
   "source": [
    "# Assignment 3, Part 1b\n",
    "\n",
    "# Convert all columns with dates [from string] to datetime\n",
    "# The allowed gender codes for this table are 0, 1, 2, and 9, slice out a dataframe (suitably named) with only rows where this rule is violated\n",
    "# Can you find any rows where someone's death date is before their birth date?\n",
    "# Can you find any rows where someone has an expected birth date and an actual birth date, which should not happen?\n",
    "# Can you find the average age of all children who refused to have their ethnicity taken down and for whom the information is not yet obtained \n",
    "# (knowing Ethnicity codes are REFU and NOBT)"
   ]
  },
  {
   "cell_type": "code",
   "execution_count": 17,
   "metadata": {
    "metadata": {}
   },
   "outputs": [
    {
     "name": "stdout",
     "output_type": "stream",
     "text": [
      "   Unnamed: 0_x        LAchildID Ethnicity  Unnamed: 0_y            UPN  \\\n",
      "0             0  RND000215205141      WIRT             0  A850728973744   \n",
      "1             1  RND000824303014      WROM             1  A141396438491   \n",
      "2             2  RND000750143123      AOTH             2  A929946861554   \n",
      "3             3  RND000909164501      MWBC             3  A612330267292   \n",
      "4             4  RND000382171815      APKN             4  A604459366806   \n",
      "\n",
      "   FormerUPN  UPNunknown PersonBirthDate ExpectedPersonBirthDate  \\\n",
      "0        NaN         NaN      2019-12-06                     NaT   \n",
      "1        NaN         NaN      2011-04-27                     NaT   \n",
      "2        NaN         NaN      2017-06-06              2019-12-06   \n",
      "3        NaN         NaN      2014-10-03                     NaT   \n",
      "4        NaN         NaN      2019-09-25                     NaT   \n",
      "\n",
      "   GenderCurrent PersonDeathDate  \n",
      "0              1             NaT  \n",
      "1              9             NaT  \n",
      "2              1             NaT  \n",
      "3              0             NaT  \n",
      "4              2             NaT  \n"
     ]
    }
   ],
   "source": [
    "# Convert all columns with dates [from string] to datetime\n",
    "import pandas as pd\n",
    "df['PersonBirthDate'] = pd.to_datetime(df['PersonBirthDate'], format=\"%Y-%m-%d\", errors='coerce')\n",
    "# for information, df['PersonBirthDate'] = pd.to_datetime(df['PersonBirthDate'], format=\"%d-%m-%Y\", errors='coerce') DOES NOT WORK\n",
    "df['ExpectedPersonBirthDate'] = pd.to_datetime(df['ExpectedPersonBirthDate'], format=\"%Y-%m-%d\", errors='coerce')\n",
    "df['PersonDeathDate'] = pd.to_datetime(df['PersonDeathDate'], format=\"%Y-%m-%d\", errors='coerce')\n",
    "print(df.head(5))"
   ]
  },
  {
   "cell_type": "code",
   "execution_count": 18,
   "metadata": {
    "metadata": {}
   },
   "outputs": [
    {
     "name": "stdout",
     "output_type": "stream",
     "text": [
      "   Unnamed: 0_x        LAchildID Ethnicity  Unnamed: 0_y            UPN  \\\n",
      "0             0  RND000215205141      WIRT             0  A850728973744   \n",
      "1             1  RND000824303014      WROM             1  A141396438491   \n",
      "2             2  RND000750143123      AOTH             2  A929946861554   \n",
      "4             4  RND000382171815      APKN             4  A604459366806   \n",
      "6             6  RND000852873211      WIRT             6  A605952359626   \n",
      "\n",
      "   FormerUPN  UPNunknown PersonBirthDate ExpectedPersonBirthDate  \\\n",
      "0        NaN         NaN      2019-12-06                     NaT   \n",
      "1        NaN         NaN      2011-04-27                     NaT   \n",
      "2        NaN         NaN      2017-06-06              2019-12-06   \n",
      "4        NaN         NaN      2019-09-25                     NaT   \n",
      "6        NaN         NaN      2013-01-19                     NaT   \n",
      "\n",
      "   GenderCurrent PersonDeathDate  \n",
      "0              1             NaT  \n",
      "1              9             NaT  \n",
      "2              1             NaT  \n",
      "4              2             NaT  \n",
      "6              2             NaT  \n"
     ]
    }
   ],
   "source": [
    "# The allowed gender codes for this table are 0, 1, 2, and 9, slice out a dataframe (suitably named) with only rows where this rule is violated\n",
    "# this isn't right yet, I am struggling with 'not in list of integers'\n",
    "import pandas as pd\n",
    "import datetime\n",
    "gen_rej = df[df['GenderCurrent'] != 0]\n",
    "print(gen_rej.head(5))"
   ]
  },
  {
   "cell_type": "code",
   "execution_count": 19,
   "metadata": {
    "metadata": {}
   },
   "outputs": [
    {
     "name": "stdout",
     "output_type": "stream",
     "text": [
      "   Unnamed: 0_x        LAchildID Ethnicity  Unnamed: 0_y            UPN  \\\n",
      "0             0  RND000215205141      WIRT             0  A850728973744   \n",
      "1             1  RND000824303014      WROM             1  A141396438491   \n",
      "2             2  RND000750143123      AOTH             2  A929946861554   \n",
      "3             3  RND000909164501      MWBC             3  A612330267292   \n",
      "4             4  RND000382171815      APKN             4  A604459366806   \n",
      "\n",
      "   FormerUPN  UPNunknown PersonBirthDate ExpectedPersonBirthDate  \\\n",
      "0        NaN         NaN      2019-12-06                     NaT   \n",
      "1        NaN         NaN      2011-04-27                     NaT   \n",
      "2        NaN         NaN      2017-06-06              2019-12-06   \n",
      "3        NaN         NaN      2014-10-03                     NaT   \n",
      "4        NaN         NaN      2019-09-25                     NaT   \n",
      "\n",
      "   GenderCurrent PersonDeathDate death  \n",
      "0              1             NaT   NaT  \n",
      "1              9             NaT   NaT  \n",
      "2              1             NaT   NaT  \n",
      "3              0             NaT   NaT  \n",
      "4              2             NaT   NaT  \n"
     ]
    }
   ],
   "source": [
    "# Can you find any rows where someone's death date is before their birth date?\n",
    "import pandas as pd\n",
    "import datetime\n",
    "\n",
    "df['death'] = df['PersonDeathDate'] - df['PersonBirthDate']\n",
    "# df['death'] = df['death'] / pd.Timedelta('365 days')\n",
    "# next line rounds, converts to integers, ignores the error produced by the empty value for 'PersonDeathDate'.\n",
    "# df['death'] = df['death'].round().astype('int', errors = 'ignore')\n",
    "# death_rej = df[df['death'] != None]\n",
    "print(df.head(5))\n"
   ]
  },
  {
   "cell_type": "code",
   "execution_count": 72,
   "metadata": {
    "metadata": {}
   },
   "outputs": [
    {
     "name": "stdout",
     "output_type": "stream",
     "text": [
      "Please input digits only.\n"
     ]
    }
   ],
   "source": [
    "# Assignment 4, Part 1\n",
    "\n",
    "# Remember the exercise from assignment 1 where you had to write code to change a credit card number to display\n",
    "# only the 4 last numbers, and the beginning as all Xs?\n",
    "# Write a function that takes in any 16 digit number and prints the first 12 characters as Xs and the\n",
    "# last 4 as the original numbers.\n",
    "\n",
    "# card_no2 = str(444455566667777)\n",
    "card_no2 = str(input(\"Enter your value: \"))\n",
    "if any(not char.isdigit() for char in card_no2):\n",
    "    print(\"Please input digits only.\")\n",
    "    exit\n",
    "else:\n",
    "    four_a = card_no2[0:4]\n",
    "    four_b = card_no2[4:8]\n",
    "    four_c = card_no2[8:12]\n",
    "    donald = f'{four_a}-{four_b}-{four_c}-XXXX'\n",
    "    print(card_no2)\n",
    "    print(donald)"
   ]
  },
  {
   "cell_type": "code",
   "execution_count": 83,
   "metadata": {
    "metadata": {}
   },
   "outputs": [
    {
     "name": "stdout",
     "output_type": "stream",
     "text": [
      "You entered:  \"0000111122223333\"\n",
      "Your bank card is:   0000-1111-2222-XXXX\n"
     ]
    }
   ],
   "source": [
    "# Assignment 4, Part 2\n",
    "\n",
    "# Now, improve and extend the function to check whether the user has input 16 numbers,\n",
    "# if they have put in a different amount of numbers, have it throw an error.\n",
    "# Improve your function again so it can accept a string or an integer (if it can't already) ???\n",
    "\n",
    "# card_no2 = str(444455566667777)\n",
    "card_no2 = str(input(\"Enter your value: \"))\n",
    "if any(not char.isdigit() for char in card_no2):\n",
    "    print(\"Please input digits only.\")\n",
    "    exit\n",
    "if len(card_no2) !=16:\n",
    "    print(\"Please input exactly 16 digits.\")\n",
    "    exit\n",
    "else:\n",
    "    four_a = card_no2[0:4]\n",
    "    four_b = card_no2[4:8]\n",
    "    four_c = card_no2[8:12]\n",
    "    donald = f'{four_a}-{four_b}-{four_c}-XXXX'\n",
    "    phrase1 = f'You entered:  \"{card_no2}\"'\n",
    "    phrase2 = f'Your bank card is:   {donald}'\n",
    "    print (phrase1)\n",
    "    print (phrase2)"
   ]
  },
  {
   "cell_type": "code",
   "execution_count": 127,
   "metadata": {
    "metadata": {}
   },
   "outputs": [
    {
     "name": "stdout",
     "output_type": "stream",
     "text": [
      "Your first word is:   trap\n",
      "Your second word is:  PART\n",
      "Your second word IS an anagram of your first word.\n"
     ]
    }
   ],
   "source": [
    "# Assignment 4, Part 3\n",
    "\n",
    "# Write a function that takes two strings as arguments, checks if the two strings are anagrams,\n",
    "# and prints an answer of the form:    A is an anagram of B     or    A is not an anagram of B\n",
    "# Deal with upper/lower case issue e.g. 'God' is an anagram of 'dog'\n",
    "# Instead of using for loops, can we try using a panda method to loop?\n",
    "\n",
    "NegResp = 'Your second word is NOT an anagram of your first word.'\n",
    "PosResp = 'Your second word IS an anagram of your first word.'\n",
    "word1 = str(input('Input your first word here:'))\n",
    "word2 = str(input('Input your second word here:'))\n",
    "Len1 = len(word1)\n",
    "Len2 = len(word2)\n",
    "print(f'Your first word is:   {word1}')\n",
    "print(f'Your second word is:  {word2}')\n",
    "word1 = word1.lower()\n",
    "word2 = word2.lower()\n",
    "numbers1 = list(range(0,Len1))\n",
    "numbers2 = list(range(0,Len2))\n",
    "letters1 = []\n",
    "letters2 = []\n",
    "for x in numbers1:\n",
    "    letters1.append(word1[x])\n",
    "letters1 = sorted(letters1)\n",
    "for y in numbers2:\n",
    "    letters2.append(word2[y])\n",
    "letters2 = sorted(letters2)\n",
    "if letters1 == letters2:\n",
    "    print(PosResp)\n",
    "else:\n",
    "    print(NegResp)"
   ]
  },
  {
   "cell_type": "code",
   "execution_count": 139,
   "metadata": {
    "metadata": {}
   },
   "outputs": [
    {
     "name": "stdout",
     "output_type": "stream",
     "text": [
      "[0, 1, 1, 2, 3, 5, 8, 13, 21, 34, 55, 89, 144, 233, 377, 610, 987, 1597, 2584, 4181, 6765, 10946, 17711, 28657, 46368, 75025, 121393, 196418, 317811, 514229, 832040, 1346269, 2178309, 3524578, 5702887, 9227465, 14930352, 24157817, 39088169, 63245986, 102334155, 165580141, 267914296, 433494437, 701408733, 1134903170, 1836311903, 2971215073, 4807526976, 7778742049, 12586269025, 20365011074, 32951280099, 53316291173, 86267571272, 139583862445, 225851433717, 365435296162, 591286729879, 956722026041, 1548008755920, 2504730781961, 4052739537881, 6557470319842, 10610209857723, 17167680177565, 27777890035288, 44945570212853, 72723460248141, 117669030460994, 190392490709135, 308061521170129, 498454011879264, 806515533049393, 1304969544928657, 2111485077978050, 3416454622906707, 5527939700884757, 8944394323791464, 14472334024676221, 23416728348467685, 37889062373143906, 61305790721611591, 99194853094755497, 160500643816367088, 259695496911122585, 420196140727489673, 679891637638612258, 1100087778366101931, 1779979416004714189, 2880067194370816120, 4660046610375530309, 7540113804746346429, 12200160415121876738, 19740274219868223167, 31940434634990099905, 51680708854858323072, 83621143489848422977, 135301852344706746049, 218922995834555169026, 354224848179261915075, 573147844013817084101]\n"
     ]
    }
   ],
   "source": [
    "# Assignment 5, Part 1\n",
    "\n",
    "# Write a function that generates the fibonacci sequence up to a set number of terms.\n",
    "# 0, 1, 1, 2, 3, 5, 8, 13, 21, 34, 55, 89, 144, ....\n",
    "# each term is the sum of the 2 preceeding terms\n",
    "\n",
    "numbers = list(range(3,103))\n",
    "seq = [0,1]\n",
    "for i in numbers:\n",
    "    next = seq[i-2] + seq[i-3]\n",
    "    seq.append(next)\n",
    "print(seq)\n"
   ]
  },
  {
   "cell_type": "code",
   "execution_count": 2,
   "metadata": {
    "metadata": {}
   },
   "outputs": [
    {
     "name": "stdout",
     "output_type": "stream",
     "text": [
      "[4, 5, 9, 14, 23, 37, 60, 97, 157, 254, 411, 665, 1076, 1741, 2817, 4558, 7375, 11933, 19308, 31241, 50549, 81790, 132339, 214129, 346468, 560597, 907065, 1467662, 2374727, 3842389, 6217116, 10059505, 16276621, 26336126, 42612747, 68948873, 111561620, 180510493, 292072113, 472582606, 764654719, 1237237325, 2001892044, 3239129369, 5241021413, 8480150782, 13721172195, 22201322977, 35922495172, 58123818149, 94046313321, 152170131470, 246216444791, 398386576261, 644603021052, 1042989597313, 1687592618365, 2730582215678, 4418174834043, 7148757049721, 11566931883764, 18715688933485, 30282620817249, 48998309750734, 79280930567983, 128279240318717, 207560170886700, 335839411205417, 543399582092117, 879238993297534, 1422638575389651, 2301877568687185, 3724516144076836, 6026393712764021, 9750909856840857, 15777303569604878, 25528213426445735, 41305516996050613, 66833730422496348, 108139247418546961, 174972977841043309, 283112225259590270, 458085203100633579, 741197428360223849, 1199282631460857428, 1940480059821081277, 3139762691281938705, 5080242751103019982, 8220005442384958687, 13300248193487978669, 21520253635872937356, 34820501829360916025, 56340755465233853381, 91161257294594769406, 147502012759828622787, 238663270054423392193, 386165282814252014980, 624828552868675407173, 1010993835682927422153, 1635822388551602829326, 2646816224234530251479, 4282638612786133080805]\n"
     ]
    }
   ],
   "source": [
    "# Assignment 5, Part 2\n",
    "\n",
    "# Extend the fibonacci function previously given to take two starting numbers and, using them, generate a\n",
    "# fibonacci-like sequence up to a set number of terms.\n",
    "\n",
    "a = int(input('Enter your first starting number, it must be an integer:'))\n",
    "b = int(input('Enter your second starting number, it must be an integer:'))\n",
    "numbers = list(range(3,53))\n",
    "seq = [a,b]\n",
    "for i in numbers:\n",
    "    next = seq[i-2] + seq[i-3]\n",
    "    seq.append(next)\n",
    "print(seq)"
   ]
  },
  {
   "cell_type": "code",
   "execution_count": 25,
   "metadata": {
    "metadata": {}
   },
   "outputs": [],
   "source": [
    "# Assignment 5, Part 3\n",
    "\n",
    "# Write a function named capital_indexes. The function takes a single parameter, which is a string.\n",
    "# Your function should return a list of all the indexes in the string that have capital letters.\n",
    "# For example, calling capital_indexes(\"HeLlO\") should return the list [0, 2, 4].\n",
    "\n"
   ]
  },
  {
   "cell_type": "code",
   "execution_count": 26,
   "metadata": {
    "metadata": {}
   },
   "outputs": [],
   "source": [
    "# Assignment 6, Part 1\n",
    "\n",
    "# Write a function that accepts a list of numbers as the argument\n",
    "# have it check that the list only contains numbers, if it doesn't have it return an error\n",
    "# Have the function randomize the order of the list and check whether the new, random order of the list has sorted the list into ascending order \n",
    "# Have it keep repeating the previous line until it has randomly sorted the list into order\n",
    "# Finally, print the new, sorted list and check it's worked.\n",
    "# To check if a list is sorted, you would really have to write another fucntion inside your function that checks that each element in the list is smaller than the previous one\n",
    "# However, as this is a beginner exercise, I'll let you check if <randomly sorted list> == sorted(<input list>)\n",
    "\n",
    "# This is a real (but silly) sorting method called either BOGOSORT or stupid-sort, but try not to look up how it's done, just give it a go"
   ]
  },
  {
   "cell_type": "code",
   "execution_count": 27,
   "metadata": {
    "metadata": {}
   },
   "outputs": [],
   "source": [
    "# Assignment 6, Part 2\n",
    "\n",
    "# The extension exercise for this is to write your own function to check if the randomly sorted list is sorted,\n",
    "# rather than comparing it to the already sorted list."
   ]
  }
 ],
 "metadata": {
  "kernelspec": {
   "display_name": "Python 3",
   "language": "python",
   "name": "python3"
  },
  "language_info": {
   "codemirror_mode": {
    "name": "ipython",
    "version": 3
   },
   "file_extension": ".py",
   "mimetype": "text/x-python",
   "name": "python",
   "nbconvert_exporter": "python",
   "pygments_lexer": "ipython3",
   "version": "3.10.13"
  }
 },
 "nbformat": 4,
 "nbformat_minor": 2
}
