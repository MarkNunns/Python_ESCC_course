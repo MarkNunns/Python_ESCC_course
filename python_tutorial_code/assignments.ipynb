{
 "cells": [
  {
   "cell_type": "code",
   "execution_count": 1,
   "metadata": {},
   "outputs": [],
   "source": [
    "# Assignment 1, Part 1\n",
    "\n",
    "# Using an appropriate name, initialise an empty dictionary which you will store the outcome of some sums in.\n",
    "# Then, setting 7 as x and 5 as y, find:\n",
    "# x + y\n",
    "# x - y\n",
    "# x squared\n",
    "# y squared\n",
    "# x to the power y\n",
    "# Assigning each to a variable with an appropriate name.\n",
    "# Finally, add each of these answers as entries in your dicitonary and print the dictionary."
   ]
  },
  {
   "cell_type": "code",
   "execution_count": 2,
   "metadata": {},
   "outputs": [
    {
     "name": "stdout",
     "output_type": "stream",
     "text": [
      "{'plus': [12], 'minus': [2], 'x_sq': [49], 'y_sq': [25], 'xTPy': [16807]}\n"
     ]
    }
   ],
   "source": [
    "Ass1a = {}\n",
    "x = 7\n",
    "y = 5\n",
    "plus = x + y\n",
    "minus = x - y\n",
    "x_sq = x**2\n",
    "y_sq = y**2\n",
    "xTPy = x**y\n",
    "Ass1a['plus'] = [plus]\n",
    "Ass1a['minus'] = [minus]\n",
    "Ass1a['x_sq'] = [x_sq]\n",
    "Ass1a['y_sq'] = [y_sq]\n",
    "Ass1a['xTPy'] = [xTPy]\n",
    "print(Ass1a)"
   ]
  },
  {
   "cell_type": "code",
   "execution_count": 3,
   "metadata": {},
   "outputs": [
    {
     "name": "stdout",
     "output_type": "stream",
     "text": [
      "XXXX-XXXX-XXXX-4444\n"
     ]
    }
   ],
   "source": [
    "# Assignment 1, Part 2\n",
    "\n",
    "# Assume a credit card number is '4444444444444444', store this as a string with an appropriate name.\n",
    "# Slice the string to only show the last four digits with an appropriate name.\n",
    "# Manipulate the sliced variable so that it appears with an appropriate number of Xs before the last 4 digits\n",
    "# Giving this new string an appropriate name, print it.\n",
    "# Your print readout should look like 'XXXXXXXXXXXX4444'\n",
    "# At no point should you make a string from scratch that is just 'XXXXXXXXXXXX4444',\n",
    "# that defeats the point of the exercise.\n",
    "\n",
    "card_no = str(4444444444444444)\n",
    "last4 = card_no[-4:]\n",
    "dave = f'XXXX-XXXX-XXXX-{last4}'\n",
    "print(dave)"
   ]
  },
  {
   "cell_type": "code",
   "execution_count": 4,
   "metadata": {},
   "outputs": [
    {
     "name": "stdout",
     "output_type": "stream",
     "text": [
      "  EmployeeID  Age  Salary   Job Title\n",
      "0      A0345   54   48600     manager\n",
      "1      A0359   21   19200      driver\n",
      "2      A0421   32   27500  negotiator\n",
      "3      A0424   28   31900  accountant\n",
      "4      A0431   44   68700    director\n",
      "\n",
      "<class 'pandas.core.frame.DataFrame'>\n",
      "RangeIndex: 5 entries, 0 to 4\n",
      "Data columns (total 4 columns):\n",
      " #   Column      Non-Null Count  Dtype  \n",
      "---  ------      --------------  -----  \n",
      " 0   EmployeeID  5 non-null      string \n",
      " 1   Age         5 non-null      int64  \n",
      " 2   Salary      5 non-null      float64\n",
      " 3   Job Title   5 non-null      string \n",
      "dtypes: float64(1), int64(1), string(2)\n",
      "memory usage: 288.0 bytes\n",
      "None\n"
     ]
    }
   ],
   "source": [
    "# Assignment 2, Part 1\n",
    "\n",
    "# This assignment focuses on dataframes\n",
    "# First off, using a method of your choice, make a dataframe with the columns:\n",
    "# EmployeeID, Age, Salary, Job Title\n",
    "# Fill this out with arbitrary but sensible inputs for 5 rows.\n",
    "# Ensure age and salary are stored as the right type of data for numbers, and that there's a good range of salaries\n",
    "\n",
    "import pandas as pd\n",
    "# first, I will create a dictionary\n",
    "staff = {'EmployeeID':['A0345','A0359','A0421','A0424','A0431'],\n",
    "           'Age':[54, 21, 32, 28, 44],\n",
    "           'Salary':[48600, 19200, 27500, 31900,68700],\n",
    "           'Job Title':['manager','driver', 'negotiator','accountant','director']}\n",
    "# then turn the dictionary into a dataframe\n",
    "df_staff = pd.DataFrame(staff)\n",
    "print(df_staff)\n",
    "print('')\n",
    "# correct the data type for variables as appropriate e.g. object to string, integer to float\n",
    "df_staff['EmployeeID'] = df_staff['EmployeeID'].astype('string')\n",
    "df_staff['Salary'] = df_staff['Salary'].astype('float64')\n",
    "df_staff['Job Title'] = df_staff['Job Title'].astype('string')\n",
    "print(df_staff.info())"
   ]
  },
  {
   "cell_type": "code",
   "execution_count": 5,
   "metadata": {},
   "outputs": [],
   "source": [
    "# Assignment 2, Part 2a\n",
    "\n",
    "# Use pandas methods to find...\n",
    "# the maximum and minimum salaries and ages\n",
    "# Find the sum of all the salaries using pandas methods\n",
    "# Find the mean age"
   ]
  },
  {
   "cell_type": "code",
   "execution_count": 6,
   "metadata": {},
   "outputs": [
    {
     "name": "stdout",
     "output_type": "stream",
     "text": [
      "19200.0\n",
      "68700.0\n",
      "195900.0\n",
      "39180.0\n"
     ]
    }
   ],
   "source": [
    "# these are non-panda methods...\n",
    "import statistics\n",
    "min_Sal = min(df_staff['Salary'])\n",
    "max_Sal = max(df_staff['Salary'])\n",
    "sum_Sal = sum(df_staff['Salary'])\n",
    "mean_Sal = statistics.mean(df_staff['Salary'])\n",
    "print(min_Sal)\n",
    "print(max_Sal)\n",
    "print(sum_Sal)\n",
    "print(mean_Sal)"
   ]
  },
  {
   "cell_type": "code",
   "execution_count": 7,
   "metadata": {},
   "outputs": [
    {
     "name": "stdout",
     "output_type": "stream",
     "text": [
      "Maximum salary is 68700.0\n",
      "EmployeeID       A0431\n",
      "Age                 44\n",
      "Salary         68700.0\n",
      "Job Title     director\n",
      "Name: 4, dtype: object\n",
      "Maximum salary is on row 4 and value is 68700.0\n"
     ]
    }
   ],
   "source": [
    "# these are panda methods...\n",
    "# https://www.tutorialspoint.com/python-pandas-find-the-maximum-value-of-a-column-and-return-its-corresponding-row-values\n",
    "import pandas as pd\n",
    "# Using 2 different solution options.\n",
    "# This 1st option creates a 1-row DF for the row we want to select  i.e. maxy is a DataFrame.\n",
    "maxy = df_staff.loc[df_staff['Salary'].idxmax()]\n",
    "# N.B. you need to use 2 different types of inverted commas in the codeline below\n",
    "print(f'Maximum salary is {maxy[\"Salary\"]}')\n",
    "print(maxy)\n",
    "# This 2nd option creates a DF index for the row we want to select i.e. maxy2 is a DataFrame index.\n",
    "maxy2 = df_staff['Salary'].idxmax()\n",
    "print(f'Maximum salary is on row {maxy2} and value is {df_staff.loc[maxy2, \"Salary\"]}')"
   ]
  },
  {
   "cell_type": "code",
   "execution_count": 8,
   "metadata": {},
   "outputs": [
    {
     "name": "stdout",
     "output_type": "stream",
     "text": [
      "Maximum salary is on row 4 and value is 68700.0\n",
      "Minimum salary is on row 1 and value is 19200.0\n",
      "Maximum age is on row 0 and value is 54\n",
      "Minimum age is on row 1 and value is 21\n"
     ]
    }
   ],
   "source": [
    "import pandas as pd\n",
    "# we will continue to find the maximum and minimum salaries and ages using the 2nd option (creating a DF index)\n",
    "maxy2 = df_staff['Salary'].idxmax()\n",
    "print(f'Maximum salary is on row {maxy2} and value is {df_staff.loc[maxy2, \"Salary\"]}')\n",
    "miny2 = df_staff['Salary'].idxmin()\n",
    "print(f'Minimum salary is on row {miny2} and value is {df_staff.loc[miny2, \"Salary\"]}')\n",
    "maxy3 = df_staff['Age'].idxmax()\n",
    "print(f'Maximum age is on row {maxy3} and value is {df_staff.loc[maxy3, \"Age\"]}')\n",
    "miny3 = df_staff['Age'].idxmin()\n",
    "print(f'Minimum age is on row {miny3} and value is {df_staff.loc[miny3, \"Age\"]}')"
   ]
  },
  {
   "cell_type": "code",
   "execution_count": 9,
   "metadata": {},
   "outputs": [
    {
     "name": "stdout",
     "output_type": "stream",
     "text": [
      "195900.0\n",
      "195900.0\n",
      "35.8\n"
     ]
    }
   ],
   "source": [
    "# Find the sum of all the salaries using pandas methods\n",
    "# Find the mean age\n",
    "# import pandas as pd\n",
    "sum_salary1 = sum(df_staff[\"Salary\"])\n",
    "print(sum_salary1)\n",
    "sum_salary2 = df_staff['Salary'].sum()\n",
    "print(sum_salary2)\n",
    "# various methods for doing this, I'm not sure that they are all panda methods....\n",
    "# https://stackoverflow.com/questions/41286569/get-total-of-pandas-column\n",
    "# if you want to sum DF rows rather than columns....\n",
    "# https://www.w3schools.com/python/pandas/ref_df_sum.asp\n",
    "mean_age = df_staff['Age'].mean()\n",
    "print(mean_age)"
   ]
  },
  {
   "cell_type": "code",
   "execution_count": 10,
   "metadata": {},
   "outputs": [
    {
     "name": "stdout",
     "output_type": "stream",
     "text": [
      "  EmployeeID  Age   Salary   Job Title  job_len\n",
      "0      A0345   54  48600.0     manager        7\n",
      "1      A0359   21  19200.0      driver        6\n",
      "2      A0421   32  27500.0  negotiator       10\n",
      "3      A0424   28  31900.0  accountant       10\n",
      "4      A0431   44  68700.0    director        8\n",
      "Maximum job length is \"negotiator\" on row 2, and the value is 10\n",
      "  EmployeeID  Age   Salary   Job Title  job_len\n",
      "2      A0421   32  27500.0  negotiator       10\n",
      "3      A0424   28  31900.0  accountant       10\n",
      "Median salary is 31900.0\n",
      "  EmployeeID  Age   Salary Job Title  job_len\n",
      "0      A0345   54  48600.0   manager        7\n",
      "4      A0431   44  68700.0  director        8\n"
     ]
    }
   ],
   "source": [
    "# Assignment 2, Part 2b\n",
    "# A little more tricky: find the longest name and print it, and its length\n",
    "# Assign to an appropriately named variable a slice of the dataframe where all the salaries are above the median\n",
    "# To a different appropriately named variable, slice the dataframe to have only those above the\n",
    "# median age who also have a letter (of your choice) at least once in their name.\n",
    "df_staff['job_len'] = df_staff['Job Title'].str.len()\n",
    "print(df_staff)\n",
    "# find the longest name, print it, and its length\n",
    "maxy4 = df_staff['job_len'].idxmax()\n",
    "print(f'Maximum job length is \"{df_staff.loc[maxy4, \"Job Title\"]}\" on row {maxy4}, and the value is {df_staff.loc[maxy4, \"job_len\"]}')\n",
    "# take a slice (i.e. complete rows) of the dataframe for those rows where job length is the maximum value\n",
    "maxy5 = max(df_staff['job_len'])\n",
    "maxy6 = df_staff.loc[df_staff['job_len'] == maxy5]\n",
    "print(maxy6)\n",
    "# Assign to an appropriately named variable a slice of the dataframe where all the salaries are above the median\n",
    "import statistics\n",
    "medy = (df_staff['Salary'].median())\n",
    "medy1 = df_staff.loc[df_staff['Salary'] > medy]\n",
    "print(f'Median salary is {medy}')\n",
    "print(medy1)"
   ]
  },
  {
   "cell_type": "code",
   "execution_count": 11,
   "metadata": {},
   "outputs": [
    {
     "name": "stdout",
     "output_type": "stream",
     "text": [
      "  EmployeeID  Age   Salary Job Title  job_len\n",
      "4      A0431   44  68700.0  director        8\n"
     ]
    }
   ],
   "source": [
    "# Assign to an appropriately named variable a slice of the dataframe where all the salaries are above the median\n",
    "# and who also have a letter (of your choice) at least once in their Job Title.\n",
    "import statistics\n",
    "medy = (df_staff['Salary'].median())\n",
    "medy1 = df_staff.loc[df_staff['Salary'] > medy]\n",
    "medy2 = medy1[medy1['Job Title'].str.contains('o', regex=False)]\n",
    "print(medy2)"
   ]
  },
  {
   "cell_type": "code",
   "execution_count": 12,
   "metadata": {},
   "outputs": [],
   "source": [
    "# Assignment 3, Part 1a\n",
    "\n",
    "# There are two CSVs in the data folder with fake CIN census data. One is the Child Characteristics file, one is Child Identifiers.\n",
    "# Using the example below for help, assign child identifiers to a suitably named variable. \n",
    "# The filepath you need is: '/workspaces/D2I-Jupyter-Notebook-Tools/ERN-worksheets/data/ChildIdentifiers.csv'\n",
    "# Use the .info() method to find out about the tables\n",
    "# Merge child idenfitiers with child characteristics on a suitable column shared between both tables."
   ]
  },
  {
   "cell_type": "code",
   "execution_count": 27,
   "metadata": {},
   "outputs": [
    {
     "name": "stdout",
     "output_type": "stream",
     "text": [
      "https://raw.githubusercontent.com/data-to-insight/ERN-sessions/main/data/ChildCharacteristics.csv\n",
      "https://raw.githubusercontent.com/data-to-insight/ERN-sessions/main/data/ChildIdentifiers.csv\n",
      "<class 'pandas.core.frame.DataFrame'>\n",
      "RangeIndex: 332 entries, 0 to 331\n",
      "Data columns (total 3 columns):\n",
      " #   Column      Non-Null Count  Dtype \n",
      "---  ------      --------------  ----- \n",
      " 0   Unnamed: 0  332 non-null    int64 \n",
      " 1   LAchildID   332 non-null    object\n",
      " 2   Ethnicity   332 non-null    object\n",
      "dtypes: int64(1), object(2)\n",
      "memory usage: 7.9+ KB\n",
      "None\n"
     ]
    },
    {
     "data": {
      "text/html": [
       "<div>\n",
       "<style scoped>\n",
       "    .dataframe tbody tr th:only-of-type {\n",
       "        vertical-align: middle;\n",
       "    }\n",
       "\n",
       "    .dataframe tbody tr th {\n",
       "        vertical-align: top;\n",
       "    }\n",
       "\n",
       "    .dataframe thead th {\n",
       "        text-align: right;\n",
       "    }\n",
       "</style>\n",
       "<table border=\"1\" class=\"dataframe\">\n",
       "  <thead>\n",
       "    <tr style=\"text-align: right;\">\n",
       "      <th></th>\n",
       "      <th>Unnamed: 0</th>\n",
       "      <th>LAchildID</th>\n",
       "      <th>Ethnicity</th>\n",
       "    </tr>\n",
       "  </thead>\n",
       "  <tbody>\n",
       "    <tr>\n",
       "      <th>0</th>\n",
       "      <td>0</td>\n",
       "      <td>RND000215205141</td>\n",
       "      <td>WIRT</td>\n",
       "    </tr>\n",
       "    <tr>\n",
       "      <th>1</th>\n",
       "      <td>1</td>\n",
       "      <td>RND000824303014</td>\n",
       "      <td>WROM</td>\n",
       "    </tr>\n",
       "    <tr>\n",
       "      <th>2</th>\n",
       "      <td>2</td>\n",
       "      <td>RND000750143123</td>\n",
       "      <td>AOTH</td>\n",
       "    </tr>\n",
       "    <tr>\n",
       "      <th>3</th>\n",
       "      <td>3</td>\n",
       "      <td>RND000909164501</td>\n",
       "      <td>MWBC</td>\n",
       "    </tr>\n",
       "    <tr>\n",
       "      <th>4</th>\n",
       "      <td>4</td>\n",
       "      <td>RND000382171815</td>\n",
       "      <td>APKN</td>\n",
       "    </tr>\n",
       "    <tr>\n",
       "      <th>...</th>\n",
       "      <td>...</td>\n",
       "      <td>...</td>\n",
       "      <td>...</td>\n",
       "    </tr>\n",
       "    <tr>\n",
       "      <th>327</th>\n",
       "      <td>327</td>\n",
       "      <td>RND000112711501</td>\n",
       "      <td>WOTH</td>\n",
       "    </tr>\n",
       "    <tr>\n",
       "      <th>328</th>\n",
       "      <td>328</td>\n",
       "      <td>RND000513120794</td>\n",
       "      <td>WROM</td>\n",
       "    </tr>\n",
       "    <tr>\n",
       "      <th>329</th>\n",
       "      <td>329</td>\n",
       "      <td>RND000541643134</td>\n",
       "      <td>BCRB</td>\n",
       "    </tr>\n",
       "    <tr>\n",
       "      <th>330</th>\n",
       "      <td>330</td>\n",
       "      <td>RND000404939452</td>\n",
       "      <td>AIND</td>\n",
       "    </tr>\n",
       "    <tr>\n",
       "      <th>331</th>\n",
       "      <td>331</td>\n",
       "      <td>RND000589802835</td>\n",
       "      <td>WBRI</td>\n",
       "    </tr>\n",
       "  </tbody>\n",
       "</table>\n",
       "<p>332 rows × 3 columns</p>\n",
       "</div>"
      ],
      "text/plain": [
       "     Unnamed: 0        LAchildID Ethnicity\n",
       "0             0  RND000215205141      WIRT\n",
       "1             1  RND000824303014      WROM\n",
       "2             2  RND000750143123      AOTH\n",
       "3             3  RND000909164501      MWBC\n",
       "4             4  RND000382171815      APKN\n",
       "..          ...              ...       ...\n",
       "327         327  RND000112711501      WOTH\n",
       "328         328  RND000513120794      WROM\n",
       "329         329  RND000541643134      BCRB\n",
       "330         330  RND000404939452      AIND\n",
       "331         331  RND000589802835      WBRI\n",
       "\n",
       "[332 rows x 3 columns]"
      ]
     },
     "execution_count": 27,
     "metadata": {},
     "output_type": "execute_result"
    }
   ],
   "source": [
    "# Assignment 3\n",
    "\n",
    "import pandas as pd\n",
    "filename_1 = 'https://raw.githubusercontent.com/data-to-insight/ERN-sessions/main/data/ChildCharacteristics.csv'\n",
    "filename_2 = 'https://raw.githubusercontent.com/data-to-insight/ERN-sessions/main/data/ChildIdentifiers.csv'\n",
    "\n",
    "filepaths = [filename_1,filename_2]\n",
    "for filepath in filepaths:\n",
    "     print(filepath)\n",
    "\n",
    "dfs = {}\n",
    "\n",
    "for i, v in enumerate(filepaths):\n",
    "    dfs[i] = pd.read_csv(filepaths[i])\n",
    "print(dfs[0].info())\n",
    "dfs[0]"
   ]
  },
  {
   "cell_type": "code",
   "execution_count": 28,
   "metadata": {},
   "outputs": [
    {
     "name": "stdout",
     "output_type": "stream",
     "text": [
      "<class 'pandas.core.frame.DataFrame'>\n",
      "RangeIndex: 332 entries, 0 to 331\n",
      "Data columns (total 9 columns):\n",
      " #   Column                   Non-Null Count  Dtype  \n",
      "---  ------                   --------------  -----  \n",
      " 0   Unnamed: 0               332 non-null    int64  \n",
      " 1   LAchildID                332 non-null    object \n",
      " 2   UPN                      332 non-null    object \n",
      " 3   FormerUPN                0 non-null      float64\n",
      " 4   UPNunknown               0 non-null      float64\n",
      " 5   PersonBirthDate          332 non-null    object \n",
      " 6   ExpectedPersonBirthDate  7 non-null      object \n",
      " 7   GenderCurrent            332 non-null    int64  \n",
      " 8   PersonDeathDate          21 non-null     object \n",
      "dtypes: float64(2), int64(2), object(5)\n",
      "memory usage: 23.5+ KB\n",
      "None\n"
     ]
    },
    {
     "data": {
      "text/html": [
       "<div>\n",
       "<style scoped>\n",
       "    .dataframe tbody tr th:only-of-type {\n",
       "        vertical-align: middle;\n",
       "    }\n",
       "\n",
       "    .dataframe tbody tr th {\n",
       "        vertical-align: top;\n",
       "    }\n",
       "\n",
       "    .dataframe thead th {\n",
       "        text-align: right;\n",
       "    }\n",
       "</style>\n",
       "<table border=\"1\" class=\"dataframe\">\n",
       "  <thead>\n",
       "    <tr style=\"text-align: right;\">\n",
       "      <th></th>\n",
       "      <th>Unnamed: 0</th>\n",
       "      <th>LAchildID</th>\n",
       "      <th>UPN</th>\n",
       "      <th>FormerUPN</th>\n",
       "      <th>UPNunknown</th>\n",
       "      <th>PersonBirthDate</th>\n",
       "      <th>ExpectedPersonBirthDate</th>\n",
       "      <th>GenderCurrent</th>\n",
       "      <th>PersonDeathDate</th>\n",
       "    </tr>\n",
       "  </thead>\n",
       "  <tbody>\n",
       "    <tr>\n",
       "      <th>0</th>\n",
       "      <td>0</td>\n",
       "      <td>RND000215205141</td>\n",
       "      <td>A850728973744</td>\n",
       "      <td>NaN</td>\n",
       "      <td>NaN</td>\n",
       "      <td>2019-12-06</td>\n",
       "      <td>NaN</td>\n",
       "      <td>1</td>\n",
       "      <td>NaN</td>\n",
       "    </tr>\n",
       "    <tr>\n",
       "      <th>1</th>\n",
       "      <td>1</td>\n",
       "      <td>RND000824303014</td>\n",
       "      <td>A141396438491</td>\n",
       "      <td>NaN</td>\n",
       "      <td>NaN</td>\n",
       "      <td>2011-04-27</td>\n",
       "      <td>NaN</td>\n",
       "      <td>9</td>\n",
       "      <td>NaN</td>\n",
       "    </tr>\n",
       "    <tr>\n",
       "      <th>2</th>\n",
       "      <td>2</td>\n",
       "      <td>RND000750143123</td>\n",
       "      <td>A929946861554</td>\n",
       "      <td>NaN</td>\n",
       "      <td>NaN</td>\n",
       "      <td>2017-06-06</td>\n",
       "      <td>2019-12-06</td>\n",
       "      <td>1</td>\n",
       "      <td>NaN</td>\n",
       "    </tr>\n",
       "    <tr>\n",
       "      <th>3</th>\n",
       "      <td>3</td>\n",
       "      <td>RND000909164501</td>\n",
       "      <td>A612330267292</td>\n",
       "      <td>NaN</td>\n",
       "      <td>NaN</td>\n",
       "      <td>2014-10-03</td>\n",
       "      <td>NaN</td>\n",
       "      <td>0</td>\n",
       "      <td>NaN</td>\n",
       "    </tr>\n",
       "    <tr>\n",
       "      <th>4</th>\n",
       "      <td>4</td>\n",
       "      <td>RND000382171815</td>\n",
       "      <td>A604459366806</td>\n",
       "      <td>NaN</td>\n",
       "      <td>NaN</td>\n",
       "      <td>2019-09-25</td>\n",
       "      <td>NaN</td>\n",
       "      <td>2</td>\n",
       "      <td>NaN</td>\n",
       "    </tr>\n",
       "    <tr>\n",
       "      <th>...</th>\n",
       "      <td>...</td>\n",
       "      <td>...</td>\n",
       "      <td>...</td>\n",
       "      <td>...</td>\n",
       "      <td>...</td>\n",
       "      <td>...</td>\n",
       "      <td>...</td>\n",
       "      <td>...</td>\n",
       "      <td>...</td>\n",
       "    </tr>\n",
       "    <tr>\n",
       "      <th>327</th>\n",
       "      <td>327</td>\n",
       "      <td>RND000112711501</td>\n",
       "      <td>A465246916125</td>\n",
       "      <td>NaN</td>\n",
       "      <td>NaN</td>\n",
       "      <td>2010-07-07</td>\n",
       "      <td>NaN</td>\n",
       "      <td>2</td>\n",
       "      <td>NaN</td>\n",
       "    </tr>\n",
       "    <tr>\n",
       "      <th>328</th>\n",
       "      <td>328</td>\n",
       "      <td>RND000513120794</td>\n",
       "      <td>A540014111973</td>\n",
       "      <td>NaN</td>\n",
       "      <td>NaN</td>\n",
       "      <td>2018-08-14</td>\n",
       "      <td>NaN</td>\n",
       "      <td>2</td>\n",
       "      <td>NaN</td>\n",
       "    </tr>\n",
       "    <tr>\n",
       "      <th>329</th>\n",
       "      <td>329</td>\n",
       "      <td>RND000541643134</td>\n",
       "      <td>A549582689058</td>\n",
       "      <td>NaN</td>\n",
       "      <td>NaN</td>\n",
       "      <td>2021-12-09</td>\n",
       "      <td>NaN</td>\n",
       "      <td>51</td>\n",
       "      <td>NaN</td>\n",
       "    </tr>\n",
       "    <tr>\n",
       "      <th>330</th>\n",
       "      <td>330</td>\n",
       "      <td>RND000404939452</td>\n",
       "      <td>A889492349196</td>\n",
       "      <td>NaN</td>\n",
       "      <td>NaN</td>\n",
       "      <td>2013-07-23</td>\n",
       "      <td>NaN</td>\n",
       "      <td>2</td>\n",
       "      <td>NaN</td>\n",
       "    </tr>\n",
       "    <tr>\n",
       "      <th>331</th>\n",
       "      <td>331</td>\n",
       "      <td>RND000589802835</td>\n",
       "      <td>A877624860226</td>\n",
       "      <td>NaN</td>\n",
       "      <td>NaN</td>\n",
       "      <td>2021-10-25</td>\n",
       "      <td>NaN</td>\n",
       "      <td>9</td>\n",
       "      <td>NaN</td>\n",
       "    </tr>\n",
       "  </tbody>\n",
       "</table>\n",
       "<p>332 rows × 9 columns</p>\n",
       "</div>"
      ],
      "text/plain": [
       "     Unnamed: 0        LAchildID            UPN  FormerUPN  UPNunknown  \\\n",
       "0             0  RND000215205141  A850728973744        NaN         NaN   \n",
       "1             1  RND000824303014  A141396438491        NaN         NaN   \n",
       "2             2  RND000750143123  A929946861554        NaN         NaN   \n",
       "3             3  RND000909164501  A612330267292        NaN         NaN   \n",
       "4             4  RND000382171815  A604459366806        NaN         NaN   \n",
       "..          ...              ...            ...        ...         ...   \n",
       "327         327  RND000112711501  A465246916125        NaN         NaN   \n",
       "328         328  RND000513120794  A540014111973        NaN         NaN   \n",
       "329         329  RND000541643134  A549582689058        NaN         NaN   \n",
       "330         330  RND000404939452  A889492349196        NaN         NaN   \n",
       "331         331  RND000589802835  A877624860226        NaN         NaN   \n",
       "\n",
       "    PersonBirthDate ExpectedPersonBirthDate  GenderCurrent PersonDeathDate  \n",
       "0        2019-12-06                     NaN              1             NaN  \n",
       "1        2011-04-27                     NaN              9             NaN  \n",
       "2        2017-06-06              2019-12-06              1             NaN  \n",
       "3        2014-10-03                     NaN              0             NaN  \n",
       "4        2019-09-25                     NaN              2             NaN  \n",
       "..              ...                     ...            ...             ...  \n",
       "327      2010-07-07                     NaN              2             NaN  \n",
       "328      2018-08-14                     NaN              2             NaN  \n",
       "329      2021-12-09                     NaN             51             NaN  \n",
       "330      2013-07-23                     NaN              2             NaN  \n",
       "331      2021-10-25                     NaN              9             NaN  \n",
       "\n",
       "[332 rows x 9 columns]"
      ]
     },
     "execution_count": 28,
     "metadata": {},
     "output_type": "execute_result"
    }
   ],
   "source": [
    "print(dfs[1].info())\n",
    "dfs[1]"
   ]
  },
  {
   "cell_type": "code",
   "execution_count": 22,
   "metadata": {},
   "outputs": [
    {
     "name": "stdout",
     "output_type": "stream",
     "text": [
      "   Unnamed: 0_x        LAchildID Ethnicity  Unnamed: 0_y            UPN  \\\n",
      "0             0  RND000215205141      WIRT             0  A850728973744   \n",
      "1             1  RND000824303014      WROM             1  A141396438491   \n",
      "2             2  RND000750143123      AOTH             2  A929946861554   \n",
      "3             3  RND000909164501      MWBC             3  A612330267292   \n",
      "4             4  RND000382171815      APKN             4  A604459366806   \n",
      "\n",
      "   FormerUPN  UPNunknown PersonBirthDate ExpectedPersonBirthDate  \\\n",
      "0        NaN         NaN      2019-12-06                     NaN   \n",
      "1        NaN         NaN      2011-04-27                     NaN   \n",
      "2        NaN         NaN      2017-06-06              2019-12-06   \n",
      "3        NaN         NaN      2014-10-03                     NaN   \n",
      "4        NaN         NaN      2019-09-25                     NaN   \n",
      "\n",
      "   GenderCurrent PersonDeathDate  \n",
      "0              1             NaN  \n",
      "1              9             NaN  \n",
      "2              1             NaN  \n",
      "3              0             NaN  \n",
      "4              2             NaN  \n"
     ]
    }
   ],
   "source": [
    "import pandas as pd\n",
    "df = pd.merge(dfs[0], dfs[1], on='LAchildID', how=\"outer\")\n",
    "print(df.head(5))"
   ]
  },
  {
   "cell_type": "code",
   "execution_count": null,
   "metadata": {},
   "outputs": [],
   "source": [
    "# Assignment 3, Part 1b\n",
    "\n",
    "# Convert all columns with dates [from string] to datetime\n",
    "# The allowed gender codes for this table are 0, 1, 2, and 9, slice out a dataframe (suitably named) with only rows where this rule is violated\n",
    "# Can you find any rows where someone's death date is before their birth date?\n",
    "# Can you find any rows where someone has an expected birth date and an actual birth date, which should not happen?\n",
    "# Can you find the average age of all children who refused to have their ethnicity taken down and for whom the information is not yet obtained \n",
    "# (knowing Ethnicity codes are REFU and NOBT)"
   ]
  },
  {
   "cell_type": "code",
   "execution_count": null,
   "metadata": {},
   "outputs": [
    {
     "name": "stdout",
     "output_type": "stream",
     "text": [
      "   Unnamed: 0_x        LAchildID Ethnicity  Unnamed: 0_y            UPN  \\\n",
      "0             0  RND000215205141      WIRT             0  A850728973744   \n",
      "1             1  RND000824303014      WROM             1  A141396438491   \n",
      "2             2  RND000750143123      AOTH             2  A929946861554   \n",
      "3             3  RND000909164501      MWBC             3  A612330267292   \n",
      "4             4  RND000382171815      APKN             4  A604459366806   \n",
      "\n",
      "   FormerUPN  UPNunknown PersonBirthDate ExpectedPersonBirthDate  \\\n",
      "0        NaN         NaN      2019-12-06                     NaT   \n",
      "1        NaN         NaN      2011-04-27                     NaT   \n",
      "2        NaN         NaN      2017-06-06              2019-12-06   \n",
      "3        NaN         NaN      2014-10-03                     NaT   \n",
      "4        NaN         NaN      2019-09-25                     NaT   \n",
      "\n",
      "   GenderCurrent PersonDeathDate  \n",
      "0              1             NaT  \n",
      "1              9             NaT  \n",
      "2              1             NaT  \n",
      "3              0             NaT  \n",
      "4              2             NaT  \n"
     ]
    }
   ],
   "source": [
    "# Convert all columns with dates [from string] to datetime\n",
    "import pandas as pd\n",
    "df['PersonBirthDate'] = pd.to_datetime(df['PersonBirthDate'], format=\"%Y-%m-%d\", errors='coerce')\n",
    "# for information, df['PersonBirthDate'] = pd.to_datetime(df['PersonBirthDate'], format=\"%d-%m-%Y\", errors='coerce') DOES NOT WORK\n",
    "df['ExpectedPersonBirthDate'] = pd.to_datetime(df['ExpectedPersonBirthDate'], format=\"%Y-%m-%d\", errors='coerce')\n",
    "df['PersonDeathDate'] = pd.to_datetime(df['PersonDeathDate'], format=\"%Y-%m-%d\", errors='coerce')\n",
    "print(df.head(5))"
   ]
  },
  {
   "cell_type": "code",
   "execution_count": null,
   "metadata": {},
   "outputs": [
    {
     "name": "stdout",
     "output_type": "stream",
     "text": [
      "   Unnamed: 0_x        LAchildID Ethnicity  Unnamed: 0_y            UPN  \\\n",
      "0             0  RND000215205141      WIRT             0  A850728973744   \n",
      "1             1  RND000824303014      WROM             1  A141396438491   \n",
      "2             2  RND000750143123      AOTH             2  A929946861554   \n",
      "4             4  RND000382171815      APKN             4  A604459366806   \n",
      "6             6  RND000852873211      WIRT             6  A605952359626   \n",
      "\n",
      "   FormerUPN  UPNunknown PersonBirthDate ExpectedPersonBirthDate  \\\n",
      "0        NaN         NaN      2019-12-06                     NaT   \n",
      "1        NaN         NaN      2011-04-27                     NaT   \n",
      "2        NaN         NaN      2017-06-06              2019-12-06   \n",
      "4        NaN         NaN      2019-09-25                     NaT   \n",
      "6        NaN         NaN      2013-01-19                     NaT   \n",
      "\n",
      "   GenderCurrent PersonDeathDate  \n",
      "0              1             NaT  \n",
      "1              9             NaT  \n",
      "2              1             NaT  \n",
      "4              2             NaT  \n",
      "6              2             NaT  \n"
     ]
    }
   ],
   "source": [
    "# The allowed gender codes for this table are 0, 1, 2, and 9, slice out a dataframe (suitably named) with only rows where this rule is violated\n",
    "# this isn't right yet, I am struggling with 'not in list of integers'\n",
    "import pandas as pd\n",
    "import datetime\n",
    "gen_rej = df[df['GenderCurrent'] != 0]\n",
    "print(gen_rej.head(5))"
   ]
  },
  {
   "cell_type": "code",
   "execution_count": 29,
   "metadata": {},
   "outputs": [
    {
     "ename": "TypeError",
     "evalue": "unsupported operand type(s) for -: 'str' and 'str'",
     "output_type": "error",
     "traceback": [
      "\u001b[0;31m---------------------------------------------------------------------------\u001b[0m",
      "\u001b[0;31mTypeError\u001b[0m                                 Traceback (most recent call last)",
      "File \u001b[0;32m~/.local/lib/python3.10/site-packages/pandas/core/ops/array_ops.py:220\u001b[0m, in \u001b[0;36m_na_arithmetic_op\u001b[0;34m(left, right, op, is_cmp)\u001b[0m\n\u001b[1;32m    219\u001b[0m \u001b[38;5;28;01mtry\u001b[39;00m:\n\u001b[0;32m--> 220\u001b[0m     result \u001b[38;5;241m=\u001b[39m \u001b[43mfunc\u001b[49m\u001b[43m(\u001b[49m\u001b[43mleft\u001b[49m\u001b[43m,\u001b[49m\u001b[43m \u001b[49m\u001b[43mright\u001b[49m\u001b[43m)\u001b[49m\n\u001b[1;32m    221\u001b[0m \u001b[38;5;28;01mexcept\u001b[39;00m \u001b[38;5;167;01mTypeError\u001b[39;00m:\n",
      "File \u001b[0;32m~/.local/lib/python3.10/site-packages/pandas/core/computation/expressions.py:242\u001b[0m, in \u001b[0;36mevaluate\u001b[0;34m(op, a, b, use_numexpr)\u001b[0m\n\u001b[1;32m    240\u001b[0m     \u001b[38;5;28;01mif\u001b[39;00m use_numexpr:\n\u001b[1;32m    241\u001b[0m         \u001b[38;5;66;03m# error: \"None\" not callable\u001b[39;00m\n\u001b[0;32m--> 242\u001b[0m         \u001b[38;5;28;01mreturn\u001b[39;00m \u001b[43m_evaluate\u001b[49m\u001b[43m(\u001b[49m\u001b[43mop\u001b[49m\u001b[43m,\u001b[49m\u001b[43m \u001b[49m\u001b[43mop_str\u001b[49m\u001b[43m,\u001b[49m\u001b[43m \u001b[49m\u001b[43ma\u001b[49m\u001b[43m,\u001b[49m\u001b[43m \u001b[49m\u001b[43mb\u001b[49m\u001b[43m)\u001b[49m  \u001b[38;5;66;03m# type: ignore[misc]\u001b[39;00m\n\u001b[1;32m    243\u001b[0m \u001b[38;5;28;01mreturn\u001b[39;00m _evaluate_standard(op, op_str, a, b)\n",
      "File \u001b[0;32m~/.local/lib/python3.10/site-packages/pandas/core/computation/expressions.py:73\u001b[0m, in \u001b[0;36m_evaluate_standard\u001b[0;34m(op, op_str, a, b)\u001b[0m\n\u001b[1;32m     72\u001b[0m     _store_test_result(\u001b[38;5;28;01mFalse\u001b[39;00m)\n\u001b[0;32m---> 73\u001b[0m \u001b[38;5;28;01mreturn\u001b[39;00m \u001b[43mop\u001b[49m\u001b[43m(\u001b[49m\u001b[43ma\u001b[49m\u001b[43m,\u001b[49m\u001b[43m \u001b[49m\u001b[43mb\u001b[49m\u001b[43m)\u001b[49m\n",
      "\u001b[0;31mTypeError\u001b[0m: unsupported operand type(s) for -: 'float' and 'str'",
      "\nDuring handling of the above exception, another exception occurred:\n",
      "\u001b[0;31mTypeError\u001b[0m                                 Traceback (most recent call last)",
      "Cell \u001b[0;32mIn[29], line 5\u001b[0m\n\u001b[1;32m      2\u001b[0m \u001b[38;5;28;01mimport\u001b[39;00m \u001b[38;5;21;01mpandas\u001b[39;00m \u001b[38;5;28;01mas\u001b[39;00m \u001b[38;5;21;01mpd\u001b[39;00m\n\u001b[1;32m      3\u001b[0m \u001b[38;5;28;01mimport\u001b[39;00m \u001b[38;5;21;01mdatetime\u001b[39;00m\n\u001b[0;32m----> 5\u001b[0m df[\u001b[38;5;124m'\u001b[39m\u001b[38;5;124mdeath\u001b[39m\u001b[38;5;124m'\u001b[39m] \u001b[38;5;241m=\u001b[39m \u001b[43mdf\u001b[49m\u001b[43m[\u001b[49m\u001b[38;5;124;43m'\u001b[39;49m\u001b[38;5;124;43mPersonDeathDate\u001b[39;49m\u001b[38;5;124;43m'\u001b[39;49m\u001b[43m]\u001b[49m\u001b[43m \u001b[49m\u001b[38;5;241;43m-\u001b[39;49m\u001b[43m \u001b[49m\u001b[43mdf\u001b[49m\u001b[43m[\u001b[49m\u001b[38;5;124;43m'\u001b[39;49m\u001b[38;5;124;43mPersonBirthDate\u001b[39;49m\u001b[38;5;124;43m'\u001b[39;49m\u001b[43m]\u001b[49m\n\u001b[1;32m      6\u001b[0m \u001b[38;5;66;03m# df['death'] = df['death'] / pd.Timedelta('365 days')\u001b[39;00m\n\u001b[1;32m      7\u001b[0m \u001b[38;5;66;03m# next line rounds, converts to integers, ignores the error produced by the empty value for 'PersonDeathDate'.\u001b[39;00m\n\u001b[1;32m      8\u001b[0m \u001b[38;5;66;03m# df['death'] = df['death'].round().astype('int', errors = 'ignore')\u001b[39;00m\n\u001b[1;32m      9\u001b[0m \u001b[38;5;66;03m# death_rej = df[df['death'] != None]\u001b[39;00m\n\u001b[1;32m     10\u001b[0m \u001b[38;5;28mprint\u001b[39m(df\u001b[38;5;241m.\u001b[39mhead(\u001b[38;5;241m5\u001b[39m))\n",
      "File \u001b[0;32m~/.local/lib/python3.10/site-packages/pandas/core/ops/common.py:76\u001b[0m, in \u001b[0;36m_unpack_zerodim_and_defer.<locals>.new_method\u001b[0;34m(self, other)\u001b[0m\n\u001b[1;32m     72\u001b[0m             \u001b[38;5;28;01mreturn\u001b[39;00m \u001b[38;5;28mNotImplemented\u001b[39m\n\u001b[1;32m     74\u001b[0m other \u001b[38;5;241m=\u001b[39m item_from_zerodim(other)\n\u001b[0;32m---> 76\u001b[0m \u001b[38;5;28;01mreturn\u001b[39;00m \u001b[43mmethod\u001b[49m\u001b[43m(\u001b[49m\u001b[38;5;28;43mself\u001b[39;49m\u001b[43m,\u001b[49m\u001b[43m \u001b[49m\u001b[43mother\u001b[49m\u001b[43m)\u001b[49m\n",
      "File \u001b[0;32m~/.local/lib/python3.10/site-packages/pandas/core/arraylike.py:194\u001b[0m, in \u001b[0;36mOpsMixin.__sub__\u001b[0;34m(self, other)\u001b[0m\n\u001b[1;32m    192\u001b[0m \u001b[38;5;129m@unpack_zerodim_and_defer\u001b[39m(\u001b[38;5;124m\"\u001b[39m\u001b[38;5;124m__sub__\u001b[39m\u001b[38;5;124m\"\u001b[39m)\n\u001b[1;32m    193\u001b[0m \u001b[38;5;28;01mdef\u001b[39;00m \u001b[38;5;21m__sub__\u001b[39m(\u001b[38;5;28mself\u001b[39m, other):\n\u001b[0;32m--> 194\u001b[0m     \u001b[38;5;28;01mreturn\u001b[39;00m \u001b[38;5;28;43mself\u001b[39;49m\u001b[38;5;241;43m.\u001b[39;49m\u001b[43m_arith_method\u001b[49m\u001b[43m(\u001b[49m\u001b[43mother\u001b[49m\u001b[43m,\u001b[49m\u001b[43m \u001b[49m\u001b[43moperator\u001b[49m\u001b[38;5;241;43m.\u001b[39;49m\u001b[43msub\u001b[49m\u001b[43m)\u001b[49m\n",
      "File \u001b[0;32m~/.local/lib/python3.10/site-packages/pandas/core/series.py:5819\u001b[0m, in \u001b[0;36mSeries._arith_method\u001b[0;34m(self, other, op)\u001b[0m\n\u001b[1;32m   5817\u001b[0m \u001b[38;5;28;01mdef\u001b[39;00m \u001b[38;5;21m_arith_method\u001b[39m(\u001b[38;5;28mself\u001b[39m, other, op):\n\u001b[1;32m   5818\u001b[0m     \u001b[38;5;28mself\u001b[39m, other \u001b[38;5;241m=\u001b[39m \u001b[38;5;28mself\u001b[39m\u001b[38;5;241m.\u001b[39m_align_for_op(other)\n\u001b[0;32m-> 5819\u001b[0m     \u001b[38;5;28;01mreturn\u001b[39;00m \u001b[43mbase\u001b[49m\u001b[38;5;241;43m.\u001b[39;49m\u001b[43mIndexOpsMixin\u001b[49m\u001b[38;5;241;43m.\u001b[39;49m\u001b[43m_arith_method\u001b[49m\u001b[43m(\u001b[49m\u001b[38;5;28;43mself\u001b[39;49m\u001b[43m,\u001b[49m\u001b[43m \u001b[49m\u001b[43mother\u001b[49m\u001b[43m,\u001b[49m\u001b[43m \u001b[49m\u001b[43mop\u001b[49m\u001b[43m)\u001b[49m\n",
      "File \u001b[0;32m~/.local/lib/python3.10/site-packages/pandas/core/base.py:1381\u001b[0m, in \u001b[0;36mIndexOpsMixin._arith_method\u001b[0;34m(self, other, op)\u001b[0m\n\u001b[1;32m   1378\u001b[0m     rvalues \u001b[38;5;241m=\u001b[39m np\u001b[38;5;241m.\u001b[39marange(rvalues\u001b[38;5;241m.\u001b[39mstart, rvalues\u001b[38;5;241m.\u001b[39mstop, rvalues\u001b[38;5;241m.\u001b[39mstep)\n\u001b[1;32m   1380\u001b[0m \u001b[38;5;28;01mwith\u001b[39;00m np\u001b[38;5;241m.\u001b[39merrstate(\u001b[38;5;28mall\u001b[39m\u001b[38;5;241m=\u001b[39m\u001b[38;5;124m\"\u001b[39m\u001b[38;5;124mignore\u001b[39m\u001b[38;5;124m\"\u001b[39m):\n\u001b[0;32m-> 1381\u001b[0m     result \u001b[38;5;241m=\u001b[39m \u001b[43mops\u001b[49m\u001b[38;5;241;43m.\u001b[39;49m\u001b[43marithmetic_op\u001b[49m\u001b[43m(\u001b[49m\u001b[43mlvalues\u001b[49m\u001b[43m,\u001b[49m\u001b[43m \u001b[49m\u001b[43mrvalues\u001b[49m\u001b[43m,\u001b[49m\u001b[43m \u001b[49m\u001b[43mop\u001b[49m\u001b[43m)\u001b[49m\n\u001b[1;32m   1383\u001b[0m \u001b[38;5;28;01mreturn\u001b[39;00m \u001b[38;5;28mself\u001b[39m\u001b[38;5;241m.\u001b[39m_construct_result(result, name\u001b[38;5;241m=\u001b[39mres_name)\n",
      "File \u001b[0;32m~/.local/lib/python3.10/site-packages/pandas/core/ops/array_ops.py:285\u001b[0m, in \u001b[0;36marithmetic_op\u001b[0;34m(left, right, op)\u001b[0m\n\u001b[1;32m    281\u001b[0m     _bool_arith_check(op, left, right)  \u001b[38;5;66;03m# type: ignore[arg-type]\u001b[39;00m\n\u001b[1;32m    283\u001b[0m     \u001b[38;5;66;03m# error: Argument 1 to \"_na_arithmetic_op\" has incompatible type\u001b[39;00m\n\u001b[1;32m    284\u001b[0m     \u001b[38;5;66;03m# \"Union[ExtensionArray, ndarray[Any, Any]]\"; expected \"ndarray[Any, Any]\"\u001b[39;00m\n\u001b[0;32m--> 285\u001b[0m     res_values \u001b[38;5;241m=\u001b[39m \u001b[43m_na_arithmetic_op\u001b[49m\u001b[43m(\u001b[49m\u001b[43mleft\u001b[49m\u001b[43m,\u001b[49m\u001b[43m \u001b[49m\u001b[43mright\u001b[49m\u001b[43m,\u001b[49m\u001b[43m \u001b[49m\u001b[43mop\u001b[49m\u001b[43m)\u001b[49m  \u001b[38;5;66;03m# type: ignore[arg-type]\u001b[39;00m\n\u001b[1;32m    287\u001b[0m \u001b[38;5;28;01mreturn\u001b[39;00m res_values\n",
      "File \u001b[0;32m~/.local/lib/python3.10/site-packages/pandas/core/ops/array_ops.py:229\u001b[0m, in \u001b[0;36m_na_arithmetic_op\u001b[0;34m(left, right, op, is_cmp)\u001b[0m\n\u001b[1;32m    221\u001b[0m \u001b[38;5;28;01mexcept\u001b[39;00m \u001b[38;5;167;01mTypeError\u001b[39;00m:\n\u001b[1;32m    222\u001b[0m     \u001b[38;5;28;01mif\u001b[39;00m \u001b[38;5;129;01mnot\u001b[39;00m is_cmp \u001b[38;5;129;01mand\u001b[39;00m (\n\u001b[1;32m    223\u001b[0m         left\u001b[38;5;241m.\u001b[39mdtype \u001b[38;5;241m==\u001b[39m \u001b[38;5;28mobject\u001b[39m \u001b[38;5;129;01mor\u001b[39;00m \u001b[38;5;28mgetattr\u001b[39m(right, \u001b[38;5;124m\"\u001b[39m\u001b[38;5;124mdtype\u001b[39m\u001b[38;5;124m\"\u001b[39m, \u001b[38;5;28;01mNone\u001b[39;00m) \u001b[38;5;241m==\u001b[39m \u001b[38;5;28mobject\u001b[39m\n\u001b[1;32m    224\u001b[0m     ):\n\u001b[0;32m   (...)\u001b[0m\n\u001b[1;32m    227\u001b[0m         \u001b[38;5;66;03m# Don't do this for comparisons, as that will handle complex numbers\u001b[39;00m\n\u001b[1;32m    228\u001b[0m         \u001b[38;5;66;03m#  incorrectly, see GH#32047\u001b[39;00m\n\u001b[0;32m--> 229\u001b[0m         result \u001b[38;5;241m=\u001b[39m \u001b[43m_masked_arith_op\u001b[49m\u001b[43m(\u001b[49m\u001b[43mleft\u001b[49m\u001b[43m,\u001b[49m\u001b[43m \u001b[49m\u001b[43mright\u001b[49m\u001b[43m,\u001b[49m\u001b[43m \u001b[49m\u001b[43mop\u001b[49m\u001b[43m)\u001b[49m\n\u001b[1;32m    230\u001b[0m     \u001b[38;5;28;01melse\u001b[39;00m:\n\u001b[1;32m    231\u001b[0m         \u001b[38;5;28;01mraise\u001b[39;00m\n",
      "File \u001b[0;32m~/.local/lib/python3.10/site-packages/pandas/core/ops/array_ops.py:165\u001b[0m, in \u001b[0;36m_masked_arith_op\u001b[0;34m(x, y, op)\u001b[0m\n\u001b[1;32m    163\u001b[0m     \u001b[38;5;66;03m# See GH#5284, GH#5035, GH#19448 for historical reference\u001b[39;00m\n\u001b[1;32m    164\u001b[0m     \u001b[38;5;28;01mif\u001b[39;00m mask\u001b[38;5;241m.\u001b[39many():\n\u001b[0;32m--> 165\u001b[0m         result[mask] \u001b[38;5;241m=\u001b[39m \u001b[43mop\u001b[49m\u001b[43m(\u001b[49m\u001b[43mxrav\u001b[49m\u001b[43m[\u001b[49m\u001b[43mmask\u001b[49m\u001b[43m]\u001b[49m\u001b[43m,\u001b[49m\u001b[43m \u001b[49m\u001b[43myrav\u001b[49m\u001b[43m[\u001b[49m\u001b[43mmask\u001b[49m\u001b[43m]\u001b[49m\u001b[43m)\u001b[49m\n\u001b[1;32m    167\u001b[0m \u001b[38;5;28;01melse\u001b[39;00m:\n\u001b[1;32m    168\u001b[0m     \u001b[38;5;28;01mif\u001b[39;00m \u001b[38;5;129;01mnot\u001b[39;00m is_scalar(y):\n",
      "\u001b[0;31mTypeError\u001b[0m: unsupported operand type(s) for -: 'str' and 'str'"
     ]
    }
   ],
   "source": [
    "# Can you find any rows where someone's death date is before their birth date?\n",
    "import pandas as pd\n",
    "import datetime\n",
    "\n",
    "df['death'] = df['PersonDeathDate'] - df['PersonBirthDate']\n",
    "# df['death'] = df['death'] / pd.Timedelta('365 days')\n",
    "# next line rounds, converts to integers, ignores the error produced by the empty value for 'PersonDeathDate'.\n",
    "# df['death'] = df['death'].round().astype('int', errors = 'ignore')\n",
    "# death_rej = df[df['death'] != None]\n",
    "print(df.head(5))\n"
   ]
  },
  {
   "cell_type": "code",
   "execution_count": null,
   "metadata": {},
   "outputs": [],
   "source": [
    "# Assignment 4, Part 1\n",
    "\n",
    "# Remember the exercise from assignment 1 where you had to write code to change a credit card number to display\n",
    "# only the 4 last numbers, and the bgeinning as all Xs?\n",
    "# Write a function that takes in any 16 digit number and prints the first 14 chasracters as Xs and the\n",
    "# last 4 as the original numbers."
   ]
  },
  {
   "cell_type": "code",
   "execution_count": null,
   "metadata": {},
   "outputs": [],
   "source": [
    "# Assignment 4, Part 2\n",
    "\n",
    "# Now, improve and extend the function to check whether the user has input 16 numbers, if they have put in a\n",
    "# different amount of numbers, have it throw an error. # Improve your function again so it can accept a string or\n",
    "# an integer (if it can't already)."
   ]
  },
  {
   "cell_type": "code",
   "execution_count": null,
   "metadata": {},
   "outputs": [],
   "source": [
    "# Assignment 4, Part 3\n",
    "\n",
    "# Write a function that takes two strings as arguments, checks if the two strings are anagrams, and prints an\n",
    "# answer of the form:\n",
    "# is an anagram of\n",
    "# or\n",
    "# is not an anagram of"
   ]
  },
  {
   "cell_type": "code",
   "execution_count": null,
   "metadata": {},
   "outputs": [],
   "source": [
    "# Assignment 5, Part 1\n",
    "\n",
    "# Write a function that generates the fibonacci sequence up to a set number of terms."
   ]
  },
  {
   "cell_type": "code",
   "execution_count": null,
   "metadata": {},
   "outputs": [],
   "source": [
    "# Assignment 5, Part 2\n",
    "\n",
    "# Extend the fibonacci function previously given to take two starting numbers and, using them, generate a\n",
    "# fibonacci-like sequence up to a set number of terms."
   ]
  },
  {
   "cell_type": "code",
   "execution_count": null,
   "metadata": {},
   "outputs": [],
   "source": [
    "# Assignment 5, Part 3\n",
    "\n",
    "# Write a function named capital_indexes. The function takes a single parameter, which is a string.\n",
    "# Your function should return a list of all the indexes in the string that have capital letters.\n",
    "# For example, calling capital_indexes(\"HeLlO\") should return the list [0, 2, 4]."
   ]
  },
  {
   "cell_type": "code",
   "execution_count": null,
   "metadata": {},
   "outputs": [],
   "source": [
    "# Assignment 6, Part 1\n",
    "\n",
    "# Write a function that accepts a list of numbers as the argument\n",
    "# have it check that the list only contains numbers, if it doesn't have it return an error\n",
    "# Have the function randomize the order of the list and check whether the new, random order of the list has sorted the list into ascending order \n",
    "# Have it keep repeating the previous line until it has randomly sorted the list into order\n",
    "# Finally, print the new, sorted list and check it's worked.\n",
    "# To check if a list is sorted, you would really have to write another fucntion inside your function that checks that each element in the list is smaller than the previous one\n",
    "# However, as this is a beginner exercise, I'll let you check if <randomly sorted list> == sorted(<input list>)\n",
    "\n",
    "# This is a real (but silly) sorting method called either BOGOSORT or stupid-sort, but try not to look up how it's done, just give it a go"
   ]
  },
  {
   "cell_type": "code",
   "execution_count": null,
   "metadata": {},
   "outputs": [],
   "source": [
    "# Assignment 6, Part 2\n",
    "\n",
    "# The extension exercise for this is to write your own function to check if the randomly sorted list is sorted,\n",
    "# rather than comparing it to the already sorted list."
   ]
  }
 ],
 "metadata": {
  "kernelspec": {
   "display_name": "Python 3",
   "language": "python",
   "name": "python3"
  },
  "language_info": {
   "codemirror_mode": {
    "name": "ipython",
    "version": 3
   },
   "file_extension": ".py",
   "mimetype": "text/x-python",
   "name": "python",
   "nbconvert_exporter": "python",
   "pygments_lexer": "ipython3",
   "version": "3.10.13"
  }
 },
 "nbformat": 4,
 "nbformat_minor": 2
}
