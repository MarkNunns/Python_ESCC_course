{
 "cells": [
  {
   "cell_type": "code",
   "execution_count": 2,
   "metadata": {},
   "outputs": [],
   "source": [
    "# Assignment 1, Part 1\n",
    "\n",
    "# Using an appropriate name, initialise an empty dictionary which you will store the outcome of some sums in.\n",
    "# Then, setting 7 as x and 5 as y, find:\n",
    "# x + y\n",
    "# x - y\n",
    "# x squared\n",
    "# y squared\n",
    "# x to the power y\n",
    "# Assigning each to a variable with an appropriate name.\n",
    "# Finally, add each of these answers as entries in your dicitonary and print the dictionary."
   ]
  },
  {
   "cell_type": "code",
   "execution_count": 3,
   "metadata": {},
   "outputs": [
    {
     "name": "stdout",
     "output_type": "stream",
     "text": [
      "{'plus': [12], 'minus': [2], 'x_sq': [49], 'y_sq': [25], 'xTPy': [16807]}\n"
     ]
    }
   ],
   "source": [
    "Ass1a = {}\n",
    "x = 7\n",
    "y = 5\n",
    "plus = x + y\n",
    "minus = x - y\n",
    "x_sq = x**2\n",
    "y_sq = y**2\n",
    "xTPy = x**y\n",
    "Ass1a['plus'] = [plus]\n",
    "Ass1a['minus'] = [minus]\n",
    "Ass1a['x_sq'] = [x_sq]\n",
    "Ass1a['y_sq'] = [y_sq]\n",
    "Ass1a['xTPy'] = [xTPy]\n",
    "print(Ass1a)"
   ]
  },
  {
   "cell_type": "code",
   "execution_count": 4,
   "metadata": {},
   "outputs": [
    {
     "name": "stdout",
     "output_type": "stream",
     "text": [
      "XXXX-XXXX-XXXX-4444\n"
     ]
    }
   ],
   "source": [
    "# Assignment 1, Part 2\n",
    "\n",
    "# Assume a credit card number is '4444444444444444', store this as a string with an appropriate name.\n",
    "# Slice the string to only show the last four digits with an appropriate name.\n",
    "# Manipulate the sliced variable so that it appears with an appropriate number of Xs before the last 4 digits\n",
    "# Giving this new string an appropriate name, print it.\n",
    "# Your print readout should look like 'XXXXXXXXXXXX4444'\n",
    "# At no point should you make a string from scratch that is just 'XXXXXXXXXXXX4444',\n",
    "# that defeats the point of the exercise.\n",
    "\n",
    "card_no = str(4444444444444444)\n",
    "last4 = card_no[-4:]\n",
    "dave = f'XXXX-XXXX-XXXX-{last4}'\n",
    "print(dave)"
   ]
  },
  {
   "cell_type": "code",
   "execution_count": 5,
   "metadata": {},
   "outputs": [
    {
     "name": "stdout",
     "output_type": "stream",
     "text": [
      "  EmployeeID  Age  Salary   Job Title\n",
      "0      A0345   54   48600     manager\n",
      "1      A0359   21   19200      driver\n",
      "2      A0421   32   27500  negotiator\n",
      "3      A0424   28   31900  accountant\n",
      "4      A0431   44   68700    director\n",
      "\n",
      "<class 'pandas.core.frame.DataFrame'>\n",
      "RangeIndex: 5 entries, 0 to 4\n",
      "Data columns (total 4 columns):\n",
      " #   Column      Non-Null Count  Dtype  \n",
      "---  ------      --------------  -----  \n",
      " 0   EmployeeID  5 non-null      string \n",
      " 1   Age         5 non-null      int64  \n",
      " 2   Salary      5 non-null      float64\n",
      " 3   Job Title   5 non-null      string \n",
      "dtypes: float64(1), int64(1), string(2)\n",
      "memory usage: 288.0 bytes\n",
      "None\n"
     ]
    }
   ],
   "source": [
    "# Assignment 2, Part 1\n",
    "\n",
    "# This assignment focuses on dataframes\n",
    "# First off, using a method of your choice, make a dataframe with the columns:\n",
    "# EmployeeID, Age, Salary, Job Title\n",
    "# Fill this out with arbitrary but sensible inputs for 5 rows.\n",
    "# Ensure age and salary are stored as the right type of data for numbers, and that there's a good range of salaries\n",
    "\n",
    "import pandas as pd\n",
    "# first, I will create a dictionary\n",
    "staff = {'EmployeeID':['A0345','A0359','A0421','A0424','A0431'],\n",
    "           'Age':[54, 21, 32, 28, 44],\n",
    "           'Salary':[48600, 19200, 27500, 31900,68700],\n",
    "           'Job Title':['manager','driver', 'negotiator','accountant','director']}\n",
    "# then turn the dictionary into a dataframe\n",
    "df_staff = pd.DataFrame(staff)\n",
    "print(df_staff)\n",
    "print('')\n",
    "# correct the data type for variables as appropriate e.g. object to string, integer to float\n",
    "df_staff['EmployeeID'] = df_staff['EmployeeID'].astype('string')\n",
    "df_staff['Salary'] = df_staff['Salary'].astype('float64')\n",
    "df_staff['Job Title'] = df_staff['Job Title'].astype('string')\n",
    "print(df_staff.info())"
   ]
  },
  {
   "cell_type": "code",
   "execution_count": 6,
   "metadata": {},
   "outputs": [],
   "source": [
    "# Assignment 2, Part 2a\n",
    "\n",
    "# Use pandas methods to find...\n",
    "# the maximum and minimum salaries and ages\n",
    "# Find the sum of all the salaries using pandas methods\n",
    "# Find the mean age"
   ]
  },
  {
   "cell_type": "code",
   "execution_count": 7,
   "metadata": {},
   "outputs": [
    {
     "name": "stdout",
     "output_type": "stream",
     "text": [
      "19200.0\n",
      "68700.0\n",
      "195900.0\n",
      "39180.0\n"
     ]
    }
   ],
   "source": [
    "# these are non-panda methods...\n",
    "import statistics\n",
    "min_Sal = min(df_staff['Salary'])\n",
    "max_Sal = max(df_staff['Salary'])\n",
    "sum_Sal = sum(df_staff['Salary'])\n",
    "mean_Sal = statistics.mean(df_staff['Salary'])\n",
    "print(min_Sal)\n",
    "print(max_Sal)\n",
    "print(sum_Sal)\n",
    "print(mean_Sal)"
   ]
  },
  {
   "cell_type": "code",
   "execution_count": 9,
   "metadata": {},
   "outputs": [
    {
     "name": "stdout",
     "output_type": "stream",
     "text": [
      "EmployeeID       A0431\n",
      "Age                 44\n",
      "Salary         68700.0\n",
      "Job Title     director\n",
      "Name: 4, dtype: object\n"
     ]
    }
   ],
   "source": [
    "# these are panda methods...\n",
    "# https://www.tutorialspoint.com/python-pandas-find-the-maximum-value-of-a-column-and-return-its-corresponding-row-values\n",
    "import pandas as pd\n",
    "maxy = df_staff.loc[df_staff['Salary'].idxmax()]\n",
    "print(maxy)"
   ]
  },
  {
   "cell_type": "code",
   "execution_count": null,
   "metadata": {},
   "outputs": [
    {
     "name": "stdout",
     "output_type": "stream",
     "text": [
      "  EmployeeID  Age   Salary   Job Title  job_len\n",
      "0      A0345   54  48600.0     manager        7\n",
      "1      A0359   21  19200.0      driver        6\n",
      "2      A0421   32  27500.0  negotiator       10\n",
      "3      A0424   28  31900.0  accountant       10\n",
      "4      A0431   44  68700.0    director        8\n",
      "10\n"
     ]
    }
   ],
   "source": [
    "# Assignment 2, Part 2b\n",
    "# A little more tricky: find the longest name and print it, and its length\n",
    "# Assign to an appropriately named variable a slice of the dataframe where all the salaries are above the median\n",
    "# To a different appropriately named variable, slice the dataframe to have only those above the\n",
    "# median age who also have a letter (of your choice) at least once in their name.\n",
    "df_staff['job_len'] = df_staff['Job Title'].str.len()\n",
    "max_job_len = max(df_staff['job_len'])\n",
    "print(df_staff)\n",
    "print(max_job_len)"
   ]
  },
  {
   "cell_type": "code",
   "execution_count": null,
   "metadata": {},
   "outputs": [],
   "source": [
    "# Assignment 3, Part 1\n",
    "\n",
    "# There are two CSVs in the data folder with fake CIN census data. One is the Child Characteristics file, one is Child Identifiers.\n",
    "# Using the example below for help, assign child identifiers to a suitably named variable. \n",
    "# The filepath you need is: '/workspaces/D2I-Jupyter-Notebook-Tools/ERN-worksheets/data/ChildIdentifiers.csv'\n",
    "# Use the .info() method to find out about the tables\n",
    "# Merge child idenfitiers with child characteristics on a suitable column shared between both tables.\n",
    "# Convert all columns with dates to datetime\n",
    "# The allowed gender codes for this table are 0, 1, 2, and 9, slice out a dataframe (suitably named) with only rows where this rule is violated\n",
    "# Can you find any rows where someone's death date is before their birth date?\n",
    "# Can you find any rows where someone has an expected birth date and an actual birth date, which should not happen?\n",
    "# Can you find the average age of all children who refused to have their ethnicity taken down and for whom the information is not yet obtained \n",
    "# (knowing Ethnicity codes are REFU and NOBT)"
   ]
  },
  {
   "cell_type": "code",
   "execution_count": null,
   "metadata": {},
   "outputs": [
    {
     "name": "stdout",
     "output_type": "stream",
     "text": [
      "https://raw.githubusercontent.com/data-to-insight/ERN-sessions/main/data/ChildCharacteristics.csv\n",
      "https://raw.githubusercontent.com/data-to-insight/ERN-sessions/main/data/ChildIdentifiers.csv\n"
     ]
    },
    {
     "name": "stdout",
     "output_type": "stream",
     "text": [
      "     Unnamed: 0_x        LAchildID Ethnicity  Unnamed: 0_y            UPN  \\\n",
      "0               0  RND000215205141      WIRT             0  A850728973744   \n",
      "1               1  RND000824303014      WROM             1  A141396438491   \n",
      "2               2  RND000750143123      AOTH             2  A929946861554   \n",
      "3               3  RND000909164501      MWBC             3  A612330267292   \n",
      "4               4  RND000382171815      APKN             4  A604459366806   \n",
      "..            ...              ...       ...           ...            ...   \n",
      "327           327  RND000112711501      WOTH           327  A465246916125   \n",
      "328           328  RND000513120794      WROM           328  A540014111973   \n",
      "329           329  RND000541643134      BCRB           329  A549582689058   \n",
      "330           330  RND000404939452      AIND           330  A889492349196   \n",
      "331           331  RND000589802835      WBRI           331  A877624860226   \n",
      "\n",
      "     FormerUPN  UPNunknown PersonBirthDate ExpectedPersonBirthDate  \\\n",
      "0          NaN         NaN      2019-12-06                     NaN   \n",
      "1          NaN         NaN      2011-04-27                     NaN   \n",
      "2          NaN         NaN      2017-06-06              2019-12-06   \n",
      "3          NaN         NaN      2014-10-03                     NaN   \n",
      "4          NaN         NaN      2019-09-25                     NaN   \n",
      "..         ...         ...             ...                     ...   \n",
      "327        NaN         NaN      2010-07-07                     NaN   \n",
      "328        NaN         NaN      2018-08-14                     NaN   \n",
      "329        NaN         NaN      2021-12-09                     NaN   \n",
      "330        NaN         NaN      2013-07-23                     NaN   \n",
      "331        NaN         NaN      2021-10-25                     NaN   \n",
      "\n",
      "     GenderCurrent PersonDeathDate  \n",
      "0                1             NaN  \n",
      "1                9             NaN  \n",
      "2                1             NaN  \n",
      "3                0             NaN  \n",
      "4                2             NaN  \n",
      "..             ...             ...  \n",
      "327              2             NaN  \n",
      "328              2             NaN  \n",
      "329             51             NaN  \n",
      "330              2             NaN  \n",
      "331              9             NaN  \n",
      "\n",
      "[332 rows x 11 columns]\n"
     ]
    }
   ],
   "source": [
    "# Assignment 3\n",
    "\n",
    "import pandas as pd\n",
    "filename_1 = 'https://raw.githubusercontent.com/data-to-insight/ERN-sessions/main/data/ChildCharacteristics.csv'\n",
    "filename_2 = 'https://raw.githubusercontent.com/data-to-insight/ERN-sessions/main/data/ChildIdentifiers.csv'\n",
    "\n",
    "filepaths = [filename_1,filename_2]\n",
    "for filepath in filepaths:\n",
    "     print(filepath)\n",
    "\n",
    "dfs = {}\n",
    "\n",
    "for i, v in enumerate(filepaths):\n",
    "    dfs[i] = pd.read_csv(filepaths[i])\n",
    "\n",
    "# print(dfs[1])\n",
    "df = pd.merge(dfs[0], dfs[1], on='LAchildID', how=\"outer\")\n",
    "print(df)"
   ]
  },
  {
   "cell_type": "code",
   "execution_count": null,
   "metadata": {},
   "outputs": [],
   "source": [
    "# Assignment 4, Part 1\n",
    "\n",
    "# Remember the exercise from assignment 1 where you had to write code to change a credit card number to display\n",
    "# only the 4 last numbers, and the bgeinning as all Xs?\n",
    "# Write a function that takes in any 16 digit number and prints the first 14 chasracters as Xs and the\n",
    "# last 4 as the original numbers."
   ]
  },
  {
   "cell_type": "code",
   "execution_count": null,
   "metadata": {},
   "outputs": [],
   "source": [
    "# Assignment 4, Part 2\n",
    "\n",
    "# Now, improve and extend the function to check whether the user has input 16 numbers, if they have put in a\n",
    "# different amount of numbers, have it throw an error. # Improve your function again so it can accept a string or\n",
    "# an integer (if it can't already)."
   ]
  },
  {
   "cell_type": "code",
   "execution_count": null,
   "metadata": {},
   "outputs": [],
   "source": [
    "# Assignment 4, Part 3\n",
    "\n",
    "# Write a function that takes two strings as arguments, checks if the two strings are anagrams, and prints an\n",
    "# answer of the form:\n",
    "# is an anagram of\n",
    "# or\n",
    "# is not an anagram of"
   ]
  },
  {
   "cell_type": "code",
   "execution_count": null,
   "metadata": {},
   "outputs": [],
   "source": [
    "# Assignment 5, Part 1\n",
    "\n",
    "# Write a function that generates the fibonacci sequence up to a set number of terms."
   ]
  },
  {
   "cell_type": "code",
   "execution_count": null,
   "metadata": {},
   "outputs": [],
   "source": [
    "# Assignment 5, Part 2\n",
    "\n",
    "# Extend the fibonacci function previously given to take two starting numbers and, using them, generate a\n",
    "# fibonacci-like sequence up to a set number of terms."
   ]
  },
  {
   "cell_type": "code",
   "execution_count": null,
   "metadata": {},
   "outputs": [],
   "source": [
    "# Assignment 5, Part 3\n",
    "\n",
    "# Write a function named capital_indexes. The function takes a single parameter, which is a string.\n",
    "# Your function should return a list of all the indexes in the string that have capital letters.\n",
    "# For example, calling capital_indexes(\"HeLlO\") should return the list [0, 2, 4]."
   ]
  },
  {
   "cell_type": "code",
   "execution_count": null,
   "metadata": {},
   "outputs": [],
   "source": [
    "# Assignment 6, Part 1\n",
    "\n",
    "# Write a function that accepts a list of numbers as the argument\n",
    "# have it check that the list only contains numbers, if it doesn't have it return an error\n",
    "# Have the function randomize the order of the list and check whether the new, random order of the list has sorted the list into ascending order \n",
    "# Have it keep repeating the previous line until it has randomly sorted the list into order\n",
    "# Finally, print the new, sorted list and check it's worked.\n",
    "# To check if a list is sorted, you would really have to write another fucntion inside your function that checks that each element in the list is smaller than the previous one\n",
    "# However, as this is a beginner exercise, I'll let you check if <randomly sorted list> == sorted(<input list>)\n",
    "\n",
    "# This is a real (but silly) sorting method called either BOGOSORT or stupid-sort, but try not to look up how it's done, just give it a go"
   ]
  },
  {
   "cell_type": "code",
   "execution_count": null,
   "metadata": {},
   "outputs": [],
   "source": [
    "# Assignment 6, Part 2\n",
    "\n",
    "# The extension exercise for this is to write your own function to check if the randomly sorted list is sorted,\n",
    "# rather than comparing it to the already sorted list."
   ]
  }
 ],
 "metadata": {
  "kernelspec": {
   "display_name": "Python 3",
   "language": "python",
   "name": "python3"
  },
  "language_info": {
   "codemirror_mode": {
    "name": "ipython",
    "version": 3
   },
   "file_extension": ".py",
   "mimetype": "text/x-python",
   "name": "python",
   "nbconvert_exporter": "python",
   "pygments_lexer": "ipython3",
   "version": "3.10.13"
  }
 },
 "nbformat": 4,
 "nbformat_minor": 2
}
