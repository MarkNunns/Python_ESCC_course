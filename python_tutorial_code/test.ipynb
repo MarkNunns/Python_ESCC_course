{
 "cells": [
  {
   "cell_type": "code",
   "execution_count": 1,
   "metadata": {},
   "outputs": [
    {
     "name": "stdout",
     "output_type": "stream",
     "text": [
      "[1, 2, 3, 4, 5, 6, 7, 8, 9, 153]\n",
      "List of 10 Narcissistic numbers took 9.7 seconds to produce\n",
      "[1, 2, 3, 4, 5, 6, 7, 8, 9, 153, 370, 371, 407, 1634, 8208, 9474, 54748, 92727, 93084, 548834]\n",
      "List of 20 Narcissistic numbers took 22.4 seconds to produce\n"
     ]
    },
    {
     "ename": "KeyboardInterrupt",
     "evalue": "",
     "output_type": "error",
     "traceback": [
      "\u001b[0;31m---------------------------------------------------------------------------\u001b[0m",
      "\u001b[0;31mKeyboardInterrupt\u001b[0m                         Traceback (most recent call last)",
      "Cell \u001b[0;32mIn[1], line 25\u001b[0m\n\u001b[1;32m     23\u001b[0m \u001b[38;5;28;01mfor\u001b[39;00m j \u001b[38;5;129;01min\u001b[39;00m digit_list:\n\u001b[1;32m     24\u001b[0m     jPa \u001b[38;5;241m=\u001b[39m j\u001b[38;5;241m*\u001b[39m\u001b[38;5;241m*\u001b[39ma\n\u001b[0;32m---> 25\u001b[0m     m \u001b[38;5;241m=\u001b[39m m \u001b[38;5;241m+\u001b[39m jPa\n\u001b[1;32m     26\u001b[0m \u001b[38;5;28;01mif\u001b[39;00m m \u001b[38;5;241m==\u001b[39m i:\n\u001b[1;32m     27\u001b[0m     Narc_list\u001b[38;5;241m.\u001b[39mappend(i)\n",
      "\u001b[0;31mKeyboardInterrupt\u001b[0m: "
     ]
    }
   ],
   "source": [
    "# As well as this, work out a way to time how long each version of the loop takes to make each list and assign the answers to\n",
    "# variables so you can print something like 'finding the first narcissistic numbers in a for loop takes seconds' for 10, 20, and 30.\n",
    "import time\n",
    "from math import floor, log10\n",
    "\n",
    "def digits(n):\n",
    "    k = floor(log10(n))\n",
    "    for e in range(k,-1,-1):\n",
    "        d,n = divmod(n,10**e)\n",
    "        yield d\n",
    "\n",
    "numbers = list(range(1,100000000))\n",
    "Narc_list = []\n",
    "Flist = [9, 19, 29]\n",
    "\n",
    "tic = time.perf_counter()\n",
    "for f in Flist:\n",
    "    for i in numbers:\n",
    "        if len(Narc_list) <= f: \n",
    "            a = len(str(i))\n",
    "            digit_list = list(digits(i))\n",
    "            m = 0\n",
    "            for j in digit_list:\n",
    "                jPa = j**a\n",
    "                m = m + jPa\n",
    "            if m == i:\n",
    "                Narc_list.append(i)\n",
    "        else:\n",
    "            pass\n",
    "    print(Narc_list)\n",
    "    toc = time.perf_counter()\n",
    "    print(f'List of {f+1} Narcissistic numbers took {round(toc - tic, 1)} seconds to produce')\n",
    "    Narc_list = []"
   ]
  }
 ],
 "metadata": {
  "kernelspec": {
   "display_name": "Python 3",
   "language": "python",
   "name": "python3"
  },
  "language_info": {
   "codemirror_mode": {
    "name": "ipython",
    "version": 3
   },
   "file_extension": ".py",
   "mimetype": "text/x-python",
   "name": "python",
   "nbconvert_exporter": "python",
   "pygments_lexer": "ipython3",
   "version": "3.10.13"
  }
 },
 "nbformat": 4,
 "nbformat_minor": 2
}
