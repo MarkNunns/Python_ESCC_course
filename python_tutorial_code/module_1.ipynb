{
 "cells": [
  {
   "cell_type": "code",
   "execution_count": 1,
   "metadata": {},
   "outputs": [],
   "source": [
    "# For most of the module1 sessions, Python 3.12.1 kernel works well.\n",
    "# but not for module1_4"
   ]
  },
  {
   "cell_type": "code",
   "execution_count": null,
   "metadata": {},
   "outputs": [],
   "source": [
    "x = 5\n",
    "print(x)\n",
    "x += 5\n",
    "print(x)"
   ]
  },
  {
   "cell_type": "code",
   "execution_count": null,
   "metadata": {},
   "outputs": [],
   "source": [
    "x = 5\n",
    "print(x)"
   ]
  },
  {
   "cell_type": "code",
   "execution_count": null,
   "metadata": {},
   "outputs": [],
   "source": [
    "x = x + 1\n",
    "print(x)"
   ]
  },
  {
   "cell_type": "code",
   "execution_count": 5,
   "metadata": {},
   "outputs": [],
   "source": [
    "x = 5\n",
    "y = 10"
   ]
  },
  {
   "cell_type": "code",
   "execution_count": null,
   "metadata": {},
   "outputs": [],
   "source": [
    "num_1 = 1\n",
    "num_2 = 10\n",
    "sum_1_2 = num_1 + num_2\n",
    "print(sum_1_2)"
   ]
  },
  {
   "cell_type": "code",
   "execution_count": null,
   "metadata": {},
   "outputs": [],
   "source": [
    "x = 10\n",
    "y = 2\n",
    "print(x ** y)"
   ]
  },
  {
   "cell_type": "code",
   "execution_count": null,
   "metadata": {},
   "outputs": [],
   "source": [
    "x = 10.0\n",
    "print(type(x))"
   ]
  },
  {
   "cell_type": "code",
   "execution_count": null,
   "metadata": {},
   "outputs": [],
   "source": [
    "x = \"10.0\"\n",
    "print(type(x))"
   ]
  },
  {
   "cell_type": "code",
   "execution_count": null,
   "metadata": {},
   "outputs": [],
   "source": [
    "x = 10\n",
    "print(type(x))"
   ]
  },
  {
   "cell_type": "code",
   "execution_count": null,
   "metadata": {},
   "outputs": [],
   "source": [
    "x = 10.0\n",
    "y = 5\n",
    "z = x + y\n",
    "print(z)\n",
    "print(type(z))"
   ]
  },
  {
   "cell_type": "code",
   "execution_count": null,
   "metadata": {},
   "outputs": [],
   "source": [
    "# this fails as we are aadding 2 different types of variable (I think)\n",
    "'''Longer comments that go over several lines can be written in this format - using\n",
    "TRIPLE apostrophes to enclose the entire section of text'''\n",
    "\n",
    "x = \"10.0\"\n",
    "y = 5\n",
    "z = x + y\n",
    "print(z)"
   ]
  },
  {
   "cell_type": "code",
   "execution_count": null,
   "metadata": {},
   "outputs": [],
   "source": [
    "rad = 2\n",
    "pi = 3.14\n",
    "area = rad ** 2 * pi\n",
    "print(area)"
   ]
  },
  {
   "cell_type": "code",
   "execution_count": null,
   "metadata": {},
   "outputs": [],
   "source": [
    "name = \"Mark\"\n",
    "job = \"chosen one\"\n",
    "longer_string = \"My name is \" + name + \". I am the \" + job + \".\"\n",
    "print(longer_string)"
   ]
  },
  {
   "cell_type": "code",
   "execution_count": null,
   "metadata": {},
   "outputs": [],
   "source": [
    "# f string\n",
    "name = \"Mark\"\n",
    "job = \"zebra\"\n",
    "phrase = f\"My name is {name} and I am the {job}.\"\n",
    "print(phrase)"
   ]
  },
  {
   "cell_type": "code",
   "execution_count": null,
   "metadata": {},
   "outputs": [],
   "source": [
    "# slicing text strings\n",
    "\n",
    "# When a string value ends with a backslash (\\): Based on Python semantics, a pair of quotation marks work as a\n",
    "# boundary for a string literal.\n",
    "# Putting a backslash before a quotation mark will neutralize it and make it an ordinary character. In the programming terminology,\n",
    "# it's called an escape character. For these test exercises we will avoid using backslash in the string.\n",
    "filename = \"Old King Cole was a merry old soul.\"\n",
    "substr1 = filename[10]\n",
    "substr2 = filename[10:]\n",
    "substr3 = filename[:10]\n",
    "print(substr1)\n",
    "print(substr2)\n",
    "print(substr3)"
   ]
  },
  {
   "cell_type": "code",
   "execution_count": null,
   "metadata": {},
   "outputs": [],
   "source": [
    "filename = \"Old King Cole was a merry old soul.\"\n",
    "substr4 = filename[10:12]\n",
    "substr5 = filename[-4:]\n",
    "substr6 = filename[:-4]\n",
    "substr7 = filename[12:-2]\n",
    "print(substr4)\n",
    "print(substr5)\n",
    "print(substr6)\n",
    "print(substr7)"
   ]
  },
  {
   "cell_type": "code",
   "execution_count": null,
   "metadata": {},
   "outputs": [],
   "source": [
    "#I don't understand the logic of this 'reverse string' action (but it does work nicely!)\n",
    "#read on - there is more on these actions below, in the exercise on Lists of colours\n",
    "phrase = \"reverse this phrase\"\n",
    "reversed = phrase[-1::-1]\n",
    "print(reversed)"
   ]
  },
  {
   "cell_type": "code",
   "execution_count": null,
   "metadata": {},
   "outputs": [],
   "source": [
    "# EXERCISE - slice this string into the 3 animals\n",
    "slice = \"dog cat racoon\"\n",
    "substr1 = slice[0:3]\n",
    "substr2 = slice[4:7]\n",
    "substr3 = slice[8:]\n",
    "\n",
    "print(substr1)\n",
    "print(substr2)\n",
    "print(substr3)"
   ]
  },
  {
   "cell_type": "code",
   "execution_count": null,
   "metadata": {},
   "outputs": [],
   "source": [
    "# lists\n",
    "# note that a list can include different types of objects\n",
    "list_1 = [1,'dave',12.25]\n",
    "print(type(list_1))\n",
    "print(list_1)"
   ]
  },
  {
   "cell_type": "code",
   "execution_count": null,
   "metadata": {},
   "outputs": [],
   "source": [
    "colours = ['red','blue','green','purple']\n",
    "# [start:stop:step]\n",
    "print(colours[0])\n",
    "print(colours[2])\n",
    "print(colours[0:3])\n",
    "print(colours[1:3])\n",
    "print(colours[2:4])"
   ]
  },
  {
   "cell_type": "code",
   "execution_count": null,
   "metadata": {},
   "outputs": [],
   "source": [
    "colours = ['red','blue','green','purple']\n",
    "# [start:stop:step]\n",
    "#note that these read from left to right\n",
    "print(colours[::2])\n",
    "print(colours[::3])\n",
    "print(colours[:3])\n",
    "print(colours[-3::])\n",
    "print(colours[-3:])\n",
    "#note that this next one reads from right to left\n",
    "print(colours[::-2])\n",
    "print(colours[::-3])"
   ]
  },
  {
   "cell_type": "code",
   "execution_count": null,
   "metadata": {},
   "outputs": [],
   "source": [
    "colours = ['red','blue','green','purple']\n",
    "# [start:stop:step]\n",
    "#note that these read from left to right\n",
    "print(colours[0::2])\n",
    "print(colours[1::2])\n",
    "#note that these read from right to left\n",
    "print(colours[-1::-1])\n",
    "print(colours[3::-1])\n",
    "print(colours[1::-1])\n",
    "print(colours[0::-1])"
   ]
  },
  {
   "cell_type": "code",
   "execution_count": null,
   "metadata": {},
   "outputs": [],
   "source": [
    "# ranges - a range is a data type, like an integer or a string\n",
    "list1 = range(11)\n",
    "print(list1)\n",
    "print(type(list1))"
   ]
  },
  {
   "cell_type": "code",
   "execution_count": null,
   "metadata": {},
   "outputs": [],
   "source": [
    "# Data types in Python\n",
    "# https://www.w3schools.com/python/gloss_python_built-in_data_types.asp\n",
    "\n",
    "'''Text Type:\t    str\n",
    "Numeric Types:\t    int, float, complex\n",
    "Sequence Types:\t    list, tuple, range\n",
    "Mapping Type:\t    dict\n",
    "Set Types:\t        set, frozenset\n",
    "Boolean Type:\t    bool\n",
    "Binary Types:\t    bytes, bytearray, memoryview'''"
   ]
  },
  {
   "cell_type": "code",
   "execution_count": null,
   "metadata": {},
   "outputs": [],
   "source": [
    "# turn range into a list\n",
    "mylist = list(range(1,7))\n",
    "print(mylist)"
   ]
  },
  {
   "cell_type": "code",
   "execution_count": null,
   "metadata": {},
   "outputs": [],
   "source": [
    "range_1 = range(2, 20, 3)\n",
    "list_1 = list(range_1)\n",
    "print(list_1)"
   ]
  },
  {
   "cell_type": "code",
   "execution_count": null,
   "metadata": {},
   "outputs": [],
   "source": [
    "# .append () method - append an object\n",
    "colours = ['red','blue','green','purple']\n",
    "colours.append('teal')\n",
    "print(colours)"
   ]
  },
  {
   "cell_type": "code",
   "execution_count": null,
   "metadata": {},
   "outputs": [],
   "source": [
    "# append a list\n",
    "colours = ['red','blue','green','purple']\n",
    "colours.append(['teal','orange'])\n",
    "# You can see here it's appended the extra colours as one item in the list\n",
    "print(colours)\n",
    "print(colours[4])"
   ]
  },
  {
   "cell_type": "code",
   "execution_count": null,
   "metadata": {},
   "outputs": [],
   "source": [
    "# append a defined list\n",
    "colours = ['red','blue','green','purple']\n",
    "extra_colours = ['turquoise', 'teal']\n",
    "colours.append(extra_colours)\n",
    "# You can see here it's appended the whole list 'extra_colours' as one item in the list\n",
    "print(colours)"
   ]
  },
  {
   "cell_type": "code",
   "execution_count": null,
   "metadata": {},
   "outputs": [],
   "source": [
    "# .extend() method\n",
    "# we can use extend to have each element of a list as a new element in another list\n",
    "colours = ['red','blue','green','purple']\n",
    "extra_colours = ['turquoise', 'teal']\n",
    "colours.extend(extra_colours)\n",
    "print(colours)\n",
    "# We can also access elements in a list the same way we can strings\n",
    "print(colours[3:7])\n",
    "\n",
    "# .remove () method - We can remove list elements using .remove\n",
    "colours.remove('teal')\n",
    "print(colours)"
   ]
  },
  {
   "cell_type": "code",
   "execution_count": null,
   "metadata": {},
   "outputs": [],
   "source": [
    "# .sort () method - sorting a list\n",
    "numbers_list = [2,3,4,5,1,6]\n",
    "numbers_list.sort()\n",
    "print(numbers_list)\n",
    "# sort backwards\n",
    "numbers_list.sort(reverse=True)\n",
    "print(numbers_list)"
   ]
  },
  {
   "cell_type": "code",
   "execution_count": null,
   "metadata": {},
   "outputs": [],
   "source": [
    "# sorted function - here we sort a list using a function and returning it to a new variable\n",
    "sorted_list = sorted([3,2,3,4,5])\n",
    "print(sorted_list)\n",
    "\n",
    "colours_list = ['red', 'blue', 'green', 'amber']\n",
    "sorted_colours = sorted(colours_list, key=str.lower)\n",
    "print(sorted_colours)"
   ]
  },
  {
   "cell_type": "code",
   "execution_count": null,
   "metadata": {},
   "outputs": [],
   "source": [
    "# Dictionaries\n",
    "# Dictionaries may initially seem a little confusing, and not overly helpful, but they are an incredibly powerful tool.\n",
    "# Dictionaries allow us to store things in key:value pairs, where, generally, the key is a string or a number.\n",
    "# The Key must be unique within a dictionary, and must be immutable objects (objects that can't be changed, like lists).\n",
    "# The Value is... pretty much whatever we want it to be.\n",
    "# We build a list using curly brackets {}, seperating key:value pairs with colons, and entries with commas.\n",
    "favourite_colours = {'Will':'teal',\n",
    "                     'Andy':['Purple', 'Green', 'Azure'],\n",
    "                     'Annie':{'Mondays':'Red',\n",
    "                              'Sundays':'Orange',\n",
    "                              'Other days':'Black'}}\n",
    "# Here you can see I've stored strings, lists, and even dictionaries as the value in a key:value pair.\n",
    "print(favourite_colours)"
   ]
  },
  {
   "cell_type": "code",
   "execution_count": null,
   "metadata": {},
   "outputs": [],
   "source": [
    "# Dictionaries (d) - list(d) will print the keys, in order from a dictionary\n",
    "print(list(favourite_colours))"
   ]
  },
  {
   "cell_type": "code",
   "execution_count": null,
   "metadata": {},
   "outputs": [],
   "source": [
    "# Dictionaries - Print all key:value pairs\n",
    "print(favourite_colours.items())\n",
    "# Dictionaries - Prints all keys\n",
    "print(favourite_colours.keys())\n",
    "# Dictionaries - Prints all values\n",
    "print(favourite_colours.values())"
   ]
  },
  {
   "cell_type": "code",
   "execution_count": null,
   "metadata": {},
   "outputs": [],
   "source": [
    "# We can access the values associated with a key by passing it between square brackets after the dictionary's name\n",
    "print(favourite_colours['Will'])\n",
    "\n",
    "# We can also add/update key value pairs in a similar way\n",
    "favourite_colours['Naiomi'] = 'Yellow'\n",
    "print(favourite_colours)\n",
    "\n",
    "# We can check if a key is in a dictionary or not like so...\n",
    "print('Mo' in favourite_colours)\n",
    "print('Will' in favourite_colours)"
   ]
  },
  {
   "cell_type": "code",
   "execution_count": null,
   "metadata": {},
   "outputs": [],
   "source": [
    "# session exercise\n",
    "# In this cell, make a dictionary of some restaurants and the foods they sell,\n",
    "# print the items, keys, and values, have at least one have the value as a list.\n",
    "restaurants = {'Fiveways':['burgers','chicken','kebabs'],\n",
    "            'Seaside':['fish','chips'],\n",
    "            'Luigi':['pizza','pasta'],\n",
    "            'Tariq':['curry','samosa','papads']}\n",
    "print(restaurants)\n",
    "print(restaurants.keys())\n",
    "print(restaurants.values())"
   ]
  },
  {
   "cell_type": "code",
   "execution_count": null,
   "metadata": {},
   "outputs": [],
   "source": [
    "# overwrite values in a specific key:value pair\n",
    "restaurants = {'Fiveways':['burgers','chicken','kebabs'],\n",
    "            'Seaside':['fish','chips'],\n",
    "            'Luigi':['pizza','pasta'],\n",
    "            'Tariq':['curry','samosa','papads']}\n",
    "restaurants['Luigi'] = ['calzone','chianti']\n",
    "Luigi_food = restaurants['Luigi']\n",
    "print(Luigi_food)"
   ]
  },
  {
   "cell_type": "code",
   "execution_count": null,
   "metadata": {},
   "outputs": [],
   "source": [
    "# Add a new key:value pair to your dictionary\n",
    "restaurants = {'Fiveways':['burgers','chicken','kebabs'],\n",
    "            'Seaside':['fish','chips'],\n",
    "            'Luigi':['pizza','pasta'],\n",
    "            'Tariq':['curry','samosa','papads']}\n",
    "restaurants['Terry'] = ['bacon','egg','beans']\n",
    "# Using the key, print the values of one of the restaurants in your dictionary.\n",
    "Terry_food = restaurants['Terry']\n",
    "print(Terry_food)"
   ]
  },
  {
   "cell_type": "code",
   "execution_count": null,
   "metadata": {},
   "outputs": [],
   "source": [
    "# true and false conditions\n",
    "restaurants = {'Fiveways':['burgers','chicken','kebabs'],\n",
    "            'Seaside':['fish','chips'],\n",
    "            'Luigi':['pizza','pasta'],\n",
    "            'Tariq':['curry','samosa','papads']}\n",
    "print('Luigi' in restaurants)\n",
    "print('luigi' in restaurants)\n",
    "print('McDonalds' in restaurants)"
   ]
  },
  {
   "cell_type": "code",
   "execution_count": null,
   "metadata": {},
   "outputs": [],
   "source": [
    "# Session 1 Group Work - Dictionaries\n",
    "# Make a dictionary which has the names of everyone in the group as keys, and job titles as the values, print it.\n",
    "# Work out how to get all of the values from the dictionary as a single list, and sort the new list alphabetically,\n",
    "# assigned to a suitably named variable.\n",
    "\n",
    "# Loops is a topic for a later session. Here I would like you to use google as your main resource to work out how to\n",
    "# use a 'for' loop to print each set of keys/values from your dictionary on new lines, one line per loop,\n",
    "# with the resulting form 'My name is and my job is '.\n",
    "\n",
    "students = {'Bob':'pilot',\n",
    "            'Niles':'driver',\n",
    "            'Frida':'doctor',\n",
    "            'Will':'cook',\n",
    "            'Jeremy':'artist'}\n",
    "print(students)\n",
    "print(students.items())\n",
    "print(students.keys())\n",
    "print(students.values())"
   ]
  },
  {
   "cell_type": "code",
   "execution_count": null,
   "metadata": {},
   "outputs": [],
   "source": [
    "value_list = list(students.values())\n",
    "sorted_value_list1 = sorted(list(students.values()))\n",
    "sorted_value_list2 = sorted(list(students.values()),reverse=True)\n",
    "print(sorted_value_list1)\n",
    "print(sorted_value_list2)\n",
    "# using a simple Python 'for' loop with a list\n",
    "for x in sorted_value_list1:\n",
    "    print(f\"My name is Zod and I am the {x}.\")"
   ]
  },
  {
   "cell_type": "code",
   "execution_count": null,
   "metadata": {},
   "outputs": [],
   "source": [
    "# using a simple Python 'for' loop with a dictionary\n",
    "for x, y in students.items():\n",
    "    print(f\"My name is {x} and I am the {y}.\")"
   ]
  },
  {
   "cell_type": "code",
   "execution_count": null,
   "metadata": {},
   "outputs": [],
   "source": [
    "# sorting - Method 1\n",
    "# using 'for' loop with a dictionary sorted by key (Method 1 - it is automatically sorted by key)\n",
    "# there are various methods to sort a dictionary\n",
    "sort_dict = dict(sorted(students.items()))\n",
    "for x, y in sort_dict.items():\n",
    "    print(f\"My name is {x} and I am the {y}.\")"
   ]
  },
  {
   "cell_type": "code",
   "execution_count": null,
   "metadata": {},
   "outputs": [],
   "source": [
    "# sorting - Method 2\n",
    "# using 'for' loop with a dictionary sorted by key (Method 2 - defining that we are sorting by key)\n",
    "sort_dict = dict(sorted(students.items(), key=lambda item: item[0]))\n",
    "for x, y in sort_dict.items():\n",
    "    print(f\"My name is {x} and I am the {y}.\")"
   ]
  },
  {
   "cell_type": "code",
   "execution_count": null,
   "metadata": {},
   "outputs": [],
   "source": [
    "# using a 'for' loop with a dictionary sorted by value\n",
    "sort_dict = dict(sorted(students.items(), key=lambda item: item[1]))\n",
    "for x, y in sort_dict.items():\n",
    "    print(f\"My name is {x} and I am the {y}.\")"
   ]
  },
  {
   "cell_type": "code",
   "execution_count": null,
   "metadata": {},
   "outputs": [],
   "source": [
    "# using a 'for' loop with a dictionary sorted by the 1st of it's 2 values\n",
    "# I tried nested loops, it works & will be useful in other contexts, but it doesn't work as intended in this situation.\n",
    "students2 = {'Bob':['pilot', 5],\n",
    "            'Niles':['driver', 7],\n",
    "            'Frida':['doctor', 12],\n",
    "            'Will':['cook', 4],\n",
    "            'Jeremy':['artist', 8]}\n",
    "sort_dict2 = dict(sorted(students2.items()))\n",
    "# print(f\"My name is {z} and I have been a {x} for {y} years.\")\n",
    "for key, value in sort_dict2.items():\n",
    "# this technique is in module_3.ipynb\n",
    "    print(('My name is %s,' % key),('and I have been the %s' % value))"
   ]
  },
  {
   "cell_type": "code",
   "execution_count": null,
   "metadata": {},
   "outputs": [],
   "source": [
    "# MN solution, but it does not do everything needed\n",
    "students2 = {'Bob':['pilot', 5],\n",
    "            'Niles':['driver', 7],\n",
    "            'Frida':['doctor', 12],\n",
    "            'Will':['cook', 4],\n",
    "            'Jeremy':['artist', 8]}\n",
    "sort_dict2 = dict(sorted(students2.items()))\n",
    "# OBJECTIVE:  print(f\"My name is {z} and I have been a {x} for {y} years.\")\n",
    "for value1, value2 in sort_dict2.values():\n",
    "# this %s technique is in module_3.ipynb\n",
    "        print(('My name is Henry,'),('and I have been the %s' % value1),('for %s years' % value2))"
   ]
  },
  {
   "cell_type": "code",
   "execution_count": null,
   "metadata": {},
   "outputs": [],
   "source": [
    "# Will LP's thinking/working step 1\n",
    "# in all of Will's work he has ditched the code line that sorts the output alphabetically. \n",
    "for key in students2.keys():\n",
    "    job_title = students2[key][0]\n",
    "    print(job_title)"
   ]
  },
  {
   "cell_type": "code",
   "execution_count": null,
   "metadata": {},
   "outputs": [],
   "source": [
    "# Will LP's thinking/working step 2\n",
    "for name, info in students2.items():\n",
    "    print(name)\n",
    "    for data in info:\n",
    "        print(data)"
   ]
  },
  {
   "cell_type": "code",
   "execution_count": null,
   "metadata": {},
   "outputs": [],
   "source": [
    "# Will LP's first solution\n",
    "\n",
    "for name, info in students2.items():\n",
    "    print(f'{name} has been a {info[0]} for {info[1]} years.')"
   ]
  },
  {
   "cell_type": "code",
   "execution_count": null,
   "metadata": {},
   "outputs": [],
   "source": [
    "# Will LP's improved/best solution\n",
    "\n",
    "for name, info in students2.items():\n",
    "    job_title = info[0]\n",
    "    service_years = info[1]\n",
    "    print(f'My name is {name}, and I have been a {job_title} for {service_years} years.')"
   ]
  },
  {
   "cell_type": "code",
   "execution_count": null,
   "metadata": {},
   "outputs": [],
   "source": [
    "# Declaring multiple string values  \n",
    "mkr1 = \"developers\"  \n",
    "mkr2 = \"JavaTpoint\"  \n",
    "mkr3 = \"day\"  \n",
    "# Appending multiple string values inside a single string  \n",
    "print(\"Hello Python %s, Welcome to the %s! We hope you are having a good %s.\" % (mkr1, mkr2, mkr3))\n",
    "# source: https://www.javatpoint.com/python-s-string-formatting#:~:text=The%20%25s%20allow%20us%20to,value%20to%20string%20data%20type."
   ]
  }
 ],
 "metadata": {
  "kernelspec": {
   "display_name": "Python 3",
   "language": "python",
   "name": "python3"
  },
  "language_info": {
   "codemirror_mode": {
    "name": "ipython",
    "version": 3
   },
   "file_extension": ".py",
   "mimetype": "text/x-python",
   "name": "python",
   "nbconvert_exporter": "python",
   "pygments_lexer": "ipython3",
   "version": "3.12.1"
  }
 },
 "nbformat": 4,
 "nbformat_minor": 2
}
