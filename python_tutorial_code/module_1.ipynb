{
 "cells": [
  {
   "cell_type": "code",
   "execution_count": 1,
   "metadata": {},
   "outputs": [
    {
     "name": "stdout",
     "output_type": "stream",
     "text": [
      "5\n",
      "10\n"
     ]
    }
   ],
   "source": [
    "x = 5\n",
    "print(x)\n",
    "x += 5\n",
    "print(x)"
   ]
  },
  {
   "cell_type": "code",
   "execution_count": 2,
   "metadata": {},
   "outputs": [
    {
     "name": "stdout",
     "output_type": "stream",
     "text": [
      "5\n"
     ]
    }
   ],
   "source": [
    "x = 5\n",
    "print(x)"
   ]
  },
  {
   "cell_type": "code",
   "execution_count": 3,
   "metadata": {},
   "outputs": [
    {
     "name": "stdout",
     "output_type": "stream",
     "text": [
      "6\n"
     ]
    }
   ],
   "source": [
    "x = x + 1\n",
    "print(x)"
   ]
  },
  {
   "cell_type": "code",
   "execution_count": 4,
   "metadata": {},
   "outputs": [],
   "source": [
    "x = 5\n",
    "y = 10"
   ]
  },
  {
   "cell_type": "code",
   "execution_count": 5,
   "metadata": {},
   "outputs": [
    {
     "name": "stdout",
     "output_type": "stream",
     "text": [
      "11\n"
     ]
    }
   ],
   "source": [
    "num_1 = 1\n",
    "num_2 = 10\n",
    "sum_1_2 = num_1 + num_2\n",
    "print(sum_1_2)"
   ]
  },
  {
   "cell_type": "code",
   "execution_count": 6,
   "metadata": {},
   "outputs": [
    {
     "name": "stdout",
     "output_type": "stream",
     "text": [
      "100\n"
     ]
    }
   ],
   "source": [
    "x = 10\n",
    "y = 2\n",
    "print(x ** y)"
   ]
  },
  {
   "cell_type": "code",
   "execution_count": 7,
   "metadata": {},
   "outputs": [
    {
     "name": "stdout",
     "output_type": "stream",
     "text": [
      "<class 'float'>\n"
     ]
    }
   ],
   "source": [
    "x = 10.0\n",
    "print(type(x))"
   ]
  },
  {
   "cell_type": "code",
   "execution_count": 8,
   "metadata": {},
   "outputs": [
    {
     "name": "stdout",
     "output_type": "stream",
     "text": [
      "<class 'str'>\n"
     ]
    }
   ],
   "source": [
    "x = \"10.0\"\n",
    "print(type(x))"
   ]
  },
  {
   "cell_type": "code",
   "execution_count": 9,
   "metadata": {},
   "outputs": [
    {
     "name": "stdout",
     "output_type": "stream",
     "text": [
      "<class 'int'>\n"
     ]
    }
   ],
   "source": [
    "x = 10\n",
    "print(type(x))"
   ]
  },
  {
   "cell_type": "code",
   "execution_count": 10,
   "metadata": {},
   "outputs": [
    {
     "name": "stdout",
     "output_type": "stream",
     "text": [
      "15.0\n",
      "<class 'float'>\n"
     ]
    }
   ],
   "source": [
    "x = 10.0\n",
    "y = 5\n",
    "z = x + y\n",
    "print(z)\n",
    "print(type(z))"
   ]
  },
  {
   "cell_type": "code",
   "execution_count": 11,
   "metadata": {},
   "outputs": [
    {
     "ename": "TypeError",
     "evalue": "can only concatenate str (not \"int\") to str",
     "output_type": "error",
     "traceback": [
      "\u001b[0;31m---------------------------------------------------------------------------\u001b[0m",
      "\u001b[0;31mTypeError\u001b[0m                                 Traceback (most recent call last)",
      "Cell \u001b[0;32mIn[11], line 3\u001b[0m\n\u001b[1;32m      1\u001b[0m x \u001b[38;5;241m=\u001b[39m \u001b[38;5;124m\"\u001b[39m\u001b[38;5;124m10.0\u001b[39m\u001b[38;5;124m\"\u001b[39m\n\u001b[1;32m      2\u001b[0m y \u001b[38;5;241m=\u001b[39m \u001b[38;5;241m5\u001b[39m\n\u001b[0;32m----> 3\u001b[0m z \u001b[38;5;241m=\u001b[39m \u001b[43mx\u001b[49m\u001b[43m \u001b[49m\u001b[38;5;241;43m+\u001b[39;49m\u001b[43m \u001b[49m\u001b[43my\u001b[49m\n\u001b[1;32m      4\u001b[0m \u001b[38;5;28mprint\u001b[39m(z)\n",
      "\u001b[0;31mTypeError\u001b[0m: can only concatenate str (not \"int\") to str"
     ]
    }
   ],
   "source": [
    "x = \"10.0\"\n",
    "y = 5\n",
    "z = x + y\n",
    "print(z)"
   ]
  },
  {
   "cell_type": "code",
   "execution_count": null,
   "metadata": {},
   "outputs": [
    {
     "name": "stdout",
     "output_type": "stream",
     "text": [
      "12.56\n"
     ]
    }
   ],
   "source": [
    "rad = 2\n",
    "pi = 3.14\n",
    "area = rad ** 2 * pi\n",
    "print(area)"
   ]
  },
  {
   "cell_type": "code",
   "execution_count": null,
   "metadata": {},
   "outputs": [
    {
     "name": "stdout",
     "output_type": "stream",
     "text": [
      "My name is Mark. I am the chosen one.\n"
     ]
    }
   ],
   "source": [
    "name = \"Mark\"\n",
    "job = \"chosen one\"\n",
    "longer_string = \"My name is \" + name + \". I am the \" + job + \".\"\n",
    "print(longer_string)"
   ]
  },
  {
   "cell_type": "code",
   "execution_count": null,
   "metadata": {},
   "outputs": [
    {
     "name": "stdout",
     "output_type": "stream",
     "text": [
      "My name is Mark and I am the zebra.\n"
     ]
    }
   ],
   "source": [
    "# f string\n",
    "name = \"Mark\"\n",
    "job = \"zebra\"\n",
    "phrase = f\"My name is {name} and I am the {job}.\"\n",
    "print(phrase)"
   ]
  },
  {
   "cell_type": "code",
   "execution_count": null,
   "metadata": {},
   "outputs": [
    {
     "name": "stdout",
     "output_type": "stream",
     "text": [
      "o\n",
      "ole was a merry old soul.\n",
      "Old King C\n"
     ]
    }
   ],
   "source": [
    "# slicing text strings\n",
    "\n",
    "#When a string value ends with a backslash (\\): Based on Python semantics, a pair of quotation marks work as a\n",
    "#boundary for a string literal.\n",
    "#Putting a backslash before a quotation mark will neutralize it and make it an ordinary character. In the programming terminology,\n",
    "#it's called an escape character. For these test exercises we will avoid using backslash in the string.\n",
    "filename = \"Old King Cole was a merry old soul.\"\n",
    "substr1 = filename[10]\n",
    "substr2 = filename[10:]\n",
    "substr3 = filename[:10]\n",
    "print(substr1)\n",
    "print(substr2)\n",
    "print(substr3)"
   ]
  },
  {
   "cell_type": "code",
   "execution_count": null,
   "metadata": {},
   "outputs": [
    {
     "name": "stdout",
     "output_type": "stream",
     "text": [
      "ol\n",
      "oul.\n",
      "Old King Cole was a merry old s\n",
      "e was a merry old sou\n"
     ]
    }
   ],
   "source": [
    "filename = \"Old King Cole was a merry old soul.\"\n",
    "substr4 = filename[10:12]\n",
    "substr5 = filename[-4:]\n",
    "substr6 = filename[:-4]\n",
    "substr7 = filename[12:-2]\n",
    "print(substr4)\n",
    "print(substr5)\n",
    "print(substr6)\n",
    "print(substr7)"
   ]
  },
  {
   "cell_type": "code",
   "execution_count": null,
   "metadata": {},
   "outputs": [
    {
     "name": "stdout",
     "output_type": "stream",
     "text": [
      "esarhp siht esrever\n"
     ]
    }
   ],
   "source": [
    "#I don't understand the logic of this 'reverse string' action (but it does work nicely!)\n",
    "#read on - there is more on these actions below, in the exercise on Lists of colours\n",
    "phrase = \"reverse this phrase\"\n",
    "reversed = phrase[-1::-1]\n",
    "print(reversed)"
   ]
  },
  {
   "cell_type": "code",
   "execution_count": null,
   "metadata": {},
   "outputs": [
    {
     "name": "stdout",
     "output_type": "stream",
     "text": [
      "dog\n",
      "cat\n",
      "racoon\n"
     ]
    }
   ],
   "source": [
    "# EXERCISE - slice this string into the 3 animals\n",
    "slice = \"dog cat racoon\"\n",
    "substr1 = slice[0:3]\n",
    "substr2 = slice[4:7]\n",
    "substr3 = slice[8:]\n",
    "\n",
    "print(substr1)\n",
    "print(substr2)\n",
    "print(substr3)"
   ]
  },
  {
   "cell_type": "code",
   "execution_count": null,
   "metadata": {},
   "outputs": [
    {
     "name": "stdout",
     "output_type": "stream",
     "text": [
      "<class 'list'>\n",
      "[1, 'dave', 12.25]\n"
     ]
    }
   ],
   "source": [
    "# lists\n",
    "#note that a list can include different types of objects\n",
    "list_1 = [1,'dave',12.25]\n",
    "print(type(list_1))\n",
    "print(list_1)"
   ]
  },
  {
   "cell_type": "code",
   "execution_count": null,
   "metadata": {},
   "outputs": [
    {
     "name": "stdout",
     "output_type": "stream",
     "text": [
      "red\n",
      "green\n",
      "['red', 'blue', 'green']\n",
      "['blue', 'green']\n",
      "['green', 'purple']\n"
     ]
    }
   ],
   "source": [
    "colours = ['red','blue','green','purple']\n",
    "# [start:stop:step]\n",
    "print(colours[0])\n",
    "print(colours[2])\n",
    "print(colours[0:3])\n",
    "print(colours[1:3])\n",
    "print(colours[2:4])"
   ]
  },
  {
   "cell_type": "code",
   "execution_count": null,
   "metadata": {},
   "outputs": [
    {
     "name": "stdout",
     "output_type": "stream",
     "text": [
      "['red', 'green']\n",
      "['red', 'purple']\n",
      "['red', 'blue', 'green']\n",
      "['blue', 'green', 'purple']\n",
      "['blue', 'green', 'purple']\n",
      "['purple', 'blue']\n",
      "['purple', 'red']\n"
     ]
    }
   ],
   "source": [
    "colours = ['red','blue','green','purple']\n",
    "# [start:stop:step]\n",
    "#note that these read from left to right\n",
    "print(colours[::2])\n",
    "print(colours[::3])\n",
    "print(colours[:3])\n",
    "print(colours[-3::])\n",
    "print(colours[-3:])\n",
    "#note that this next one reads from right to left\n",
    "print(colours[::-2])\n",
    "print(colours[::-3])"
   ]
  },
  {
   "cell_type": "code",
   "execution_count": null,
   "metadata": {},
   "outputs": [
    {
     "name": "stdout",
     "output_type": "stream",
     "text": [
      "['red', 'green']\n",
      "['blue', 'purple']\n",
      "['purple', 'green', 'blue', 'red']\n",
      "['purple', 'green', 'blue', 'red']\n",
      "['blue', 'red']\n",
      "['red']\n"
     ]
    }
   ],
   "source": [
    "colours = ['red','blue','green','purple']\n",
    "# [start:stop:step]\n",
    "#note that these read from left to right\n",
    "print(colours[0::2])\n",
    "print(colours[1::2])\n",
    "#note that these read from right to left\n",
    "print(colours[-1::-1])\n",
    "print(colours[3::-1])\n",
    "print(colours[1::-1])\n",
    "print(colours[0::-1])"
   ]
  },
  {
   "cell_type": "code",
   "execution_count": null,
   "metadata": {},
   "outputs": [
    {
     "name": "stdout",
     "output_type": "stream",
     "text": [
      "range(0, 11)\n",
      "<class 'range'>\n"
     ]
    }
   ],
   "source": [
    "# ranges - a range is a data type, like an integer or a string\n",
    "list1 = range(11)\n",
    "print(list1)\n",
    "print(type(list1))"
   ]
  },
  {
   "cell_type": "code",
   "execution_count": null,
   "metadata": {},
   "outputs": [
    {
     "name": "stdout",
     "output_type": "stream",
     "text": [
      "[1, 2, 3, 4, 5, 6]\n"
     ]
    }
   ],
   "source": [
    "# turn range into a list\n",
    "mylist = list(range(1,7))\n",
    "print(mylist)"
   ]
  },
  {
   "cell_type": "code",
   "execution_count": null,
   "metadata": {},
   "outputs": [
    {
     "name": "stdout",
     "output_type": "stream",
     "text": [
      "[2, 5, 8, 11, 14, 17]\n"
     ]
    }
   ],
   "source": [
    "range_1 = range(2, 20, 3)\n",
    "list_1 = list(range_1)\n",
    "print(list_1)"
   ]
  },
  {
   "cell_type": "code",
   "execution_count": null,
   "metadata": {},
   "outputs": [
    {
     "name": "stdout",
     "output_type": "stream",
     "text": [
      "['red', 'blue', 'green', 'purple', 'teal']\n"
     ]
    }
   ],
   "source": [
    "# .append () method - append an object\n",
    "colours = ['red','blue','green','purple']\n",
    "colours.append('teal')\n",
    "print(colours)"
   ]
  },
  {
   "cell_type": "code",
   "execution_count": null,
   "metadata": {},
   "outputs": [
    {
     "name": "stdout",
     "output_type": "stream",
     "text": [
      "['red', 'blue', 'green', 'purple', ['teal', 'orange']]\n",
      "['teal', 'orange']\n"
     ]
    }
   ],
   "source": [
    "# append a list\n",
    "colours = ['red','blue','green','purple']\n",
    "colours.append(['teal','orange'])\n",
    "# You can see here it's appended the extra colours as one item in the list\n",
    "print(colours)\n",
    "print(colours[4])"
   ]
  },
  {
   "cell_type": "code",
   "execution_count": null,
   "metadata": {},
   "outputs": [
    {
     "name": "stdout",
     "output_type": "stream",
     "text": [
      "['red', 'blue', 'green', 'purple', ['turquoise', 'teal']]\n"
     ]
    }
   ],
   "source": [
    "# append a defined list\n",
    "colours = ['red','blue','green','purple']\n",
    "extra_colours = ['turquoise', 'teal']\n",
    "colours.append(extra_colours)\n",
    "# You can see here it's appended the whole list 'extra_colours' as one item in the list\n",
    "print(colours)"
   ]
  },
  {
   "cell_type": "code",
   "execution_count": null,
   "metadata": {},
   "outputs": [
    {
     "name": "stdout",
     "output_type": "stream",
     "text": [
      "['red', 'blue', 'green', 'purple', 'turquoise', 'teal']\n",
      "['purple', 'turquoise', 'teal']\n",
      "['red', 'blue', 'green', 'purple', 'turquoise']\n"
     ]
    }
   ],
   "source": [
    "# .extend() method\n",
    "# we can use extend to have each element of a list as a new element in another list\n",
    "colours = ['red','blue','green','purple']\n",
    "extra_colours = ['turquoise', 'teal']\n",
    "colours.extend(extra_colours)\n",
    "print(colours)\n",
    "# We can also access elements in a list the same way we can strings\n",
    "print(colours[3:7])\n",
    "\n",
    "# .remove () method - We can remove list elements using .remove\n",
    "colours.remove('teal')\n",
    "print(colours)"
   ]
  },
  {
   "cell_type": "code",
   "execution_count": null,
   "metadata": {},
   "outputs": [
    {
     "name": "stdout",
     "output_type": "stream",
     "text": [
      "[1, 2, 3, 4, 5, 6]\n",
      "[6, 5, 4, 3, 2, 1]\n",
      "[2, 3, 3, 4, 5]\n",
      "['amber', 'blue', 'green', 'red']\n"
     ]
    }
   ],
   "source": [
    "# .sort () method - sorting a list\n",
    "numbers_list = [2,3,4,5,1,6]\n",
    "numbers_list.sort()\n",
    "print(numbers_list)\n",
    "# sort backwards\n",
    "numbers_list.sort(reverse=True)\n",
    "print(numbers_list)"
   ]
  },
  {
   "cell_type": "code",
   "execution_count": null,
   "metadata": {},
   "outputs": [
    {
     "name": "stdout",
     "output_type": "stream",
     "text": [
      "[2, 3, 3, 4, 5]\n",
      "['amber', 'blue', 'green', 'red']\n"
     ]
    }
   ],
   "source": [
    "# sorted function - here we sort a list using a function and returning it to a new variable\n",
    "sorted_list = sorted([3,2,3,4,5])\n",
    "print(sorted_list)\n",
    "\n",
    "colours_list = ['red', 'blue', 'green', 'amber']\n",
    "sorted_colours = sorted(colours_list, key=str.lower)\n",
    "print(sorted_colours)"
   ]
  },
  {
   "cell_type": "code",
   "execution_count": null,
   "metadata": {},
   "outputs": [
    {
     "name": "stdout",
     "output_type": "stream",
     "text": [
      "{'Will': 'teal', 'Andy': ['Purple', 'Green', 'Azure'], 'Annie': {'Mondays': 'Red', 'Sundays': 'Orange', 'Other days': 'Black'}}\n"
     ]
    }
   ],
   "source": [
    "# Dictionaries\n",
    "# Dictionaries may initially seem a little confusing, and not overly helpful, but they are an incredibly powerful tool.\n",
    "# Dictionaries allow us to store things in key:value pairs, where, generally, the key is a string or a number.\n",
    "# The Key must be unique within a dictionary, and must be immutable objects (objects that can't be changed, like lists).\n",
    "# The Value is... pretty much whatever we want it to be.\n",
    "# We build a list using curly brackets {}, seperating key:value pairs with colons, and entries with commas.\n",
    "favourite_colours = {'Will':'teal',\n",
    "                     'Andy':['Purple', 'Green', 'Azure'],\n",
    "                     'Annie':{'Mondays':'Red',\n",
    "                              'Sundays':'Orange',\n",
    "                              'Other days':'Black'}}\n",
    "# Here you can see I've stored strings, lists, and even dictionaries as the value in a key:value pair.\n",
    "print(favourite_colours)"
   ]
  },
  {
   "cell_type": "code",
   "execution_count": null,
   "metadata": {},
   "outputs": [
    {
     "name": "stdout",
     "output_type": "stream",
     "text": [
      "['Will', 'Andy', 'Annie', 'Naiomi']\n"
     ]
    }
   ],
   "source": [
    "# Dictionaries (d) - list(d) will print the keys, in order from a dictionary\n",
    "print(list(favourite_colours))"
   ]
  },
  {
   "cell_type": "code",
   "execution_count": null,
   "metadata": {},
   "outputs": [
    {
     "name": "stdout",
     "output_type": "stream",
     "text": [
      "dict_items([('Will', 'teal'), ('Andy', ['Purple', 'Green', 'Azure']), ('Annie', {'Mondays': 'Red', 'Sundays': 'Orange', 'Other days': 'Black'}), ('Naiomi', 'Yellow')])\n",
      "dict_keys(['Will', 'Andy', 'Annie', 'Naiomi'])\n",
      "dict_values(['teal', ['Purple', 'Green', 'Azure'], {'Mondays': 'Red', 'Sundays': 'Orange', 'Other days': 'Black'}, 'Yellow'])\n"
     ]
    }
   ],
   "source": [
    "# Dictionaries - Print all key:value pairs\n",
    "print(favourite_colours.items())\n",
    "# Dictionaries - Prints all keys\n",
    "print(favourite_colours.keys())\n",
    "# Dictionaries - Prints all values\n",
    "print(favourite_colours.values())"
   ]
  },
  {
   "cell_type": "code",
   "execution_count": null,
   "metadata": {},
   "outputs": [
    {
     "name": "stdout",
     "output_type": "stream",
     "text": [
      "teal\n",
      "{'Will': 'teal', 'Andy': ['Purple', 'Green', 'Azure'], 'Annie': {'Mondays': 'Red', 'Sundays': 'Orange', 'Other days': 'Black'}, 'Naiomi': 'Yellow'}\n",
      "False\n",
      "True\n"
     ]
    }
   ],
   "source": [
    "# We can access the values associated with a key by passing it between square brackets after the dictionary's name\n",
    "print(favourite_colours['Will'])\n",
    "\n",
    "# We can also add/update key value pairs in a similar way\n",
    "favourite_colours['Naiomi'] = 'Yellow'\n",
    "print(favourite_colours)\n",
    "\n",
    "# We can check if a key is in a dictionary or not like so...\n",
    "print('Mo' in favourite_colours)\n",
    "print('Will' in favourite_colours)"
   ]
  },
  {
   "cell_type": "code",
   "execution_count": null,
   "metadata": {},
   "outputs": [
    {
     "name": "stdout",
     "output_type": "stream",
     "text": [
      "{'Fiveways': ['burgers', 'chicken', 'kebabs'], 'Seaside': ['fish', 'chips'], 'Luigi': ['pizza', 'pasta'], 'Tariq': ['curry', 'samosa', 'papads']}\n",
      "dict_keys(['Fiveways', 'Seaside', 'Luigi', 'Tariq'])\n",
      "dict_values([['burgers', 'chicken', 'kebabs'], ['fish', 'chips'], ['pizza', 'pasta'], ['curry', 'samosa', 'papads']])\n"
     ]
    }
   ],
   "source": [
    "# session exercise\n",
    "# In this cell, make a dictionary of some restaurants and the foods they sell,\n",
    "# print the items, keys, and values, have at least one have the value as a list.\n",
    "restaurants = {'Fiveways':['burgers','chicken','kebabs'],\n",
    "            'Seaside':['fish','chips'],\n",
    "            'Luigi':['pizza','pasta'],\n",
    "            'Tariq':['curry','samosa','papads']}\n",
    "print(restaurants)\n",
    "print(restaurants.keys())\n",
    "print(restaurants.values())"
   ]
  },
  {
   "cell_type": "code",
   "execution_count": null,
   "metadata": {},
   "outputs": [
    {
     "name": "stdout",
     "output_type": "stream",
     "text": [
      "['calzone', 'chianti']\n"
     ]
    }
   ],
   "source": [
    "# overwrite values in a specific key:value pair\n",
    "restaurants = {'Fiveways':['burgers','chicken','kebabs'],\n",
    "            'Seaside':['fish','chips'],\n",
    "            'Luigi':['pizza','pasta'],\n",
    "            'Tariq':['curry','samosa','papads']}\n",
    "restaurants['Luigi'] = ['calzone','chianti']\n",
    "Luigi_food = restaurants['Luigi']\n",
    "print(Luigi_food)"
   ]
  },
  {
   "cell_type": "code",
   "execution_count": null,
   "metadata": {},
   "outputs": [
    {
     "name": "stdout",
     "output_type": "stream",
     "text": [
      "['bacon', 'egg', 'beans']\n"
     ]
    }
   ],
   "source": [
    "# Add a new key:value pair to your dictionary\n",
    "restaurants = {'Fiveways':['burgers','chicken','kebabs'],\n",
    "            'Seaside':['fish','chips'],\n",
    "            'Luigi':['pizza','pasta'],\n",
    "            'Tariq':['curry','samosa','papads']}\n",
    "restaurants['Terry'] = ['bacon','egg','beans']\n",
    "# Using the key, print the values of one of the restaurants in your dictionary.\n",
    "Terry_food = restaurants['Terry']\n",
    "print(Terry_food)"
   ]
  },
  {
   "cell_type": "code",
   "execution_count": null,
   "metadata": {},
   "outputs": [
    {
     "name": "stdout",
     "output_type": "stream",
     "text": [
      "True\n",
      "False\n",
      "False\n"
     ]
    }
   ],
   "source": [
    "# true and false conditions\n",
    "restaurants = {'Fiveways':['burgers','chicken','kebabs'],\n",
    "            'Seaside':['fish','chips'],\n",
    "            'Luigi':['pizza','pasta'],\n",
    "            'Tariq':['curry','samosa','papads']}\n",
    "print('Luigi' in restaurants)\n",
    "print('luigi' in restaurants)\n",
    "print('McDonalds' in restaurants)"
   ]
  },
  {
   "cell_type": "code",
   "execution_count": null,
   "metadata": {},
   "outputs": [
    {
     "name": "stdout",
     "output_type": "stream",
     "text": [
      "{'Bob': 'pilot', 'Niles': 'driver', 'Frida': 'doctor', 'Will': 'cook', 'Jeremy': 'artist'}\n",
      "dict_items([('Bob', 'pilot'), ('Niles', 'driver'), ('Frida', 'doctor'), ('Will', 'cook'), ('Jeremy', 'artist')])\n",
      "dict_keys(['Bob', 'Niles', 'Frida', 'Will', 'Jeremy'])\n",
      "dict_values(['pilot', 'driver', 'doctor', 'cook', 'artist'])\n"
     ]
    }
   ],
   "source": [
    "# Session 1 Group Work - Dictionaries\n",
    "# Make a dictionary which has the names of everyone in the group as keys, and job titles as the values, print it.\n",
    "# Work out how to get all of the values from the dictionary as a single list, and sort the new list alphabetically,\n",
    "# assigned to a suitably named variable.\n",
    "\n",
    "# Loops is a topic for a later session. Here I would like you to use google as your main resource to work out how to\n",
    "# use a 'for' loop to print each set of keys/values from your dictionary on new lines, one line per loop,\n",
    "# with the resulting form 'My name is and my job is '.\n",
    "students = {'Bob':'pilot',\n",
    "            'Niles':'driver',\n",
    "            'Frida':'doctor',\n",
    "            'Will':'cook',\n",
    "            'Jeremy':'artist'}\n",
    "print(students)\n",
    "print(students.items())\n",
    "print(students.keys())\n",
    "print(students.values())"
   ]
  },
  {
   "cell_type": "code",
   "execution_count": null,
   "metadata": {},
   "outputs": [
    {
     "name": "stdout",
     "output_type": "stream",
     "text": [
      "['artist', 'cook', 'doctor', 'driver', 'pilot']\n",
      "['pilot', 'driver', 'doctor', 'cook', 'artist']\n"
     ]
    }
   ],
   "source": [
    "value_list = list(students.values())\n",
    "sorted_value_list1 = sorted(list(students.values()))\n",
    "sorted_value_list2 = sorted(list(students.values()),reverse=True)\n",
    "print(sorted_value_list1)\n",
    "print(sorted_value_list2)"
   ]
  },
  {
   "cell_type": "code",
   "execution_count": null,
   "metadata": {},
   "outputs": [
    {
     "name": "stdout",
     "output_type": "stream",
     "text": [
      "artist\n",
      "cook\n",
      "doctor\n",
      "driver\n",
      "pilot\n"
     ]
    }
   ],
   "source": [
    "# using a simple Python 'for' loop with a list\n",
    "for x in sorted_value_list1:\n",
    "    print(x)"
   ]
  },
  {
   "cell_type": "code",
   "execution_count": null,
   "metadata": {},
   "outputs": [
    {
     "name": "stdout",
     "output_type": "stream",
     "text": [
      "My name is Zod and I am the artist.\n",
      "My name is Zod and I am the cook.\n",
      "My name is Zod and I am the doctor.\n",
      "My name is Zod and I am the driver.\n",
      "My name is Zod and I am the pilot.\n"
     ]
    }
   ],
   "source": [
    "# using a simple Python 'for' loop with a list, used with an f string\n",
    "for x in sorted_value_list1:\n",
    "    print(f\"My name is Zod and I am the {x}.\")"
   ]
  },
  {
   "cell_type": "code",
   "execution_count": null,
   "metadata": {},
   "outputs": [
    {
     "name": "stdout",
     "output_type": "stream",
     "text": [
      "My name is Bob and I am the pilot.\n",
      "My name is Niles and I am the driver.\n",
      "My name is Frida and I am the doctor.\n",
      "My name is Will and I am the cook.\n",
      "My name is Jeremy and I am the artist.\n"
     ]
    }
   ],
   "source": [
    "# using a simple Python 'for' loop with a dictionary\n",
    "for x, y in students.items():\n",
    "    print(f\"My name is {x} and I am the {y}.\")"
   ]
  },
  {
   "cell_type": "code",
   "execution_count": null,
   "metadata": {},
   "outputs": [
    {
     "name": "stdout",
     "output_type": "stream",
     "text": [
      "My name is Bob and I am the pilot.\n",
      "My name is Frida and I am the doctor.\n",
      "My name is Jeremy and I am the artist.\n",
      "My name is Niles and I am the driver.\n",
      "My name is Will and I am the cook.\n"
     ]
    }
   ],
   "source": [
    "# using 'for' loop with a dictionary sorted by key (Method 1 - it is automatically sorted by key)\n",
    "# there are various methods to sort a dictionary\n",
    "sort_dict = dict(sorted(students.items()))\n",
    "for x, y in sort_dict.items():\n",
    "    print(f\"My name is {x} and I am the {y}.\")"
   ]
  },
  {
   "cell_type": "code",
   "execution_count": null,
   "metadata": {},
   "outputs": [
    {
     "name": "stdout",
     "output_type": "stream",
     "text": [
      "My name is Bob and I am the pilot.\n",
      "My name is Frida and I am the doctor.\n",
      "My name is Jeremy and I am the artist.\n",
      "My name is Niles and I am the driver.\n",
      "My name is Will and I am the cook.\n"
     ]
    }
   ],
   "source": [
    "# using 'for' loop with a dictionary sorted by key (Method 2 - defining that we are sorting by key)\n",
    "sort_dict = dict(sorted(students.items(), key=lambda item: item[0]))\n",
    "for x, y in sort_dict.items():\n",
    "    print(f\"My name is {x} and I am the {y}.\")"
   ]
  },
  {
   "cell_type": "code",
   "execution_count": null,
   "metadata": {},
   "outputs": [
    {
     "name": "stdout",
     "output_type": "stream",
     "text": [
      "My name is Jeremy and I am the artist.\n",
      "My name is Will and I am the cook.\n",
      "My name is Frida and I am the doctor.\n",
      "My name is Niles and I am the driver.\n",
      "My name is Bob and I am the pilot.\n"
     ]
    }
   ],
   "source": [
    "# using a 'for' loop with a dictionary sorted by value\n",
    "sort_dict = dict(sorted(students.items(), key=lambda item: item[1]))\n",
    "for x, y in sort_dict.items():\n",
    "    print(f\"My name is {x} and I am the {y}.\")"
   ]
  },
  {
   "cell_type": "code",
   "execution_count": null,
   "metadata": {},
   "outputs": [
    {
     "name": "stdout",
     "output_type": "stream",
     "text": [
      "Key: Bob hello\n",
      "Key: Frida hello\n",
      "Key: Jeremy hello\n",
      "Key: Niles hello\n",
      "Key: Will hello\n"
     ]
    }
   ],
   "source": [
    "# using a 'for' loop with a dictionary sorted by the 1st of it's 2 values\n",
    "# I tried nested loops, it works & will be useful in other contexts, but it doesn't work as intended in this situation.\n",
    "students2 = {'Bob':['pilot', 5],\n",
    "            'Niles':['driver', 7],\n",
    "            'Frida':['doctor', 12],\n",
    "            'Will':['cook', 4],\n",
    "            'Jeremy':['artist', 8]}\n",
    "sort_dict2 = dict(sorted(students2.items()))\n",
    "#for z in sort_dict2.keys():\n",
    "#    for x, y in sort_dict2.values():\n",
    "#        print(f\"My name is {z} and I have been a {x} for {y} years.\")\n",
    "for key in sort_dict2.keys():\n",
    "    print(('Key: %s' % key),'hello')\n",
    "# need to have value1 and value2 instead of hello\n",
    "# source:  http://introtopython.org/dictionaries.html"
   ]
  }
 ],
 "metadata": {
  "kernelspec": {
   "display_name": "Python 3",
   "language": "python",
   "name": "python3"
  },
  "language_info": {
   "codemirror_mode": {
    "name": "ipython",
    "version": 3
   },
   "file_extension": ".py",
   "mimetype": "text/x-python",
   "name": "python",
   "nbconvert_exporter": "python",
   "pygments_lexer": "ipython3",
   "version": "3.10.13"
  }
 },
 "nbformat": 4,
 "nbformat_minor": 2
}
