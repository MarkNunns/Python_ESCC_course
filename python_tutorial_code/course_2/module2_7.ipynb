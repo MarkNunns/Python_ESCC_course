{
 "cells": [
  {
   "cell_type": "code",
   "execution_count": null,
   "metadata": {},
   "outputs": [],
   "source": [
    "import pandas as pdfrom sqlalchemy import\n",
    "(create_engine,inspect,text,select,MetaData,Table,and_,or_,desc,asc,func,case,cast,Float,)"
   ]
  },
  {
   "cell_type": "code",
   "execution_count": null,
   "metadata": {},
   "outputs": [],
   "source": [
    "# dialtect+driver:///username:password@host:port/database.db - connecting to an outside db\n",
    " \n",
    "# dialect+driver:////filepath.db\n",
    " \n",
    "chinook_engine = create_engine(\"sqlite+pysqlite://///workspaces/ERN-sessions/SQL Learning/chinook.db\")\n",
    " \n",
    "inspect(chinook_engine).get_table_names()"
   ]
  },
  {
   "cell_type": "code",
   "execution_count": null,
   "metadata": {},
   "outputs": [],
   "source": [
    "# gravity_engine\n",
    "gravity_engine = create_engine(\"sqlite+pysqlite:////workspaces/ERN-sessions/SQL Learning/gravity.db\")\n",
    "inspect(gravity_engine).get_table_names()"
   ]
  },
  {
   "cell_type": "code",
   "execution_count": null,
   "metadata": {},
   "outputs": [],
   "source": [
    "chinook_metadata = MetaData()\n",
    " \n",
    "tracks = Table('tracks', chinook_metadata, autoload_with=chinook_engine)\n",
    "albums = Table('albums', chinook_metadata, autoload_with=chinook_engine)\n",
    "artists = Table('artists', chinook_metadata, autoload_with=chinook_engine)"
   ]
  },
  {
   "cell_type": "code",
   "execution_count": null,
   "metadata": {},
   "outputs": [],
   "source": [
    "chinook_metadata = MetaData()\n",
    " \n",
    "tracks = Table('tracks', chinook_metadata, autoload_with=chinook_engine)\n",
    "albums = Table('albums', chinook_metadata, autoload_with=chinook_engine)\n",
    "artists = Table('artists', chinook_metadata, autoload_with=chinook_engine)\n",
    " \n",
    "# do this for the gravity.db we want: book, author, book_author\n",
    "# make a metadata obj. for gravity, make the three tables"
   ]
  },
  {
   "cell_type": "code",
   "execution_count": null,
   "metadata": {},
   "outputs": [],
   "source": [
    "# Question: if the table is within a database in an sql server, can one use sqllite?\n",
    " \n",
    "# Answer (Will): I think you could, but I've only used postgresql, you'd have to have a tinker I think.\n",
    "# sqlite is really for spinning up a db in local memory rather than making actual server connections"
   ]
  },
  {
   "cell_type": "code",
   "execution_count": null,
   "metadata": {},
   "outputs": [],
   "source": [
    "gravity_metadata = MetaData()\n",
    " \n",
    "books = Table('book', gravity_metadata, autoload_with=gravity_engine)\n",
    "authors = Table('author', gravity_metadata, autoload_with=gravity_engine)\n",
    "book_authors = Table('book_author', gravity_metadata, autoload_with=gravity_engine)"
   ]
  },
  {
   "cell_type": "code",
   "execution_count": null,
   "metadata": {},
   "outputs": [],
   "source": [
    "with chinook_engine.connect() as con:\n",
    "    stmt = select(tracks.c.Name, (tracks.c.Bytes / tracks.c.Milliseconds).label('Bytes per Millisecond'))\n",
    "    result_proxy = con.execute(stmt)\n",
    "    result = result_proxy.fetchmany(size=10)\n",
    " \n",
    "result_df = pd.DataFrame(result)\n",
    "result_df"
   ]
  },
  {
   "cell_type": "code",
   "execution_count": null,
   "metadata": {},
   "outputs": [],
   "source": [
    "# case(when this is true, do this)\n",
    "# if we wrap case in function, we can do the function only when the case is true\n",
    " \n",
    "with chinook_engine.connect() as con:\n",
    "    album_1_length = func.sum(case((tracks.c.AlbumId == 1, tracks.c.Milliseconds), else_=0))\n",
    "    stmt = select(album_1_length / ( 1000 * 60 ) )\n",
    "    result_proxy = con.execute(stmt)\n",
    "    result = result_proxy.scalar()\n",
    " \n",
    "print(result)\n",
    " \n",
    " \n",
    "# work out length of album 1 as a percentage of entire library\n",
    "# clause to get length of album 1\n",
    "# clause to get length of entire library\n",
    "# stmt to select the calcualtion to get length of album 1 over entire libraryr ad pct"
   ]
  },
  {
   "cell_type": "code",
   "execution_count": null,
   "metadata": {},
   "outputs": [],
   "source": [
    "# work out length of album 1 as a percentage of entire library\n",
    "# clause to get length of album 1\n",
    "# clause to get length of entire library\n",
    "# stmt to select the calcualtion to get length of album 1 over entire libraryr ad pct\n",
    " \n",
    "with chinook_engine.connect() as con:\n",
    "    album_1 = func.sum(case((tracks.c.AlbumId == 1, tracks.c.Milliseconds), else_=0))\n",
    "    entire_lib = func.sum(tracks.c.Milliseconds)\n",
    "    stmt = select((album_1 / entire_lib) * 100)\n",
    "    result_proxy = con.execute(stmt)\n",
    "    result = result_proxy.scalar()\n",
    " \n",
    "print(result)"
   ]
  },
  {
   "cell_type": "code",
   "execution_count": null,
   "metadata": {},
   "outputs": [],
   "source": [
    "# if there's a pre-determined relationship\n",
    "with chinook_engine.connect() as con:\n",
    "    stmt = select(artists.c.Name, tracks)\n",
    "    result_proxy = con.execute(stmt)\n",
    "    result = result_proxy.fetchmany(size=10)\n",
    " \n",
    "# result_df = pd.DataFrame(result)\n",
    "# result_df\n",
    " \n",
    "# no pre-determined\n",
    "with chinook_engine.connect() as con:\n",
    "    stmt = select(tracks.join(albums, tracks.c.AlbumId == albums.c.AlbumId))\n",
    "    result_proxy = con.execute(stmt)\n",
    "    result = result_proxy.fetchmany(size=20)\n",
    " \n",
    "result_df = pd.DataFrame(result)\n",
    "result_df"
   ]
  },
  {
   "cell_type": "code",
   "execution_count": null,
   "metadata": {},
   "outputs": [],
   "source": [
    "# 1. select a new table of book title with author name - using pre-detemrined\n",
    "# 2. make a big table joining books to book_authors to authors - determine yourself"
   ]
  },
  {
   "cell_type": "code",
   "execution_count": null,
   "metadata": {},
   "outputs": [],
   "source": [
    "with gravity_engine.connect() as con:\n",
    "    stmt = select(books.join(book_authors, books.c.book_id == book_authors.c.book_id).join(authors))\n",
    "    result_proxy = con.execute(stmt)\n",
    "    result = result_proxy.fetchmany(size=10)\n",
    " \n",
    "result_df = pd.DataFrame(result)\n",
    "result_df"
   ]
  },
  {
   "cell_type": "code",
   "execution_count": null,
   "metadata": {},
   "outputs": [],
   "source": [
    "# The task is to use SQLAlchemy and pandas and, any way you want,\n",
    "# find out: The name of the author who has the most books in the database, and\n",
    "# what those books are\n",
    "# # A stretch task for homework is to find out how many orders have been\n",
    "# placed which contain books by that author\n",
    "# for the stretch task, email me your answers."
   ]
  }
 ],
 "metadata": {
  "kernelspec": {
   "display_name": "Python 3",
   "language": "python",
   "name": "python3"
  },
  "language_info": {
   "name": "python",
   "version": "3.12.1"
  }
 },
 "nbformat": 4,
 "nbformat_minor": 2
}
