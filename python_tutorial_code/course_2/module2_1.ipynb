{
 "cells": [
  {
   "cell_type": "code",
   "execution_count": 1,
   "metadata": {},
   "outputs": [],
   "source": [
    "# For most of the module2 sessions, Python 3.12.1 kernel works well.\n",
    "# but not for module2_2\n",
    "\n",
    "# If pandas etc. are not recognised, you may need to do the installs in the Terminal, e.g. \n",
    "# pip install pandas\n",
    "# pip install scikit-learn\n",
    "\n",
    "import pandas as pd\n",
    "import numpy as np\n",
    "from sklearn import linear_model\n",
    "from sklearn.model_selection import train_test_split\n",
    "from sklearn.metrics import mean_squared_error, r2_score\n",
    "import matplotlib.pyplot as plt"
   ]
  },
  {
   "cell_type": "code",
   "execution_count": null,
   "metadata": {},
   "outputs": [],
   "source": [
    "data_url = 'https://raw.githubusercontent.com/data-to-insight/ERN-sessions/main/data/diabetes_data.csv'\n",
    "df = pd.read_csv(data_url)\n",
    "df = df[(df['BMI'].astype('int') != 0)  & (df['Glucose'].astype('int') != 0)]\n",
    "df"
   ]
  },
  {
   "cell_type": "code",
   "execution_count": 3,
   "metadata": {},
   "outputs": [],
   "source": [
    "# Independant \n",
    "X = df['BMI'].to_numpy().reshape(-1,1)\n",
    "                                 \n",
    "# Dependant\n",
    "y = df['Glucose'].to_numpy().reshape(-1,1)\n",
    "X_train, X_test, y_train, y_test = train_test_split(X, y, test_size=0.3, random_state=1)"
   ]
  },
  {
   "cell_type": "code",
   "execution_count": 4,
   "metadata": {},
   "outputs": [],
   "source": [
    "regr = linear_model.LinearRegression()\n",
    "regr.fit(X_train, y_train)\n",
    "# internal vs external vaiidity \n",
    "\n",
    "y_pred = regr.predict(X_test)"
   ]
  },
  {
   "cell_type": "code",
   "execution_count": null,
   "metadata": {},
   "outputs": [],
   "source": [
    "print(f'Coef of det: {regr.coef_}')\n",
    "print(f'Mean squared error: {mean_squared_error(y_test, y_pred)}')\n",
    "print(f'r squared: {r2_score(y_test, y_pred)}')"
   ]
  },
  {
   "cell_type": "code",
   "execution_count": null,
   "metadata": {},
   "outputs": [],
   "source": [
    "\n",
    "plt.scatter(X_test, y_test, color=\"black\", label='Actual values')\n",
    "plt.plot(X_test, y_pred, label= 'Predicted values')\n",
    "plt.xlabel('BMI')\n",
    "plt.ylabel('Blood Glucose')\n",
    "plt.title('BMI vs Blood Glucose')\n",
    "plt.legend(loc=\"lower right\")\n",
    "plt.show()"
   ]
  },
  {
   "cell_type": "code",
   "execution_count": null,
   "metadata": {},
   "outputs": [],
   "source": [
    "prediction_df = pd.DataFrame()\n",
    "prediction_df['BMI'] = np.arange(60,71)\n",
    "prediction_df['Glucose'] = regr.predict(np.arange(60,71).reshape(-1,1))\n",
    "prediction_df"
   ]
  },
  {
   "cell_type": "code",
   "execution_count": null,
   "metadata": {},
   "outputs": [],
   "source": [
    "plt.scatter(X_test, y_test, color=\"black\", label='Actual values')\n",
    "plt.plot(X_test, y_pred, label='Predicted values')\n",
    "plt.plot(prediction_df['BMI'], prediction_df['Glucose'], color='Red', label='Forecast values')\n",
    " \n",
    "plt.xlabel('BMI')\n",
    "plt.ylabel('Blood Glucose')\n",
    " \n",
    "plt.title('BMI vs Blood Glucose')\n",
    " \n",
    "plt.legend(loc=\"lower right\")\n",
    " \n",
    "plt.show()"
   ]
  },
  {
   "cell_type": "code",
   "execution_count": null,
   "metadata": {},
   "outputs": [],
   "source": [
    "# selecting data\n",
    "dfe = df[df['Insulin'].astype('int') != 0]\n",
    "X = df[['BMI', 'Insulin']]\n",
    "y = df['Glucose'].to_numpy().reshape(-1,1)\n",
    "# train test split\n",
    "X_train, X_test, y_train, y_test = train_test_split( X, y, test_size=0.3, random_state=1)\n",
    "# fitting and predicting\n",
    "mv_regr = linear_model.LinearRegression()\n",
    "mv_regr.fit(X_train, y_train)\n",
    "y_pred = mv_regr.predict(X_test)\n",
    "#look at model quality\n",
    "print(f'Coef Det: {mv_regr.coef_}')\n",
    "print(f'MSE: {mean_squared_error(y_test, y_pred)}')\n",
    "print(f'R squared: {r2_score(y_test, y_pred)}')\n",
    "# make predictions\n",
    "mv_regr.predict(pd.DataFrame(\n",
    "    [\n",
    "        {'BMI':29,\n",
    "         'Insulin':94}\n",
    "    ]\n",
    "))"
   ]
  },
  {
   "cell_type": "code",
   "execution_count": null,
   "metadata": {},
   "outputs": [],
   "source": [
    "# selecting data\n",
    "df = df[df['Insulin'].astype('int') != 0]\n",
    " \n",
    "X = df[['BMI', 'Insulin']]\n",
    "y = df['Glucose'].to_numpy().reshape(-1,1)\n",
    " \n",
    "# train test split\n",
    "X_train, X_test, y_train, y_test = train_test_split(X, y, test_size=0.3, random_state=1)\n",
    " \n",
    "# fitting and predicting\n",
    "mv_regr = linear_model.LinearRegression()\n",
    " \n",
    "mv_regr.fit(X_train, y_train)\n",
    "y_pred = mv_regr.predict(X_test)\n",
    " \n",
    "# selecting data\n",
    "df = df[df['Insulin'].astype('int') != 0]\n",
    " \n",
    "X = df[['BMI', 'Insulin']]\n",
    "y = df['Glucose'].to_numpy().reshape(-1,1)\n",
    " \n",
    "# train test split\n",
    "X_train, X_test, y_train, y_test = train_test_split(X, y, test_size=0.3, random_state=1)\n",
    " \n",
    "# fitting and predicting\n",
    "mv_regr = linear_model.LinearRegression()\n",
    " \n",
    "mv_regr.fit(X_train, y_train)\n",
    "y_pred = mv_regr.predict(X_test)\n",
    " \n",
    "# look at model quality\n",
    "print(f'Coef Det: {mv_regr.coef_}')\n",
    "print(f'MSE: {mean_squared_error(y_test, y_pred)}')\n",
    "print(f'R squared: {r2_score(y_test, y_pred)}')\n",
    " \n",
    "# make predicitons\n",
    "mv_regr.predict(pd.DataFrame(\n",
    "    [\n",
    "        {'BMI':29,\n",
    "        'Insulin':94}\n",
    "    ]\n",
    "))"
   ]
  }
 ],
 "metadata": {
  "kernelspec": {
   "display_name": "Python 3",
   "language": "python",
   "name": "python3"
  },
  "language_info": {
   "codemirror_mode": {
    "name": "ipython",
    "version": 3
   },
   "file_extension": ".py",
   "mimetype": "text/x-python",
   "name": "python",
   "nbconvert_exporter": "python",
   "pygments_lexer": "ipython3",
   "version": "3.12.1"
  }
 },
 "nbformat": 4,
 "nbformat_minor": 2
}
