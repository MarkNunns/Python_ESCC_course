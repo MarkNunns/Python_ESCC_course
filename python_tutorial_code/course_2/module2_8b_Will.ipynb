{
 "cells": [
  {
   "cell_type": "code",
   "execution_count": 1,
   "metadata": {},
   "outputs": [
    {
     "ename": "ModuleNotFoundError",
     "evalue": "No module named 'streamlit'",
     "output_type": "error",
     "traceback": [
      "\u001b[0;31m---------------------------------------------------------------------------\u001b[0m",
      "\u001b[0;31mModuleNotFoundError\u001b[0m                       Traceback (most recent call last)",
      "Cell \u001b[0;32mIn[1], line 5\u001b[0m\n\u001b[1;32m      1\u001b[0m \u001b[38;5;66;03m# For session 8, Will's published code on Github came in 2 files, I am calling this second file '8b'\u001b[39;00m\n\u001b[1;32m      2\u001b[0m \u001b[38;5;66;03m# Will had called his 2nd file:    \"session_1_making_it_an_app.py\"\u001b[39;00m\n\u001b[1;32m      3\u001b[0m \u001b[38;5;66;03m# Keep this code as published by Will, do not change it. There is a course2_session8_MN file where we make changes & notes.\u001b[39;00m\n\u001b[0;32m----> 5\u001b[0m \u001b[38;5;28;01mimport\u001b[39;00m \u001b[38;5;21;01mstreamlit\u001b[39;00m \u001b[38;5;28;01mas\u001b[39;00m \u001b[38;5;21;01mst\u001b[39;00m\n\u001b[1;32m      7\u001b[0m \u001b[38;5;28;01mimport\u001b[39;00m \u001b[38;5;21;01mpandas\u001b[39;00m \u001b[38;5;28;01mas\u001b[39;00m \u001b[38;5;21;01mpd\u001b[39;00m\n\u001b[1;32m      9\u001b[0m st\u001b[38;5;241m.\u001b[39mtitle(\u001b[38;5;124m'\u001b[39m\u001b[38;5;124mBenchmarking data pipeline\u001b[39m\u001b[38;5;124m'\u001b[39m)\n",
      "\u001b[0;31mModuleNotFoundError\u001b[0m: No module named 'streamlit'"
     ]
    }
   ],
   "source": [
    "# For session 8, Will's published code on Github came in 2 files, I am calling this second file '8b'\n",
    "# Will had called his 2nd file:    \"session_1_making_it_an_app.py\"\n",
    "# Keep this code as published by Will, do not change it. There is a course2_session8_MN file where we make changes & notes.\n",
    "\n",
    "import streamlit as st\n",
    "\n",
    "import pandas as pd\n",
    "\n",
    "st.title('Benchmarking data pipeline')\n",
    "\n",
    "# We can use\n",
    "files = st.file_uploader('Please upload benchmarking data', \n",
    "                         accept_multiple_files=True)\n",
    "\n",
    "# Set up an empty dictionary to store our dataframes in\n",
    "\n",
    "if files:\n",
    "    dfs = {}\n",
    "\n",
    "    for f in files:\n",
    "\n",
    "        df = pd.read_csv(f)\n",
    "\n",
    "        # When files are uploaded in streamlit, they have a .name \n",
    "        # property, which can be used like the filepath one from glob\n",
    "        list_name = f.name.split(\"/\")[-1][:-17]#.split(\"_\")[0]\n",
    "\n",
    "        dfs[list_name] = df\n",
    "\n",
    "\n",
    "    dfs = {key:dfs[key] for key in sorted(dfs.keys())}\n",
    "\n",
    "    left_df = dfs['b1_children_in_need']\n",
    "\n",
    "    permenant_columns = list(left_df.columns[:10])\n",
    "\n",
    "\n",
    "    left_df = left_df.set_axis([f'b1_children_in_need_{column}' if (not column in permenant_columns) else column for column in left_df.columns], axis=1)\n",
    "\n",
    "\n",
    "    for key, df in dfs.items():\n",
    "        if ('headline_figures' not in key) & (key[:1] != 'b1') & ('mid-year' not in key) & (key[0] != 'a'):\n",
    "\n",
    "            df = df.set_axis([f'{key}_{column}' if (not column in permenant_columns) else column for column in df.columns], axis=1)\n",
    "\n",
    "            left_df = left_df.merge(df, how='left', on=permenant_columns)\n",
    "\n",
    "\n",
    "    # st.write(left_df.columns)\n",
    "    # st.dataframe(left_df)\n",
    "\n",
    "    def convert_df(df):\n",
    "        # IMPORTANT: Cache the conversion to prevent computation on every rerun\n",
    "        return df.to_csv().encode(\"utf-8\")\n",
    "\n",
    "    csv = convert_df(left_df)\n",
    "\n",
    "    st.download_button('Click to download wrangled data', csv, file_name='benchmarking.csv', mime=\"text/csv\")"
   ]
  }
 ],
 "metadata": {
  "kernelspec": {
   "display_name": "Python 3",
   "language": "python",
   "name": "python3"
  },
  "language_info": {
   "codemirror_mode": {
    "name": "ipython",
    "version": 3
   },
   "file_extension": ".py",
   "mimetype": "text/x-python",
   "name": "python",
   "nbconvert_exporter": "python",
   "pygments_lexer": "ipython3",
   "version": "3.12.1"
  }
 },
 "nbformat": 4,
 "nbformat_minor": 2
}
