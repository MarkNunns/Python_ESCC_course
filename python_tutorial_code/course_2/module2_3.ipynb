{
 "cells": [
  {
   "cell_type": "code",
   "execution_count": 1,
   "metadata": {},
   "outputs": [],
   "source": [
    "import pandas as pd\n",
    "import numpy as np\n",
    " \n",
    "from sklearn.model_selection import train_test_split\n",
    "from sklearn.linear_model import LogisticRegression\n",
    "from sklearn import metrics"
   ]
  },
  {
   "cell_type": "code",
   "execution_count": null,
   "metadata": {},
   "outputs": [],
   "source": [
    "df = pd.read_csv('https://raw.githubusercontent.com/data-to-insight/ERN-sessions/main/data/diabetes_data.csv')\n",
    " \n",
    "features = list(df.columns)\n",
    "features = features[0:8]\n",
    " \n",
    "features"
   ]
  },
  {
   "cell_type": "code",
   "execution_count": 3,
   "metadata": {},
   "outputs": [],
   "source": [
    "X = df[features]\n",
    "y = df['Outcome']\n",
    "\n",
    "X_train, X_test, y_train, y_test = train_test_split(X, y, test_size=0.3, random_state=11)"
   ]
  },
  {
   "cell_type": "code",
   "execution_count": null,
   "metadata": {},
   "outputs": [],
   "source": [
    "lr = LogisticRegression(random_state=1, max_iter=400)\n",
    " \n",
    "lr.fit(X_train, y_train)\n",
    "y_pred = lr.predict(X_test)\n",
    " \n",
    "cnf_matrix = metrics.confusion_matrix(y_test, y_pred)\n",
    " \n",
    "cnf_matrix"
   ]
  },
  {
   "cell_type": "code",
   "execution_count": null,
   "metadata": {},
   "outputs": [],
   "source": [
    "import matplotlib.pyplot as plt\n",
    "import seaborn as sns\n",
    " \n",
    "class_names = [0, 1]\n",
    " \n",
    "fig, ax = plt.subplots()\n",
    "tick_marks = np.arange(len(class_names))\n",
    " \n",
    "plt.xticks(tick_marks, class_names)\n",
    "plt.yticks(tick_marks, class_names)\n",
    " \n",
    "sns.heatmap(pd.DataFrame(cnf_matrix),\n",
    "            annot=True,\n",
    "            cmap='YlGnBu',\n",
    "            fmt='g')\n",
    " \n",
    "plt.ylabel('Actual label')\n",
    "plt.xlabel('Predicted label')\n",
    " \n",
    "plt.title('Confusion Matrix')"
   ]
  },
  {
   "cell_type": "code",
   "execution_count": null,
   "metadata": {},
   "outputs": [],
   "source": [
    "from sklearn.metrics import classification_report\n",
    " \n",
    "target_names = ['without diabetes', 'with diabetes']\n",
    " \n",
    "output_report = classification_report(y_test, y_pred, target_names=target_names, output_dict=True)\n",
    " \n",
    "output_report"
   ]
  },
  {
   "cell_type": "code",
   "execution_count": 7,
   "metadata": {},
   "outputs": [],
   "source": [
    "# Precision: Percentage of correct positive predictions relative to total positive predictions.\n",
    "# Recall: Percentage of correct positive predictions relative to total actual positives.\n",
    "# F1 Score: A weighted harmonic mean of precision and recall. The closer to 1, the better the model\n",
    "\n",
    "# https://developers.google.com/machine-learning/crash-course/classification/roc-and-auc#:~:text=The%20area%20under%20the%20ROC,curve%20(AUC)%20of%201.0"
   ]
  },
  {
   "cell_type": "code",
   "execution_count": null,
   "metadata": {},
   "outputs": [],
   "source": [
    "y_pred_proba = lr.predict_proba(X_test)[::,1]\n",
    " \n",
    "fpr, tpr, _ = metrics.roc_curve(y_test, y_pred_proba)\n",
    " \n",
    "auc = metrics.roc_auc_score(y_test, y_pred_proba)\n",
    " \n",
    "plt.plot(fpr, tpr, label=f'auc {auc}')\n",
    " \n",
    "plt.show()"
   ]
  },
  {
   "cell_type": "code",
   "execution_count": null,
   "metadata": {},
   "outputs": [],
   "source": [
    "# test size was 0.25, suggested change to 0.7922077922077922\n",
    "# this seems to help this section of code to run OK\n",
    "\n",
    "import itertools\n",
    " \n",
    "combinations = []\n",
    " \n",
    "for i in range(1, 9):\n",
    "    combs = itertools.combinations(features, i)\n",
    "    combinations.extend(combs)\n",
    " \n",
    "accuracy = 0\n",
    "best_X = 0\n",
    "\n",
    "y = df['Outcome']\n",
    " \n",
    "for features in combinations:\n",
    "    X = df[list(features)]\n",
    "    X_train, X_test, y_train, y_test = train_test_split(X, y, test_size=0.7922077922077922, random_state=1)\n",
    " \n",
    "    lr_iter = LogisticRegression(random_state=1, max_iter=400)\n",
    " \n",
    "    lr_iter.fit(X_train, y_train)\n",
    "    y_pred = lr_iter.predict(X_test)\n",
    " \n",
    "    output_report = classification_report(y_test, y_pred, target_names=target_names, output_dict=True)\n",
    " \n",
    "    acc = output_report['accuracy']\n",
    " \n",
    "    if acc > accuracy:\n",
    "        accuracy = acc\n",
    "        best_X = list(features)\n",
    " \n",
    "print(best_X)\n",
    "print(accuracy)"
   ]
  }
 ],
 "metadata": {
  "kernelspec": {
   "display_name": "Python 3",
   "language": "python",
   "name": "python3"
  },
  "language_info": {
   "codemirror_mode": {
    "name": "ipython",
    "version": 3
   },
   "file_extension": ".py",
   "mimetype": "text/x-python",
   "name": "python",
   "nbconvert_exporter": "python",
   "pygments_lexer": "ipython3",
   "version": "3.12.1"
  }
 },
 "nbformat": 4,
 "nbformat_minor": 2
}
