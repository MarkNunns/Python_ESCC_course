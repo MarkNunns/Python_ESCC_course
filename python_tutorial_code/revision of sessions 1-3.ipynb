{
 "cells": [
  {
   "cell_type": "code",
   "execution_count": 385,
   "metadata": {},
   "outputs": [
    {
     "name": "stdout",
     "output_type": "stream",
     "text": [
      "<class 'dict'>\n",
      "20.0\n"
     ]
    }
   ],
   "source": [
    "# 01/03/2024 Python session\n",
    "# revision of course to date\n",
    "# revision of session 1\n",
    "x = 10\n",
    "y = 10.0\n",
    "name = \"Will\"\n",
    "list_1 = [1,2,3,4,5,6]\n",
    "dict_1 = {'key 1':2,\n",
    "          'key 2':3}\n",
    "print(type(dict_1))\n",
    "\n",
    "z = x + y\n",
    "print(z)"
   ]
  },
  {
   "cell_type": "code",
   "execution_count": 386,
   "metadata": {},
   "outputs": [
    {
     "name": "stdout",
     "output_type": "stream",
     "text": [
      "My \n",
      "Mnesi\n",
      "lliW si eman yM\n"
     ]
    }
   ],
   "source": [
    "# revision of session 2\n",
    "phrase = 'My name is Will'\n",
    "sub_string1 = phrase[0:3]\n",
    "sub_string2 = phrase[::3]\n",
    "sub_string3 = phrase[-1::-1]\n",
    "print(sub_string1)\n",
    "print(sub_string2)\n",
    "print(sub_string3)"
   ]
  },
  {
   "cell_type": "code",
   "execution_count": 387,
   "metadata": {},
   "outputs": [
    {
     "name": "stdout",
     "output_type": "stream",
     "text": [
      "[7, 8, 9, 6, 5]\n"
     ]
    }
   ],
   "source": [
    "list_2 = [1,2,3,4,5,6,9,8,7]\n",
    "sub_list = list_2[-1:3:-1]\n",
    "print(sub_list)"
   ]
  },
  {
   "cell_type": "code",
   "execution_count": 388,
   "metadata": {},
   "outputs": [
    {
     "name": "stdout",
     "output_type": "stream",
     "text": [
      "[1, 2, 3, 4, 5, 6, 9, 8, 7, [10, 11]]\n"
     ]
    }
   ],
   "source": [
    "list_2 = [1,2,3,4,5,6,9,8,7]\n",
    "list_2.append([10,11])\n",
    "print(list_2)"
   ]
  },
  {
   "cell_type": "code",
   "execution_count": 389,
   "metadata": {},
   "outputs": [
    {
     "name": "stdout",
     "output_type": "stream",
     "text": [
      "[1, 2, 3, 4, 5, 6, 9, 8, 7, 12, 13, 14]\n"
     ]
    }
   ],
   "source": [
    "list_2 = [1,2,3,4,5,6,9,8,7]\n",
    "list_2.extend([12,13,14])\n",
    "print(list_2)"
   ]
  },
  {
   "cell_type": "code",
   "execution_count": 390,
   "metadata": {},
   "outputs": [
    {
     "name": "stdout",
     "output_type": "stream",
     "text": [
      "[7, 8, 9, 6, 5, 4, 3, 2, 1]\n"
     ]
    }
   ],
   "source": [
    "list_2 = [1,2,3,4,5,6,9,8,7]\n",
    "list_2.reverse()\n",
    "print(list_2)"
   ]
  },
  {
   "cell_type": "code",
   "execution_count": 391,
   "metadata": {},
   "outputs": [
    {
     "name": "stdout",
     "output_type": "stream",
     "text": [
      "[1, 2, 3, 4, 5, 6, 7, 8, 9]\n",
      "9\n"
     ]
    }
   ],
   "source": [
    "list_2 = [1,2,3,4,5,6,9,8,7]\n",
    "list_2.sort()\n",
    "print(list_2)\n",
    "len_list2 = len(list_2)\n",
    "print(len_list2)\n",
    "# note that the sort function comes after a variable and a dot.\n",
    "# the len function is used in a different way."
   ]
  },
  {
   "cell_type": "code",
   "execution_count": 392,
   "metadata": {},
   "outputs": [
    {
     "name": "stdout",
     "output_type": "stream",
     "text": [
      "{'key 1': 1, 'key 2': 2, 'key 3': 3}\n",
      "('key 1', 1)\n"
     ]
    }
   ],
   "source": [
    "# revision of session 2 (continued)\n",
    "dict_2 = {'key 1':1,\n",
    "          'key 2':2,\n",
    "          'key 3':3}\n",
    "print(dict_2)\n",
    "print(list(dict_2.items())[0])\n",
    "# this trick can be useful at times"
   ]
  }
 ],
 "metadata": {
  "kernelspec": {
   "display_name": "Python 3",
   "language": "python",
   "name": "python3"
  },
  "language_info": {
   "codemirror_mode": {
    "name": "ipython",
    "version": 3
   },
   "file_extension": ".py",
   "mimetype": "text/x-python",
   "name": "python",
   "nbconvert_exporter": "python",
   "pygments_lexer": "ipython3",
   "version": "3.10.13"
  }
 },
 "nbformat": 4,
 "nbformat_minor": 2
}
