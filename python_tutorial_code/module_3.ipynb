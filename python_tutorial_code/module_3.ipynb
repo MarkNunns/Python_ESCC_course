{
 "cells": [
  {
   "cell_type": "code",
   "execution_count": 1,
   "metadata": {},
   "outputs": [],
   "source": [
    "import pandas as pd\n",
    "import numpy as np"
   ]
  },
  {
   "cell_type": "code",
   "execution_count": 2,
   "metadata": {},
   "outputs": [],
   "source": [
    "# Session 3 worksheet notes\n",
    "\n",
    "# In this worksheet, we'll go through loops and conditionals. Loops allow us to go through things which are 'iterable' and\n",
    "# perform repeated actions on each element of the iterable. The definition for iterable is a bit circular because\n",
    "# an iterable is something we can loop over, but maybe an example will helps. We can iterate over elements in a list,\n",
    "# keys/values/items in a dictionary, rows/columns in a dataframe etc.\n",
    "\n",
    "# We will also be looking at conditionals. Conditionals allow us to execute something based on a set of conditions.\n",
    "# To keep things simple, we'll largely be thinking of conditionals in terms of using them to make selections from dataframes,\n",
    "# and using them to determine what actions to apply in certain instances. For instance, in a dataframe of children\n",
    "# in need, we might want to select only rows where the age is above, say 16. We can do this with a conditional.\n",
    "# We might also want to make a new column to say yes if a child is over 16, and no if they are under.\n",
    "# We can use a conditional for this too.\n",
    "\n",
    "# We'll look at loops first. We start a loop using 'for', then we give a name for the iterable, this can be anything but\n",
    "# it's good practice to use something that makes sense in context as, just like the argument of a function,\n",
    "# when it's used in the loop, it will be called by the name we give it, we then use 'in' and specify what object\n",
    "# want to iterate over, and follow this up with a colon to start the loop.\n",
    "# Everything we want inside the loop should be indented, when the indent stops, the loop stops.\n",
    "\n",
    "# Let's look at a few examples."
   ]
  },
  {
   "cell_type": "code",
   "execution_count": 22,
   "metadata": {},
   "outputs": [
    {
     "name": "stdout",
     "output_type": "stream",
     "text": [
      "1\n",
      "2\n",
      "3\n",
      "4\n",
      "5\n"
     ]
    }
   ],
   "source": [
    "# Lets make a list\n",
    "numbers = [1, 2, 3, 4, 5]\n",
    "# when we iterate over a list, for each element in the list, we run the loop once.\n",
    "# Here we are saying 'for' to tell Python we want to start a loop, we are\n",
    "# saying we will call the iterables number, and we will take them from 'numbers'.\n",
    "\n",
    "# for something in thing:\n",
    "#   do process on something\n",
    "# for number in numbers:\n",
    "#   do something to number\n",
    "for number in numbers:\n",
    "    print(number)\n",
    "# the loop will go through each item in the loop and print them one by one"
   ]
  },
  {
   "cell_type": "code",
   "execution_count": 25,
   "metadata": {},
   "outputs": [
    {
     "name": "stdout",
     "output_type": "stream",
     "text": [
      "1\n",
      "2\n",
      "3\n",
      "4\n",
      "5\n",
      "6\n",
      "7\n",
      "8\n",
      "9\n",
      "10\n"
     ]
    }
   ],
   "source": [
    "import time\n",
    "# numbers = list(range(10)) gives list of 0-9, next row gives list of 1-10\n",
    "numbers = list(range(1, 11))\n",
    "for number in numbers:\n",
    "    print(number)\n",
    "    # time.sleep(1)"
   ]
  },
  {
   "cell_type": "code",
   "execution_count": 32,
   "metadata": {},
   "outputs": [
    {
     "name": "stdout",
     "output_type": "stream",
     "text": [
      "a\n",
      "b\n",
      "c\n",
      "d\n",
      "e\n"
     ]
    }
   ],
   "source": [
    "alphabet = ['a','b','c','d','e']\n",
    "for letter in alphabet:\n",
    "    print(letter)"
   ]
  },
  {
   "cell_type": "code",
   "execution_count": 30,
   "metadata": {},
   "outputs": [
    {
     "name": "stdout",
     "output_type": "stream",
     "text": [
      "a\n",
      "b\n",
      "c\n",
      "d\n",
      "e\n",
      "f\n",
      "g\n"
     ]
    }
   ],
   "source": [
    "# Character range function\n",
    "def range_char(start, stop):\n",
    "    return (chr(n) for n in range(ord(start), ord(stop) + 1))\n",
    "        \n",
    "# Example run\n",
    "for character in range_char(\"a\", \"g\"):\n",
    "    print(character)"
   ]
  },
  {
   "cell_type": "code",
   "execution_count": 43,
   "metadata": {},
   "outputs": [
    {
     "name": "stdout",
     "output_type": "stream",
     "text": [
      "a\n",
      "b\n",
      "c\n",
      "d\n",
      "e\n",
      "f\n",
      "g\n",
      "h\n",
      "i\n",
      "j\n",
      "k\n"
     ]
    }
   ],
   "source": [
    "import time\n",
    "word = 'abcdefghijk'\n",
    "for character in word:\n",
    "    print(character)\n",
    "    time.sleep(0.5)\n",
    "    # the 'time' line above slows down the iterations to 0.5 seconds per loop"
   ]
  },
  {
   "cell_type": "code",
   "execution_count": 39,
   "metadata": {},
   "outputs": [
    {
     "name": "stdout",
     "output_type": "stream",
     "text": [
      "1\n",
      "2\n",
      "2\n",
      "4\n",
      "3\n",
      "6\n",
      "4\n",
      "8\n",
      "5\n",
      "10\n",
      "6\n",
      "12\n",
      "7\n",
      "14\n",
      "8\n",
      "16\n",
      "9\n",
      "18\n",
      "10\n",
      "20\n"
     ]
    }
   ],
   "source": [
    "for number in numbers:\n",
    "    print(1*number)\n",
    "    print(2*number)"
   ]
  },
  {
   "cell_type": "code",
   "execution_count": 40,
   "metadata": {},
   "outputs": [
    {
     "name": "stdout",
     "output_type": "stream",
     "text": [
      "1 a\n",
      "1 b\n",
      "1 c\n",
      "1 d\n",
      "1 e\n",
      "2 a\n",
      "2 b\n",
      "2 c\n",
      "2 d\n",
      "2 e\n",
      "3 a\n",
      "3 b\n",
      "3 c\n",
      "3 d\n",
      "3 e\n",
      "4 a\n",
      "4 b\n",
      "4 c\n",
      "4 d\n",
      "4 e\n",
      "5 a\n",
      "5 b\n",
      "5 c\n",
      "5 d\n",
      "5 e\n",
      "6 a\n",
      "6 b\n",
      "6 c\n",
      "6 d\n",
      "6 e\n",
      "7 a\n",
      "7 b\n",
      "7 c\n",
      "7 d\n",
      "7 e\n",
      "8 a\n",
      "8 b\n",
      "8 c\n",
      "8 d\n",
      "8 e\n",
      "9 a\n",
      "9 b\n",
      "9 c\n",
      "9 d\n",
      "9 e\n",
      "10 a\n",
      "10 b\n",
      "10 c\n",
      "10 d\n",
      "10 e\n"
     ]
    }
   ],
   "source": [
    "for number in numbers:\n",
    "    for letter in alphabet:\n",
    "        print(f'{number} {letter}')"
   ]
  },
  {
   "cell_type": "code",
   "execution_count": 51,
   "metadata": {},
   "outputs": [
    {
     "name": "stdout",
     "output_type": "stream",
     "text": [
      "['1a', '1b', '1c', '2a', '2b', '2c', '3a', '3b', '3c', '4a', '4b', '4c', '5a', '5b', '5c']\n"
     ]
    }
   ],
   "source": [
    "numbers = [1, 2, 3, 4, 5]\n",
    "letters = ['a','b','c']\n",
    "letter_numbers = []\n",
    "for number in numbers:\n",
    "    for letter in letters:\n",
    "        letter_numbers.append(f'{number}{letter}')\n",
    "print(letter_numbers)\n"
   ]
  },
  {
   "cell_type": "code",
   "execution_count": 4,
   "metadata": {},
   "outputs": [
    {
     "name": "stdout",
     "output_type": "stream",
     "text": [
      "['Moloch has fallen.', 'Belial has fallen.', 'Mulciber has fallen.']\n"
     ]
    }
   ],
   "source": [
    "names = ['Moloch', 'Belial', 'Mulciber']\n",
    "# We can also use more than one iterable, for going through a list 'enumerate' makes this easy as it 'enumerates'\n",
    "# or gives a number to list values in order so we can access them by index (recall back to the worksheet on lists),\n",
    "# and also allows us to use the value inside the list.\n",
    "# Here I've used it to iterate through values in the list by index position, and use the original value to create a new value.\n",
    "for i, name in enumerate(names):\n",
    "# It is customary to use i, j, k as the names for iterables when iterating through numbers, just as we use them in Pysics for vectors.\n",
    "    names[i] = f'{name} has fallen.'\n",
    "# This says, in essence the value of the list names with index i is updated to be the original string, plus some extras.\n",
    "print(names)"
   ]
  },
  {
   "cell_type": "code",
   "execution_count": 5,
   "metadata": {},
   "outputs": [
    {
     "name": "stdout",
     "output_type": "stream",
     "text": [
      "['Beatrice is in index position 0', 'Virgil is in index position 1', 'Minos is in index position 2']\n"
     ]
    }
   ],
   "source": [
    "# In this cell, I've initialised a list.\n",
    "# Write two loops now, one that prints each element from the list, and one that uses enumerate\n",
    "# to update the string in each position to read...\n",
    "# '<original value> is in index position <n>'\n",
    "# Ensure you choose a suitable name for your iterators\n",
    "\n",
    "loop_me = ['Beatrice', 'Virgil', 'Minos']\n",
    "for i, name in enumerate(loop_me):\n",
    "    loop_me[i] = f'{name} is in index position {loop_me.index(name)}'\n",
    "print(loop_me)"
   ]
  },
  {
   "cell_type": "code",
   "execution_count": 6,
   "metadata": {},
   "outputs": [
    {
     "name": "stdout",
     "output_type": "stream",
     "text": [
      "df_1\n",
      "  col 1  col 2\n",
      "0   foo      1\n",
      "1   bar      2\n",
      "2   baz      3\n",
      "df_2\n",
      "     col 1       col 2\n",
      "0  Thing 1  Green eggs\n",
      "1  Thing 2         Ham\n",
      "2  Thing 3    Sam I am\n",
      "  \n",
      "3.5\n",
      "7.0\n",
      "10.5\n"
     ]
    }
   ],
   "source": [
    "# If we are working with a lot of data form different sources in the form of dataframes,\n",
    "# it can be really useful to to store them in dictionaries.\n",
    "# If you use the pandas read_excel method on an excel workbook with multiple sheets,\n",
    "# it'll store them in a dicitonary, for instance. This means that it can be really useful to\n",
    "# be able to iterate through dictionaries. Let's have a look:\n",
    "\n",
    "import pandas as pd\n",
    "\n",
    "df_1 = pd.DataFrame({'col 1': ['foo', 'bar', 'baz'],\n",
    "                     'col 2': [1, 2, 3]})\n",
    "\n",
    "df_2 = pd.DataFrame({'col 1': ['Thing 1', 'Thing 2', 'Thing 3'],\n",
    "                     'col 2': ['Green eggs', 'Ham', 'Sam I am']})\n",
    "\n",
    "df_dict = {'df_1' : df_1,\n",
    "           'df_2' : df_2,}\n",
    "\n",
    "# A really useful way to iterate through dictionaries is to access the items,\n",
    "# allowing us to use both the key and value in our loops.\n",
    "for key, value in df_dict.items():\n",
    "    print(key)\n",
    "    print(value)\n",
    "print(\"  \") # just putting an empty row in output for clarity\n",
    "# We can also iterate through rows in a dataframe, although this should be avoided where\n",
    "# possible as it's very inefficient and can make your code run very slowly.\n",
    "for row in df_1.index:\n",
    "    value = df_1['col 2'][row] * 3.5\n",
    "    print(value)"
   ]
  },
  {
   "cell_type": "code",
   "execution_count": 7,
   "metadata": {},
   "outputs": [
    {
     "name": "stdout",
     "output_type": "stream",
     "text": [
      "df_1\n",
      "col 1    foo\n",
      "col 2      1\n",
      "Name: 0, dtype: object\n",
      "df_2\n",
      "col 1       Thing 1\n",
      "col 2    Green eggs\n",
      "Name: 0, dtype: object\n"
     ]
    }
   ],
   "source": [
    "# Using df_dict, defined earlier, write a loop that iterates through the dictionary, printing out the first row of each dataframe.\n",
    "# NEEDS COMPLETING\n",
    "for key, value in df_dict.items():\n",
    "    print(key)\n",
    "    print(value.iloc[0])"
   ]
  },
  {
   "cell_type": "code",
   "execution_count": 8,
   "metadata": {},
   "outputs": [
    {
     "name": "stdout",
     "output_type": "stream",
     "text": [
      "0, 1\n",
      "1, 2\n",
      "2, 3\n",
      "3, 5\n",
      "4, 8\n",
      "5, 13\n",
      "6, 21\n",
      "7, 34\n",
      "8, 55\n",
      "9, 89\n",
      "   numbers\n",
      "0        1\n",
      "1        2\n",
      "2        3\n",
      "3        5\n",
      "4        8\n",
      "5       13\n",
      "6       21\n",
      "7       34\n",
      "8       55\n",
      "9       89\n"
     ]
    }
   ],
   "source": [
    "# There also might be times where it's useful to make a dataframe or a new column in a dataframe by\n",
    "# making a dictionary in a loop. The 2 examples here would not be used in the real world as there arebetter methods, but\n",
    "# they provide a useful illustration.\n",
    "\n",
    "# Example 1\n",
    "x = 1\n",
    "number_list = []\n",
    "for i in list(range(10)):\n",
    "    print(f'{i}, {x}') # we can print out the i,x pairs using an f-string, like this\n",
    "    number_list.append(x)\n",
    "    x = (x + number_list[i-1])\n",
    "# or we can construct the dictionary {'numbers':number_list},\n",
    "# then use pd.Dataframe to construct a dataframe from the dictionary {'numbers':number_list},\n",
    "# then print our dataframe.\n",
    "dict1 = {'numbers':number_list}\n",
    "df1 = pd.DataFrame(dict1)\n",
    "print(df1)\n",
    "# print(pd.DataFrame({'numbers':number_list}))   puts the last 3 code lines into 1 line of code."
   ]
  },
  {
   "cell_type": "code",
   "execution_count": 9,
   "metadata": {},
   "outputs": [
    {
     "data": {
      "text/html": [
       "<div>\n",
       "<style scoped>\n",
       "    .dataframe tbody tr th:only-of-type {\n",
       "        vertical-align: middle;\n",
       "    }\n",
       "\n",
       "    .dataframe tbody tr th {\n",
       "        vertical-align: top;\n",
       "    }\n",
       "\n",
       "    .dataframe thead th {\n",
       "        text-align: right;\n",
       "    }\n",
       "</style>\n",
       "<table border=\"1\" class=\"dataframe\">\n",
       "  <thead>\n",
       "    <tr style=\"text-align: right;\">\n",
       "      <th></th>\n",
       "      <th>1</th>\n",
       "      <th>2</th>\n",
       "      <th>3</th>\n",
       "      <th>4</th>\n",
       "      <th>5</th>\n",
       "      <th>6</th>\n",
       "      <th>7</th>\n",
       "      <th>8</th>\n",
       "      <th>9</th>\n",
       "      <th>10</th>\n",
       "    </tr>\n",
       "  </thead>\n",
       "  <tbody>\n",
       "    <tr>\n",
       "      <th>1</th>\n",
       "      <td>1</td>\n",
       "      <td>2</td>\n",
       "      <td>3</td>\n",
       "      <td>4</td>\n",
       "      <td>5</td>\n",
       "      <td>6</td>\n",
       "      <td>7</td>\n",
       "      <td>8</td>\n",
       "      <td>9</td>\n",
       "      <td>10</td>\n",
       "    </tr>\n",
       "    <tr>\n",
       "      <th>2</th>\n",
       "      <td>2</td>\n",
       "      <td>4</td>\n",
       "      <td>6</td>\n",
       "      <td>8</td>\n",
       "      <td>10</td>\n",
       "      <td>12</td>\n",
       "      <td>14</td>\n",
       "      <td>16</td>\n",
       "      <td>18</td>\n",
       "      <td>20</td>\n",
       "    </tr>\n",
       "    <tr>\n",
       "      <th>3</th>\n",
       "      <td>3</td>\n",
       "      <td>6</td>\n",
       "      <td>9</td>\n",
       "      <td>12</td>\n",
       "      <td>15</td>\n",
       "      <td>18</td>\n",
       "      <td>21</td>\n",
       "      <td>24</td>\n",
       "      <td>27</td>\n",
       "      <td>30</td>\n",
       "    </tr>\n",
       "    <tr>\n",
       "      <th>4</th>\n",
       "      <td>4</td>\n",
       "      <td>8</td>\n",
       "      <td>12</td>\n",
       "      <td>16</td>\n",
       "      <td>20</td>\n",
       "      <td>24</td>\n",
       "      <td>28</td>\n",
       "      <td>32</td>\n",
       "      <td>36</td>\n",
       "      <td>40</td>\n",
       "    </tr>\n",
       "    <tr>\n",
       "      <th>5</th>\n",
       "      <td>5</td>\n",
       "      <td>10</td>\n",
       "      <td>15</td>\n",
       "      <td>20</td>\n",
       "      <td>25</td>\n",
       "      <td>30</td>\n",
       "      <td>35</td>\n",
       "      <td>40</td>\n",
       "      <td>45</td>\n",
       "      <td>50</td>\n",
       "    </tr>\n",
       "    <tr>\n",
       "      <th>6</th>\n",
       "      <td>6</td>\n",
       "      <td>12</td>\n",
       "      <td>18</td>\n",
       "      <td>24</td>\n",
       "      <td>30</td>\n",
       "      <td>36</td>\n",
       "      <td>42</td>\n",
       "      <td>48</td>\n",
       "      <td>54</td>\n",
       "      <td>60</td>\n",
       "    </tr>\n",
       "    <tr>\n",
       "      <th>7</th>\n",
       "      <td>7</td>\n",
       "      <td>14</td>\n",
       "      <td>21</td>\n",
       "      <td>28</td>\n",
       "      <td>35</td>\n",
       "      <td>42</td>\n",
       "      <td>49</td>\n",
       "      <td>56</td>\n",
       "      <td>63</td>\n",
       "      <td>70</td>\n",
       "    </tr>\n",
       "    <tr>\n",
       "      <th>8</th>\n",
       "      <td>8</td>\n",
       "      <td>16</td>\n",
       "      <td>24</td>\n",
       "      <td>32</td>\n",
       "      <td>40</td>\n",
       "      <td>48</td>\n",
       "      <td>56</td>\n",
       "      <td>64</td>\n",
       "      <td>72</td>\n",
       "      <td>80</td>\n",
       "    </tr>\n",
       "    <tr>\n",
       "      <th>9</th>\n",
       "      <td>9</td>\n",
       "      <td>18</td>\n",
       "      <td>27</td>\n",
       "      <td>36</td>\n",
       "      <td>45</td>\n",
       "      <td>54</td>\n",
       "      <td>63</td>\n",
       "      <td>72</td>\n",
       "      <td>81</td>\n",
       "      <td>90</td>\n",
       "    </tr>\n",
       "    <tr>\n",
       "      <th>10</th>\n",
       "      <td>10</td>\n",
       "      <td>20</td>\n",
       "      <td>30</td>\n",
       "      <td>40</td>\n",
       "      <td>50</td>\n",
       "      <td>60</td>\n",
       "      <td>70</td>\n",
       "      <td>80</td>\n",
       "      <td>90</td>\n",
       "      <td>100</td>\n",
       "    </tr>\n",
       "  </tbody>\n",
       "</table>\n",
       "</div>"
      ],
      "text/plain": [
       "    1   2   3   4   5   6   7   8   9    10\n",
       "1    1   2   3   4   5   6   7   8   9   10\n",
       "2    2   4   6   8  10  12  14  16  18   20\n",
       "3    3   6   9  12  15  18  21  24  27   30\n",
       "4    4   8  12  16  20  24  28  32  36   40\n",
       "5    5  10  15  20  25  30  35  40  45   50\n",
       "6    6  12  18  24  30  36  42  48  54   60\n",
       "7    7  14  21  28  35  42  49  56  63   70\n",
       "8    8  16  24  32  40  48  56  64  72   80\n",
       "9    9  18  27  36  45  54  63  72  81   90\n",
       "10  10  20  30  40  50  60  70  80  90  100"
      ]
     },
     "execution_count": 9,
     "metadata": {},
     "output_type": "execute_result"
    }
   ],
   "source": [
    "# Example 2\n",
    "answers = []\n",
    "times_tables = {}\n",
    "# We can do a loop INSIDE another loop! Don't think too hard about it, its the same,\n",
    "# but it runs through and finishes, then the outside loop moves on.\n",
    "for i in list(range(1,11)):\n",
    "    for j in list(range(1,11)):\n",
    "        answers.append(i * j)\n",
    "    times_tables[i] = answers\n",
    "    answers = []\n",
    "\n",
    "multiplication_table = pd.DataFrame(times_tables) # Making the dictionary into a dataframe.\n",
    "multiplication_table.index += 1 # shifting the index up by 1 to start at row 1 (not row 0) so the table is cleaner.\n",
    "multiplication_table # In Jupyter we don't HAVE to use print to display a variable."
   ]
  },
  {
   "cell_type": "code",
   "execution_count": 124,
   "metadata": {},
   "outputs": [],
   "source": [
    "# Using the examples above, in this cell use a loop to populate a dictionary that you'll then use to make a dataframe of\n",
    "# all the possible combinations of sandwiches from the following two lists. Don't think too hard, it doesn't matter\n",
    "# if combinations are repeated. You'll want the following three lines of the code at the end to format the dataframe:\n",
    "# combinations_df = (pd.DataFrame(combinations)) \n",
    "# combinations_df['topping'] = toppings\n",
    "# combinations_df.set_index('topping')\n",
    "\n",
    "spreads = ['butter', 'jam', 'peanut butter']\n",
    "toppings = ['ham', 'cheese', 'sardines']\n",
    "filling = []\n",
    "combinations = {}"
   ]
  },
  {
   "cell_type": "code",
   "execution_count": 89,
   "metadata": {},
   "outputs": [
    {
     "name": "stdout",
     "output_type": "stream",
     "text": [
      "butter ham\n",
      "butter cheese\n",
      "butter sardines\n",
      "jam ham\n",
      "jam cheese\n",
      "jam sardines\n",
      "peanut butter ham\n",
      "peanut butter cheese\n",
      "peanut butter sardines\n"
     ]
    }
   ],
   "source": [
    "# Using the examples above, in this cell use a loop to populate a dictionary that you'll then use to make a dataframe of\n",
    "# all the possible combinations of sandwiches from the following two lists. Don't think too hard, it doesn't matter\n",
    "spreads = ['butter', 'jam', 'peanut butter']\n",
    "toppings = ['ham', 'cheese', 'sardines']\n",
    "for spread in spreads:\n",
    "    for topping in toppings:\n",
    "        print(spread,topping)"
   ]
  },
  {
   "cell_type": "code",
   "execution_count": 135,
   "metadata": {},
   "outputs": [
    {
     "name": "stdout",
     "output_type": "stream",
     "text": [
      "<class 'list'>\n"
     ]
    },
    {
     "data": {
      "text/html": [
       "<div>\n",
       "<style scoped>\n",
       "    .dataframe tbody tr th:only-of-type {\n",
       "        vertical-align: middle;\n",
       "    }\n",
       "\n",
       "    .dataframe tbody tr th {\n",
       "        vertical-align: top;\n",
       "    }\n",
       "\n",
       "    .dataframe thead th {\n",
       "        text-align: right;\n",
       "    }\n",
       "</style>\n",
       "<table border=\"1\" class=\"dataframe\">\n",
       "  <thead>\n",
       "    <tr style=\"text-align: right;\">\n",
       "      <th></th>\n",
       "      <th>0</th>\n",
       "    </tr>\n",
       "  </thead>\n",
       "  <tbody>\n",
       "    <tr>\n",
       "      <th>0</th>\n",
       "      <td>butter &amp; ham</td>\n",
       "    </tr>\n",
       "    <tr>\n",
       "      <th>1</th>\n",
       "      <td>butter &amp; cheese</td>\n",
       "    </tr>\n",
       "    <tr>\n",
       "      <th>2</th>\n",
       "      <td>butter &amp; sardines</td>\n",
       "    </tr>\n",
       "    <tr>\n",
       "      <th>3</th>\n",
       "      <td>jam &amp; ham</td>\n",
       "    </tr>\n",
       "    <tr>\n",
       "      <th>4</th>\n",
       "      <td>jam &amp; cheese</td>\n",
       "    </tr>\n",
       "    <tr>\n",
       "      <th>5</th>\n",
       "      <td>jam &amp; sardines</td>\n",
       "    </tr>\n",
       "    <tr>\n",
       "      <th>6</th>\n",
       "      <td>peanut butter &amp; ham</td>\n",
       "    </tr>\n",
       "    <tr>\n",
       "      <th>7</th>\n",
       "      <td>peanut butter &amp; cheese</td>\n",
       "    </tr>\n",
       "    <tr>\n",
       "      <th>8</th>\n",
       "      <td>peanut butter &amp; sardines</td>\n",
       "    </tr>\n",
       "  </tbody>\n",
       "</table>\n",
       "</div>"
      ],
      "text/plain": [
       "                          0\n",
       "0              butter & ham\n",
       "1           butter & cheese\n",
       "2         butter & sardines\n",
       "3                 jam & ham\n",
       "4              jam & cheese\n",
       "5            jam & sardines\n",
       "6       peanut butter & ham\n",
       "7    peanut butter & cheese\n",
       "8  peanut butter & sardines"
      ]
     },
     "execution_count": 135,
     "metadata": {},
     "output_type": "execute_result"
    }
   ],
   "source": [
    "# Using the examples above, in this cell use a loop to populate a dictionary that you'll then use to make a dataframe of\n",
    "# all the possible combinations of sandwiches from the following two lists. Don't think too hard, it doesn't matter\n",
    "# if combinations are repeated.\n",
    "# At the end, use the following three lines of code  to format the dataframe\n",
    "# combinations_df = (pd.DataFrame(combinations)) \n",
    "# combinations_df['topping'] = toppings\n",
    "# combinations_df.set_index('topping')\n",
    "\n",
    "spreads = ['butter', 'jam', 'peanut butter']\n",
    "toppings = ['ham', 'cheese', 'sardines']\n",
    "filling = []\n",
    "# filling is an empty list at this point, we are going to populate it\n",
    "for spread in spreads:\n",
    "    for topping in toppings:\n",
    "        filling.append(f'{spread} & {topping}')\n",
    "print(type(filling))\n",
    "# we now turn filling from a list into a Dataframe\n",
    "combinations = pd.DataFrame(filling)\n",
    "combinations"
   ]
  },
  {
   "cell_type": "code",
   "execution_count": 11,
   "metadata": {},
   "outputs": [
    {
     "name": "stdout",
     "output_type": "stream",
     "text": [
      "               Name   Period  House price index All property types  \\\n",
      "0    United Kingdom  1980-01                                 10.11   \n",
      "1    United Kingdom  1980-02                                 10.11   \n",
      "2    United Kingdom  1980-03                                 10.11   \n",
      "3    United Kingdom  1980-04                                 10.51   \n",
      "4    United Kingdom  1980-05                                 10.51   \n",
      "..              ...      ...                                   ...   \n",
      "518  United Kingdom  2023-03                                148.20   \n",
      "519  United Kingdom  2023-04                                148.90   \n",
      "520  United Kingdom  2023-05                                149.50   \n",
      "521  United Kingdom  2023-06                                151.20   \n",
      "522  United Kingdom  2023-07                                152.00   \n",
      "\n",
      "     Average price All property types  \\\n",
      "0                               19273   \n",
      "1                               19273   \n",
      "2                               19273   \n",
      "3                               20044   \n",
      "4                               20044   \n",
      "..                                ...   \n",
      "518                            282548   \n",
      "519                            283871   \n",
      "520                            285053   \n",
      "521                            288281   \n",
      "522                            289824   \n",
      "\n",
      "     Percentage change (monthly) All property types  \\\n",
      "0                                              3.94   \n",
      "1                                              3.94   \n",
      "2                                              3.94   \n",
      "3                                              4.00   \n",
      "4                                              4.00   \n",
      "..                                              ...   \n",
      "518                                           -1.00   \n",
      "519                                            0.50   \n",
      "520                                            0.40   \n",
      "521                                            1.10   \n",
      "522                                            0.50   \n",
      "\n",
      "     Percentage change (yearly) All property types  \n",
      "0                                            28.59  \n",
      "1                                            28.59  \n",
      "2                                            28.59  \n",
      "3                                            24.15  \n",
      "4                                            24.15  \n",
      "..                                             ...  \n",
      "518                                           3.20  \n",
      "519                                           2.50  \n",
      "520                                           1.60  \n",
      "521                                           1.90  \n",
      "522                                           0.60  \n",
      "\n",
      "[523 rows x 6 columns]\n"
     ]
    }
   ],
   "source": [
    "# start of notes taken by MN during Session\n",
    "## see screenshots taken by MN from Session 3, they will help generally\n",
    "import pandas as pd\n",
    "import numpy as np\n",
    "import os\n",
    "\n",
    "filename = 'https://raw.githubusercontent.com/data-to-insight/ERN-sessions/main/data/1980%202023%20average%20house%20prices.csv'\n",
    "df = pd.read_csv(filename)\n",
    "print(df)"
   ]
  },
  {
   "cell_type": "code",
   "execution_count": 12,
   "metadata": {},
   "outputs": [
    {
     "name": "stdout",
     "output_type": "stream",
     "text": [
      "             Name     Period  House price index All property types  \\\n",
      "0  United Kingdom 1980-01-01                                 10.11   \n",
      "\n",
      "   Average price All property types  \\\n",
      "0                             19273   \n",
      "\n",
      "   Percentage change (monthly) All property types  \\\n",
      "0                                            3.94   \n",
      "\n",
      "   Percentage change (yearly) All property types  Age of Data (Years)  \n",
      "0                                          28.59                   44  \n"
     ]
    }
   ],
   "source": [
    "import pandas as pd\n",
    "import numpy as np\n",
    "\n",
    "# 01/01/2000\n",
    "# %d/%m/%Y\n",
    "# strftime\n",
    "# %b month but with local shortening e.g. jan\n",
    "# %B full month name e.g. January\n",
    "# N.B. coerce function is used here\n",
    "# I think Will said the 'normalize' function puts all date/time values to 00:00 (12am midnight)\n",
    "df['Period'] = pd.to_datetime(df['Period'], format='%Y-%m', errors='coerce')\n",
    "\n",
    "df['Age of Data (Years)'] = pd.to_datetime('today').normalize() - df['Period']\n",
    "\n",
    "df['Age of Data (Years)'] = (df['Age of Data (Years)'] / pd.Timedelta('365 days')).astype('int')\n",
    "# in other versions of Python this would work here instead:\n",
    "# df['Age of Data (Years)'] = (df['Age of Data (Years)'] / np.timedelta64(1, 'Y')).astype('int')\n",
    "print(df.head(1))"
   ]
  },
  {
   "cell_type": "code",
   "execution_count": 13,
   "metadata": {},
   "outputs": [
    {
     "name": "stdout",
     "output_type": "stream",
     "text": [
      "     Unnamed: 0        LAchildID            UPN  FormerUPN  UPNunknown  \\\n",
      "0             0  RND000215205141  A850728973744        NaN         NaN   \n",
      "1             1  RND000824303014  A141396438491        NaN         NaN   \n",
      "2             2  RND000750143123  A929946861554        NaN         NaN   \n",
      "3             3  RND000909164501  A612330267292        NaN         NaN   \n",
      "4             4  RND000382171815  A604459366806        NaN         NaN   \n",
      "..          ...              ...            ...        ...         ...   \n",
      "327         327  RND000112711501  A465246916125        NaN         NaN   \n",
      "328         328  RND000513120794  A540014111973        NaN         NaN   \n",
      "329         329  RND000541643134  A549582689058        NaN         NaN   \n",
      "330         330  RND000404939452  A889492349196        NaN         NaN   \n",
      "331         331  RND000589802835  A877624860226        NaN         NaN   \n",
      "\n",
      "    PersonBirthDate ExpectedPersonBirthDate  GenderCurrent PersonDeathDate  \n",
      "0        2019-12-06                     NaN              1             NaN  \n",
      "1        2011-04-27                     NaN              9             NaN  \n",
      "2        2017-06-06              2019-12-06              1             NaN  \n",
      "3        2014-10-03                     NaN              0             NaN  \n",
      "4        2019-09-25                     NaN              2             NaN  \n",
      "..              ...                     ...            ...             ...  \n",
      "327      2010-07-07                     NaN              2             NaN  \n",
      "328      2018-08-14                     NaN              2             NaN  \n",
      "329      2021-12-09                     NaN             51             NaN  \n",
      "330      2013-07-23                     NaN              2             NaN  \n",
      "331      2021-10-25                     NaN              9             NaN  \n",
      "\n",
      "[332 rows x 9 columns]\n"
     ]
    }
   ],
   "source": [
    "import pandas as pd\n",
    "import numpy as np\n",
    "fileraw = 'https://raw.githubusercontent.com/data-to-insight/ERN-sessions/main/data/ChildIdentifiers.csv'\n",
    "df2 = pd.read_csv(fileraw)\n",
    "print(df2)"
   ]
  },
  {
   "cell_type": "code",
   "execution_count": 14,
   "metadata": {},
   "outputs": [
    {
     "name": "stdout",
     "output_type": "stream",
     "text": [
      "           LAchildID PersonBirthDate  GenderCurrent  Age\n",
      "0    RND000215205141      2019-12-06              1    4\n",
      "1    RND000824303014      2011-04-27              9   12\n",
      "2    RND000750143123      2017-06-06              1    6\n",
      "3    RND000909164501      2014-10-03              0    9\n",
      "4    RND000382171815      2019-09-25              2    4\n",
      "..               ...             ...            ...  ...\n",
      "327  RND000112711501      2010-07-07              2   13\n",
      "328  RND000513120794      2018-08-14              2    5\n",
      "329  RND000541643134      2021-12-09             51    2\n",
      "330  RND000404939452      2013-07-23              2   10\n",
      "331  RND000589802835      2021-10-25              9    2\n",
      "\n",
      "[332 rows x 4 columns]\n"
     ]
    }
   ],
   "source": [
    "# this code posted in chat by will, it relates to the ChildIdentifiers.csv dataset\n",
    "df2 = df2[['LAchildID', 'PersonBirthDate', 'GenderCurrent']]\n",
    "df2['PersonBirthDate'] = pd.to_datetime(df2['PersonBirthDate'], format='%Y-%m-%d', errors='coerce')\n",
    "df2['Age'] = pd.to_datetime('today').normalize() - df2['PersonBirthDate']\n",
    "df2['Age'] = (df2['Age'] / pd.Timedelta('365 days')).astype('int')\n",
    "print(df2)"
   ]
  },
  {
   "cell_type": "code",
   "execution_count": 15,
   "metadata": {},
   "outputs": [
    {
     "name": "stdout",
     "output_type": "stream",
     "text": [
      "           LAchildID PersonBirthDate GenderCurrent  Age\n",
      "0    RND000215205141      2019-12-06          Male    4\n",
      "1    RND000824303014      2011-04-27       unknown   12\n",
      "2    RND000750143123      2017-06-06          Male    6\n",
      "3    RND000909164501      2014-10-03       unknown    9\n",
      "4    RND000382171815      2019-09-25        Female    4\n",
      "..               ...             ...           ...  ...\n",
      "327  RND000112711501      2010-07-07        Female   13\n",
      "328  RND000513120794      2018-08-14        Female    5\n",
      "329  RND000541643134      2021-12-09           NaN    2\n",
      "330  RND000404939452      2013-07-23        Female   10\n",
      "331  RND000589802835      2021-10-25       unknown    2\n",
      "\n",
      "[332 rows x 4 columns]\n"
     ]
    }
   ],
   "source": [
    "gender_map = {1:'Male',\n",
    "              2:'Female',\n",
    "              0:'unknown',\n",
    "              9:'unknown',}\n",
    "df2['GenderCurrent'] = df2['GenderCurrent'].map(gender_map)\n",
    "print(df2)"
   ]
  },
  {
   "cell_type": "code",
   "execution_count": 16,
   "metadata": {},
   "outputs": [
    {
     "name": "stdout",
     "output_type": "stream",
     "text": [
      "           LAchildID PersonBirthDate GenderCurrent  Age\n",
      "23   RND000576956056      2004-11-12       unknown   19\n",
      "45   RND000676691998      2004-12-05       unknown   19\n",
      "46   RND000702784676      2004-09-15       unknown   19\n",
      "61   RND000235844862      2004-08-23          Male   19\n",
      "68   RND000075046261      2004-10-07       unknown   19\n",
      "69   RND000241874800      2004-08-26          Male   19\n",
      "71   RND000989010565      2005-02-09       unknown   19\n",
      "106  RND000859630907      2004-09-10          Male   19\n",
      "107  RND000751235542      2004-10-28       unknown   19\n",
      "139  RND000972628432      2004-08-20       unknown   19\n",
      "196  RND000813949639      2005-01-26        Female   19\n",
      "197  RND000784759216      2004-09-01          Male   19\n",
      "227  RND000482971048      2004-11-04        Female   19\n",
      "261  RND000190463499      2004-12-01        Female   19\n"
     ]
    }
   ],
   "source": [
    "# introducing more operators\n",
    "# ==  equal to\n",
    "# !=  not equal to\n",
    "# ~   NOT\n",
    "# &   AND\n",
    "# |   OR\n",
    "# > greater than\n",
    "# < less than\n",
    "# >= greater than or equal to\n",
    "# <= less than or equal to\n",
    "# % is a modulo operator, it gives the remainder when i is divided by e.g. 2 in this example\n",
    "\n",
    "over_18_cond = df2['Age'] > 18\n",
    "sliced_df2 = df2[over_18_cond]\n",
    "# i.e. sliced_df2 = df2[df2['Age'] > 18]  if doing in 1 step\n",
    "print(sliced_df2)"
   ]
  },
  {
   "cell_type": "code",
   "execution_count": 17,
   "metadata": {},
   "outputs": [
    {
     "name": "stdout",
     "output_type": "stream",
     "text": [
      "           LAchildID PersonBirthDate GenderCurrent  Age\n",
      "61   RND000235844862      2004-08-23          Male   19\n",
      "69   RND000241874800      2004-08-26          Male   19\n",
      "106  RND000859630907      2004-09-10          Male   19\n",
      "197  RND000784759216      2004-09-01          Male   19\n",
      "           LAchildID PersonBirthDate GenderCurrent  Age\n",
      "0    RND000215205141      2019-12-06          Male    4\n",
      "1    RND000824303014      2011-04-27       unknown   12\n",
      "2    RND000750143123      2017-06-06          Male    6\n",
      "3    RND000909164501      2014-10-03       unknown    9\n",
      "4    RND000382171815      2019-09-25        Female    4\n",
      "..               ...             ...           ...  ...\n",
      "327  RND000112711501      2010-07-07        Female   13\n",
      "328  RND000513120794      2018-08-14        Female    5\n",
      "329  RND000541643134      2021-12-09           NaN    2\n",
      "330  RND000404939452      2013-07-23        Female   10\n",
      "331  RND000589802835      2021-10-25       unknown    2\n",
      "\n",
      "[325 rows x 4 columns]\n"
     ]
    }
   ],
   "source": [
    "# using the new operators introduced above\n",
    "over_18_or_male_condition = df2['Age'] > 18 | (df2['GenderCurrent'] == 'Male')\n",
    "over_18_or_male = df2[over_18_or_male_condition]\n",
    "over_18_male_condition = (df2['Age'] > 18) & (df2['GenderCurrent'] == 'Male')\n",
    "over_18_male = df2[over_18_male_condition]\n",
    "print(over_18_male)\n",
    "print(over_18_or_male)"
   ]
  },
  {
   "cell_type": "code",
   "execution_count": 18,
   "metadata": {},
   "outputs": [
    {
     "name": "stdout",
     "output_type": "stream",
     "text": [
      "           LAchildID PersonBirthDate GenderCurrent  Age\n",
      "0    RND000215205141      2019-12-06          male    4\n",
      "2    RND000750143123      2017-06-06          male    6\n",
      "4    RND000382171815      2019-09-25        female    4\n",
      "6    RND000852873211      2013-01-19        female   11\n",
      "7    RND000756924984      2021-04-04        female    2\n",
      "..               ...             ...           ...  ...\n",
      "323  RND000044483554      2020-06-16          male    3\n",
      "324  RND000110305262      2022-06-13          male    1\n",
      "327  RND000112711501      2010-07-07        female   13\n",
      "328  RND000513120794      2018-08-14        female    5\n",
      "330  RND000404939452      2013-07-23        female   10\n",
      "\n",
      "[153 rows x 4 columns]\n"
     ]
    }
   ],
   "source": [
    "# Exercise\n",
    "# print the dataframe where\n",
    "# a) everyone is 15 or under OR male\n",
    "# b) everyone is 15 or over OR female\n",
    "condition_1 = (df2['Age'] <= 15 | (df2['GenderCurrent'] == 'Male'))\n",
    "df2_1 = df2[condition_1]\n",
    "condition_2 = (df2['Age'] >= 15 | (df2['GenderCurrent'] == 'Female'))\n",
    "df2_2 = df2[condition_2]\n",
    "condition_3 = ~(df2['Age'] >= 15)\n",
    "\n",
    "df2['GenderCurrent'] = df2['GenderCurrent'].str.lower()\n",
    "condition_4 = df2['GenderCurrent'].str.lower() == 'male'\n",
    "condition_5 = (df2['GenderCurrent'] == 'male') | (df2['GenderCurrent'] == 'female')\n",
    "condition_6 = df2['GenderCurrent'].isin(['male','female'])\n",
    "condition_7 = df2[df2['GenderCurrent'].str.contains('m') & df2['GenderCurrent'].notna()]\n",
    "print(condition_7)\n",
    "               "
   ]
  },
  {
   "cell_type": "code",
   "execution_count": 19,
   "metadata": {},
   "outputs": [],
   "source": [
    "# Session 3 Group work\n",
    "# Work out how to use zip() to collect elements from two lists together and use a loop to print them\n",
    "# element-wise, so, if I had 1, 2, 3, 4, 5 and a, b, c, d, e stored as seprate lists, my loop would \n",
    "# print a1, b2, etc. Initialise two variables, one a list of first names and one a list of surnames of\n",
    "# everyone in the group. Next, use nested loops to print all the different first/last name combinations.\n",
    "# Write a for loop that takes a list of numbers, finds the square of each, and adds the squares to a new\n",
    "# list that starts empty. Write a loop that sums all the numbers up to 100, and assigns the answer to a variable."
   ]
  }
 ],
 "metadata": {
  "kernelspec": {
   "display_name": "Python 3",
   "language": "python",
   "name": "python3"
  },
  "language_info": {
   "codemirror_mode": {
    "name": "ipython",
    "version": 3
   },
   "file_extension": ".py",
   "mimetype": "text/x-python",
   "name": "python",
   "nbconvert_exporter": "python",
   "pygments_lexer": "ipython3",
   "version": "3.10.13"
  }
 },
 "nbformat": 4,
 "nbformat_minor": 2
}
